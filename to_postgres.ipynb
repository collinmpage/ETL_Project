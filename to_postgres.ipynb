{
 "metadata": {
  "language_info": {
   "codemirror_mode": {
    "name": "ipython",
    "version": 3
   },
   "file_extension": ".py",
   "mimetype": "text/x-python",
   "name": "python",
   "nbconvert_exporter": "python",
   "pygments_lexer": "ipython3",
   "version": "3.8.3-final"
  },
  "orig_nbformat": 2,
  "kernelspec": {
   "name": "python3",
   "display_name": "Python 3.8.3 64-bit ('Collin': virtualenv)",
   "metadata": {
    "interpreter": {
     "hash": "667d68cf64111410b72a441283a6209b2544c5e684c2c1a9bfefef12f60b6f38"
    }
   }
  }
 },
 "nbformat": 4,
 "nbformat_minor": 2,
 "cells": [
  {
   "cell_type": "code",
   "execution_count": 11,
   "metadata": {},
   "outputs": [],
   "source": [
    "import pandas as pd\n",
    "from sqlalchemy import create_engine"
   ]
  },
  {
   "cell_type": "code",
   "execution_count": 12,
   "metadata": {},
   "outputs": [
    {
     "output_type": "execute_result",
     "data": {
      "text/plain": [
       "   yearID teamID lgID   playerID  salary            name franchID\n",
       "0    1985    ATL   NL  barkele01  870000  Atlanta Braves      ATL\n",
       "1    1985    ATL   NL  bedrost01  550000  Atlanta Braves      ATL\n",
       "2    1985    ATL   NL  benedbr01  545000  Atlanta Braves      ATL\n",
       "3    1985    ATL   NL   campri01  633333  Atlanta Braves      ATL\n",
       "4    1985    ATL   NL  ceronri01  625000  Atlanta Braves      ATL"
      ],
      "text/html": "<div>\n<style scoped>\n    .dataframe tbody tr th:only-of-type {\n        vertical-align: middle;\n    }\n\n    .dataframe tbody tr th {\n        vertical-align: top;\n    }\n\n    .dataframe thead th {\n        text-align: right;\n    }\n</style>\n<table border=\"1\" class=\"dataframe\">\n  <thead>\n    <tr style=\"text-align: right;\">\n      <th></th>\n      <th>yearID</th>\n      <th>teamID</th>\n      <th>lgID</th>\n      <th>playerID</th>\n      <th>salary</th>\n      <th>name</th>\n      <th>franchID</th>\n    </tr>\n  </thead>\n  <tbody>\n    <tr>\n      <th>0</th>\n      <td>1985</td>\n      <td>ATL</td>\n      <td>NL</td>\n      <td>barkele01</td>\n      <td>870000</td>\n      <td>Atlanta Braves</td>\n      <td>ATL</td>\n    </tr>\n    <tr>\n      <th>1</th>\n      <td>1985</td>\n      <td>ATL</td>\n      <td>NL</td>\n      <td>bedrost01</td>\n      <td>550000</td>\n      <td>Atlanta Braves</td>\n      <td>ATL</td>\n    </tr>\n    <tr>\n      <th>2</th>\n      <td>1985</td>\n      <td>ATL</td>\n      <td>NL</td>\n      <td>benedbr01</td>\n      <td>545000</td>\n      <td>Atlanta Braves</td>\n      <td>ATL</td>\n    </tr>\n    <tr>\n      <th>3</th>\n      <td>1985</td>\n      <td>ATL</td>\n      <td>NL</td>\n      <td>campri01</td>\n      <td>633333</td>\n      <td>Atlanta Braves</td>\n      <td>ATL</td>\n    </tr>\n    <tr>\n      <th>4</th>\n      <td>1985</td>\n      <td>ATL</td>\n      <td>NL</td>\n      <td>ceronri01</td>\n      <td>625000</td>\n      <td>Atlanta Braves</td>\n      <td>ATL</td>\n    </tr>\n  </tbody>\n</table>\n</div>"
     },
     "metadata": {},
     "execution_count": 12
    }
   ],
   "source": [
    "final_salaries_by_team = 'alec-work/output_csv/final_salaries_team_names_1985_to_2015.csv'\n",
    "final_salaries_by_team_df = pd.read_csv(final_salaries_by_team)\n",
    "final_salaries_by_team_df.head()"
   ]
  },
  {
   "cell_type": "code",
   "execution_count": 13,
   "metadata": {},
   "outputs": [
    {
     "output_type": "execute_result",
     "data": {
      "text/plain": [
       "   Year Team ID            Team Name  Games  Wins  Loses  Team Salary\n",
       "0  1985     SLN  St. Louis Cardinals    162   101     61     11817083\n",
       "1  1985     TOR    Toronto Blue Jays    161    99     62      8812550\n",
       "2  1985     NYN        New York Mets    162    98     64     10834762\n",
       "3  1985     NYA     New York Yankees    161    97     64     14238204\n",
       "4  1985     LAN  Los Angeles Dodgers    162    95     67     10967917"
      ],
      "text/html": "<div>\n<style scoped>\n    .dataframe tbody tr th:only-of-type {\n        vertical-align: middle;\n    }\n\n    .dataframe tbody tr th {\n        vertical-align: top;\n    }\n\n    .dataframe thead th {\n        text-align: right;\n    }\n</style>\n<table border=\"1\" class=\"dataframe\">\n  <thead>\n    <tr style=\"text-align: right;\">\n      <th></th>\n      <th>Year</th>\n      <th>Team ID</th>\n      <th>Team Name</th>\n      <th>Games</th>\n      <th>Wins</th>\n      <th>Loses</th>\n      <th>Team Salary</th>\n    </tr>\n  </thead>\n  <tbody>\n    <tr>\n      <th>0</th>\n      <td>1985</td>\n      <td>SLN</td>\n      <td>St. Louis Cardinals</td>\n      <td>162</td>\n      <td>101</td>\n      <td>61</td>\n      <td>11817083</td>\n    </tr>\n    <tr>\n      <th>1</th>\n      <td>1985</td>\n      <td>TOR</td>\n      <td>Toronto Blue Jays</td>\n      <td>161</td>\n      <td>99</td>\n      <td>62</td>\n      <td>8812550</td>\n    </tr>\n    <tr>\n      <th>2</th>\n      <td>1985</td>\n      <td>NYN</td>\n      <td>New York Mets</td>\n      <td>162</td>\n      <td>98</td>\n      <td>64</td>\n      <td>10834762</td>\n    </tr>\n    <tr>\n      <th>3</th>\n      <td>1985</td>\n      <td>NYA</td>\n      <td>New York Yankees</td>\n      <td>161</td>\n      <td>97</td>\n      <td>64</td>\n      <td>14238204</td>\n    </tr>\n    <tr>\n      <th>4</th>\n      <td>1985</td>\n      <td>LAN</td>\n      <td>Los Angeles Dodgers</td>\n      <td>162</td>\n      <td>95</td>\n      <td>67</td>\n      <td>10967917</td>\n    </tr>\n  </tbody>\n</table>\n</div>"
     },
     "metadata": {},
     "execution_count": 13
    }
   ],
   "source": [
    "team_wins_salary_1985 = 'alec-work/output_csv/Teams_Wins_Salary_1985.csv'\n",
    "team_salary_1985_df = pd.read_csv(team_wins_salary_1985)\n",
    "team_salary_1985_df.head()"
   ]
  },
  {
   "cell_type": "code",
   "execution_count": 14,
   "metadata": {},
   "outputs": [
    {
     "output_type": "execute_result",
     "data": {
      "text/plain": [
       "   Year Team ID            Team Name  Games  Wins  Loses  Team Salary\n",
       "0  1985     SLN  St. Louis Cardinals    162   101     61     11817083\n",
       "1  1985     TOR    Toronto Blue Jays    161    99     62      8812550\n",
       "2  1985     NYN        New York Mets    162    98     64     10834762\n",
       "3  1985     NYA     New York Yankees    161    97     64     14238204\n",
       "4  1985     LAN  Los Angeles Dodgers    162    95     67     10967917"
      ],
      "text/html": "<div>\n<style scoped>\n    .dataframe tbody tr th:only-of-type {\n        vertical-align: middle;\n    }\n\n    .dataframe tbody tr th {\n        vertical-align: top;\n    }\n\n    .dataframe thead th {\n        text-align: right;\n    }\n</style>\n<table border=\"1\" class=\"dataframe\">\n  <thead>\n    <tr style=\"text-align: right;\">\n      <th></th>\n      <th>Year</th>\n      <th>Team ID</th>\n      <th>Team Name</th>\n      <th>Games</th>\n      <th>Wins</th>\n      <th>Loses</th>\n      <th>Team Salary</th>\n    </tr>\n  </thead>\n  <tbody>\n    <tr>\n      <th>0</th>\n      <td>1985</td>\n      <td>SLN</td>\n      <td>St. Louis Cardinals</td>\n      <td>162</td>\n      <td>101</td>\n      <td>61</td>\n      <td>11817083</td>\n    </tr>\n    <tr>\n      <th>1</th>\n      <td>1985</td>\n      <td>TOR</td>\n      <td>Toronto Blue Jays</td>\n      <td>161</td>\n      <td>99</td>\n      <td>62</td>\n      <td>8812550</td>\n    </tr>\n    <tr>\n      <th>2</th>\n      <td>1985</td>\n      <td>NYN</td>\n      <td>New York Mets</td>\n      <td>162</td>\n      <td>98</td>\n      <td>64</td>\n      <td>10834762</td>\n    </tr>\n    <tr>\n      <th>3</th>\n      <td>1985</td>\n      <td>NYA</td>\n      <td>New York Yankees</td>\n      <td>161</td>\n      <td>97</td>\n      <td>64</td>\n      <td>14238204</td>\n    </tr>\n    <tr>\n      <th>4</th>\n      <td>1985</td>\n      <td>LAN</td>\n      <td>Los Angeles Dodgers</td>\n      <td>162</td>\n      <td>95</td>\n      <td>67</td>\n      <td>10967917</td>\n    </tr>\n  </tbody>\n</table>\n</div>"
     },
     "metadata": {},
     "execution_count": 14
    }
   ],
   "source": [
    "team_wins_salary_2015 = 'alec-work/output_csv/Teams_Wins_Salary_2015.csv'\n",
    "team_salary_2015_df = pd.read_csv(team_wins_salary_1985)\n",
    "team_salary_2015_df.head()"
   ]
  },
  {
   "cell_type": "code",
   "execution_count": 16,
   "metadata": {},
   "outputs": [
    {
     "output_type": "execute_result",
     "data": {
      "text/plain": [
       "   Unnamed: 0  Year Team ID          Team Name  Games  Wins  Loses\n",
       "0           0  1985     ATL     Atlanta Braves    162    66     96\n",
       "1           1  1985     BAL  Baltimore Orioles    161    83     78\n",
       "2           2  1985     BOS     Boston Red Sox    163    81     81\n",
       "3           3  1985     CAL  California Angels    162    90     72\n",
       "4           4  1985     CHA  Chicago White Sox    163    85     77"
      ],
      "text/html": "<div>\n<style scoped>\n    .dataframe tbody tr th:only-of-type {\n        vertical-align: middle;\n    }\n\n    .dataframe tbody tr th {\n        vertical-align: top;\n    }\n\n    .dataframe thead th {\n        text-align: right;\n    }\n</style>\n<table border=\"1\" class=\"dataframe\">\n  <thead>\n    <tr style=\"text-align: right;\">\n      <th></th>\n      <th>Unnamed: 0</th>\n      <th>Year</th>\n      <th>Team ID</th>\n      <th>Team Name</th>\n      <th>Games</th>\n      <th>Wins</th>\n      <th>Loses</th>\n    </tr>\n  </thead>\n  <tbody>\n    <tr>\n      <th>0</th>\n      <td>0</td>\n      <td>1985</td>\n      <td>ATL</td>\n      <td>Atlanta Braves</td>\n      <td>162</td>\n      <td>66</td>\n      <td>96</td>\n    </tr>\n    <tr>\n      <th>1</th>\n      <td>1</td>\n      <td>1985</td>\n      <td>BAL</td>\n      <td>Baltimore Orioles</td>\n      <td>161</td>\n      <td>83</td>\n      <td>78</td>\n    </tr>\n    <tr>\n      <th>2</th>\n      <td>2</td>\n      <td>1985</td>\n      <td>BOS</td>\n      <td>Boston Red Sox</td>\n      <td>163</td>\n      <td>81</td>\n      <td>81</td>\n    </tr>\n    <tr>\n      <th>3</th>\n      <td>3</td>\n      <td>1985</td>\n      <td>CAL</td>\n      <td>California Angels</td>\n      <td>162</td>\n      <td>90</td>\n      <td>72</td>\n    </tr>\n    <tr>\n      <th>4</th>\n      <td>4</td>\n      <td>1985</td>\n      <td>CHA</td>\n      <td>Chicago White Sox</td>\n      <td>163</td>\n      <td>85</td>\n      <td>77</td>\n    </tr>\n  </tbody>\n</table>\n</div>"
     },
     "metadata": {},
     "execution_count": 16
    }
   ],
   "source": [
    "cleaned_teams = 'collin-work/output_csv/Cleaned_Teams_info.csv'\n",
    "cleaned_teams_df = pd.read_csv(cleaned_teams)\n",
    "cleaned_teams_df.head()"
   ]
  },
  {
   "cell_type": "code",
   "execution_count": 17,
   "metadata": {},
   "outputs": [
    {
     "output_type": "execute_result",
     "data": {
      "text/plain": [
       "   Unnamed: 0  Year Team ID       Team Name  Games  Wins  Loses lgID  \\\n",
       "0           0  1985     ATL  Atlanta Braves    162    66     96   NL   \n",
       "1           1  1985     ATL  Atlanta Braves    162    66     96   NL   \n",
       "2           2  1985     ATL  Atlanta Braves    162    66     96   NL   \n",
       "3           3  1985     ATL  Atlanta Braves    162    66     96   NL   \n",
       "4           4  1985     ATL  Atlanta Braves    162    66     96   NL   \n",
       "\n",
       "    playerID  salary  \n",
       "0  barkele01  870000  \n",
       "1  bedrost01  550000  \n",
       "2  benedbr01  545000  \n",
       "3   campri01  633333  \n",
       "4  ceronri01  625000  "
      ],
      "text/html": "<div>\n<style scoped>\n    .dataframe tbody tr th:only-of-type {\n        vertical-align: middle;\n    }\n\n    .dataframe tbody tr th {\n        vertical-align: top;\n    }\n\n    .dataframe thead th {\n        text-align: right;\n    }\n</style>\n<table border=\"1\" class=\"dataframe\">\n  <thead>\n    <tr style=\"text-align: right;\">\n      <th></th>\n      <th>Unnamed: 0</th>\n      <th>Year</th>\n      <th>Team ID</th>\n      <th>Team Name</th>\n      <th>Games</th>\n      <th>Wins</th>\n      <th>Loses</th>\n      <th>lgID</th>\n      <th>playerID</th>\n      <th>salary</th>\n    </tr>\n  </thead>\n  <tbody>\n    <tr>\n      <th>0</th>\n      <td>0</td>\n      <td>1985</td>\n      <td>ATL</td>\n      <td>Atlanta Braves</td>\n      <td>162</td>\n      <td>66</td>\n      <td>96</td>\n      <td>NL</td>\n      <td>barkele01</td>\n      <td>870000</td>\n    </tr>\n    <tr>\n      <th>1</th>\n      <td>1</td>\n      <td>1985</td>\n      <td>ATL</td>\n      <td>Atlanta Braves</td>\n      <td>162</td>\n      <td>66</td>\n      <td>96</td>\n      <td>NL</td>\n      <td>bedrost01</td>\n      <td>550000</td>\n    </tr>\n    <tr>\n      <th>2</th>\n      <td>2</td>\n      <td>1985</td>\n      <td>ATL</td>\n      <td>Atlanta Braves</td>\n      <td>162</td>\n      <td>66</td>\n      <td>96</td>\n      <td>NL</td>\n      <td>benedbr01</td>\n      <td>545000</td>\n    </tr>\n    <tr>\n      <th>3</th>\n      <td>3</td>\n      <td>1985</td>\n      <td>ATL</td>\n      <td>Atlanta Braves</td>\n      <td>162</td>\n      <td>66</td>\n      <td>96</td>\n      <td>NL</td>\n      <td>campri01</td>\n      <td>633333</td>\n    </tr>\n    <tr>\n      <th>4</th>\n      <td>4</td>\n      <td>1985</td>\n      <td>ATL</td>\n      <td>Atlanta Braves</td>\n      <td>162</td>\n      <td>66</td>\n      <td>96</td>\n      <td>NL</td>\n      <td>ceronri01</td>\n      <td>625000</td>\n    </tr>\n  </tbody>\n</table>\n</div>"
     },
     "metadata": {},
     "execution_count": 17
    }
   ],
   "source": [
    "combined_info = 'collin-work/output_csv/combined_info.csv'\n",
    "combined_info_df = pd.read_csv(combined_info)\n",
    "combined_info_df.head()"
   ]
  },
  {
   "cell_type": "code",
   "execution_count": 21,
   "metadata": {},
   "outputs": [],
   "source": [
    "rds_connection_string = \"postgres:{postgrespassword}@localhost:5432/baseball_salary_stats_db\"\n",
    "engine = create_engine(f'postgresql://{rds_connection_string}')"
   ]
  },
  {
   "cell_type": "code",
   "execution_count": 22,
   "metadata": {},
   "outputs": [
    {
     "output_type": "execute_result",
     "data": {
      "text/plain": [
       "[]"
      ]
     },
     "metadata": {},
     "execution_count": 22
    }
   ],
   "source": [
    "engine.table_names()"
   ]
  },
  {
   "cell_type": "code",
   "execution_count": 24,
   "metadata": {},
   "outputs": [],
   "source": [
    "final_salaries_by_team_df.to_sql(name='final_salaries_by_team', con=engine, if_exists='append', index=False)"
   ]
  },
  {
   "cell_type": "code",
   "execution_count": 29,
   "metadata": {},
   "outputs": [
    {
     "output_type": "execute_result",
     "data": {
      "text/plain": [
       "   yearID teamID lgID   playerID  salary            name franchID\n",
       "0    1985    ATL   NL  barkele01  870000  Atlanta Braves      ATL\n",
       "1    1985    ATL   NL  bedrost01  550000  Atlanta Braves      ATL\n",
       "2    1985    ATL   NL  benedbr01  545000  Atlanta Braves      ATL\n",
       "3    1985    ATL   NL   campri01  633333  Atlanta Braves      ATL\n",
       "4    1985    ATL   NL  ceronri01  625000  Atlanta Braves      ATL"
      ],
      "text/html": "<div>\n<style scoped>\n    .dataframe tbody tr th:only-of-type {\n        vertical-align: middle;\n    }\n\n    .dataframe tbody tr th {\n        vertical-align: top;\n    }\n\n    .dataframe thead th {\n        text-align: right;\n    }\n</style>\n<table border=\"1\" class=\"dataframe\">\n  <thead>\n    <tr style=\"text-align: right;\">\n      <th></th>\n      <th>yearID</th>\n      <th>teamID</th>\n      <th>lgID</th>\n      <th>playerID</th>\n      <th>salary</th>\n      <th>name</th>\n      <th>franchID</th>\n    </tr>\n  </thead>\n  <tbody>\n    <tr>\n      <th>0</th>\n      <td>1985</td>\n      <td>ATL</td>\n      <td>NL</td>\n      <td>barkele01</td>\n      <td>870000</td>\n      <td>Atlanta Braves</td>\n      <td>ATL</td>\n    </tr>\n    <tr>\n      <th>1</th>\n      <td>1985</td>\n      <td>ATL</td>\n      <td>NL</td>\n      <td>bedrost01</td>\n      <td>550000</td>\n      <td>Atlanta Braves</td>\n      <td>ATL</td>\n    </tr>\n    <tr>\n      <th>2</th>\n      <td>1985</td>\n      <td>ATL</td>\n      <td>NL</td>\n      <td>benedbr01</td>\n      <td>545000</td>\n      <td>Atlanta Braves</td>\n      <td>ATL</td>\n    </tr>\n    <tr>\n      <th>3</th>\n      <td>1985</td>\n      <td>ATL</td>\n      <td>NL</td>\n      <td>campri01</td>\n      <td>633333</td>\n      <td>Atlanta Braves</td>\n      <td>ATL</td>\n    </tr>\n    <tr>\n      <th>4</th>\n      <td>1985</td>\n      <td>ATL</td>\n      <td>NL</td>\n      <td>ceronri01</td>\n      <td>625000</td>\n      <td>Atlanta Braves</td>\n      <td>ATL</td>\n    </tr>\n  </tbody>\n</table>\n</div>"
     },
     "metadata": {},
     "execution_count": 29
    }
   ],
   "source": [
    "pd.read_sql_query('select * from final_salaries_by_team', con=engine).head()"
   ]
  },
  {
   "cell_type": "code",
   "execution_count": 25,
   "metadata": {},
   "outputs": [],
   "source": [
    "team_salary_1985_df.to_sql(name='team_salary_1985', con=engine, if_exists='append', index=False)"
   ]
  },
  {
   "cell_type": "code",
   "execution_count": 30,
   "metadata": {},
   "outputs": [
    {
     "output_type": "execute_result",
     "data": {
      "text/plain": [
       "   Year Team ID            Team Name  Games  Wins  Loses  Team Salary\n",
       "0  1985     SLN  St. Louis Cardinals    162   101     61     11817083\n",
       "1  1985     TOR    Toronto Blue Jays    161    99     62      8812550\n",
       "2  1985     NYN        New York Mets    162    98     64     10834762\n",
       "3  1985     NYA     New York Yankees    161    97     64     14238204\n",
       "4  1985     LAN  Los Angeles Dodgers    162    95     67     10967917"
      ],
      "text/html": "<div>\n<style scoped>\n    .dataframe tbody tr th:only-of-type {\n        vertical-align: middle;\n    }\n\n    .dataframe tbody tr th {\n        vertical-align: top;\n    }\n\n    .dataframe thead th {\n        text-align: right;\n    }\n</style>\n<table border=\"1\" class=\"dataframe\">\n  <thead>\n    <tr style=\"text-align: right;\">\n      <th></th>\n      <th>Year</th>\n      <th>Team ID</th>\n      <th>Team Name</th>\n      <th>Games</th>\n      <th>Wins</th>\n      <th>Loses</th>\n      <th>Team Salary</th>\n    </tr>\n  </thead>\n  <tbody>\n    <tr>\n      <th>0</th>\n      <td>1985</td>\n      <td>SLN</td>\n      <td>St. Louis Cardinals</td>\n      <td>162</td>\n      <td>101</td>\n      <td>61</td>\n      <td>11817083</td>\n    </tr>\n    <tr>\n      <th>1</th>\n      <td>1985</td>\n      <td>TOR</td>\n      <td>Toronto Blue Jays</td>\n      <td>161</td>\n      <td>99</td>\n      <td>62</td>\n      <td>8812550</td>\n    </tr>\n    <tr>\n      <th>2</th>\n      <td>1985</td>\n      <td>NYN</td>\n      <td>New York Mets</td>\n      <td>162</td>\n      <td>98</td>\n      <td>64</td>\n      <td>10834762</td>\n    </tr>\n    <tr>\n      <th>3</th>\n      <td>1985</td>\n      <td>NYA</td>\n      <td>New York Yankees</td>\n      <td>161</td>\n      <td>97</td>\n      <td>64</td>\n      <td>14238204</td>\n    </tr>\n    <tr>\n      <th>4</th>\n      <td>1985</td>\n      <td>LAN</td>\n      <td>Los Angeles Dodgers</td>\n      <td>162</td>\n      <td>95</td>\n      <td>67</td>\n      <td>10967917</td>\n    </tr>\n  </tbody>\n</table>\n</div>"
     },
     "metadata": {},
     "execution_count": 30
    }
   ],
   "source": [
    "pd.read_sql_query('select * from team_salary_1985', con=engine).head()"
   ]
  },
  {
   "cell_type": "code",
   "execution_count": 26,
   "metadata": {},
   "outputs": [],
   "source": [
    "team_salary_2015_df.to_sql(name='team_salary_2015', con=engine, if_exists='append', index=False)"
   ]
  },
  {
   "cell_type": "code",
   "execution_count": 31,
   "metadata": {},
   "outputs": [
    {
     "output_type": "execute_result",
     "data": {
      "text/plain": [
       "   Year Team ID            Team Name  Games  Wins  Loses  Team Salary\n",
       "0  1985     SLN  St. Louis Cardinals    162   101     61     11817083\n",
       "1  1985     TOR    Toronto Blue Jays    161    99     62      8812550\n",
       "2  1985     NYN        New York Mets    162    98     64     10834762\n",
       "3  1985     NYA     New York Yankees    161    97     64     14238204\n",
       "4  1985     LAN  Los Angeles Dodgers    162    95     67     10967917"
      ],
      "text/html": "<div>\n<style scoped>\n    .dataframe tbody tr th:only-of-type {\n        vertical-align: middle;\n    }\n\n    .dataframe tbody tr th {\n        vertical-align: top;\n    }\n\n    .dataframe thead th {\n        text-align: right;\n    }\n</style>\n<table border=\"1\" class=\"dataframe\">\n  <thead>\n    <tr style=\"text-align: right;\">\n      <th></th>\n      <th>Year</th>\n      <th>Team ID</th>\n      <th>Team Name</th>\n      <th>Games</th>\n      <th>Wins</th>\n      <th>Loses</th>\n      <th>Team Salary</th>\n    </tr>\n  </thead>\n  <tbody>\n    <tr>\n      <th>0</th>\n      <td>1985</td>\n      <td>SLN</td>\n      <td>St. Louis Cardinals</td>\n      <td>162</td>\n      <td>101</td>\n      <td>61</td>\n      <td>11817083</td>\n    </tr>\n    <tr>\n      <th>1</th>\n      <td>1985</td>\n      <td>TOR</td>\n      <td>Toronto Blue Jays</td>\n      <td>161</td>\n      <td>99</td>\n      <td>62</td>\n      <td>8812550</td>\n    </tr>\n    <tr>\n      <th>2</th>\n      <td>1985</td>\n      <td>NYN</td>\n      <td>New York Mets</td>\n      <td>162</td>\n      <td>98</td>\n      <td>64</td>\n      <td>10834762</td>\n    </tr>\n    <tr>\n      <th>3</th>\n      <td>1985</td>\n      <td>NYA</td>\n      <td>New York Yankees</td>\n      <td>161</td>\n      <td>97</td>\n      <td>64</td>\n      <td>14238204</td>\n    </tr>\n    <tr>\n      <th>4</th>\n      <td>1985</td>\n      <td>LAN</td>\n      <td>Los Angeles Dodgers</td>\n      <td>162</td>\n      <td>95</td>\n      <td>67</td>\n      <td>10967917</td>\n    </tr>\n  </tbody>\n</table>\n</div>"
     },
     "metadata": {},
     "execution_count": 31
    }
   ],
   "source": [
    "pd.read_sql_query('select * from team_salary_2015', con=engine).head()"
   ]
  },
  {
   "cell_type": "code",
   "execution_count": 27,
   "metadata": {},
   "outputs": [],
   "source": [
    "cleaned_teams_df.to_sql(name='team_info', con=engine, if_exists='append', index=False)"
   ]
  },
  {
   "cell_type": "code",
   "execution_count": 32,
   "metadata": {},
   "outputs": [
    {
     "output_type": "execute_result",
     "data": {
      "text/plain": [
       "   Unnamed: 0  Year Team ID          Team Name  Games  Wins  Loses\n",
       "0           0  1985     ATL     Atlanta Braves    162    66     96\n",
       "1           1  1985     BAL  Baltimore Orioles    161    83     78\n",
       "2           2  1985     BOS     Boston Red Sox    163    81     81\n",
       "3           3  1985     CAL  California Angels    162    90     72\n",
       "4           4  1985     CHA  Chicago White Sox    163    85     77"
      ],
      "text/html": "<div>\n<style scoped>\n    .dataframe tbody tr th:only-of-type {\n        vertical-align: middle;\n    }\n\n    .dataframe tbody tr th {\n        vertical-align: top;\n    }\n\n    .dataframe thead th {\n        text-align: right;\n    }\n</style>\n<table border=\"1\" class=\"dataframe\">\n  <thead>\n    <tr style=\"text-align: right;\">\n      <th></th>\n      <th>Unnamed: 0</th>\n      <th>Year</th>\n      <th>Team ID</th>\n      <th>Team Name</th>\n      <th>Games</th>\n      <th>Wins</th>\n      <th>Loses</th>\n    </tr>\n  </thead>\n  <tbody>\n    <tr>\n      <th>0</th>\n      <td>0</td>\n      <td>1985</td>\n      <td>ATL</td>\n      <td>Atlanta Braves</td>\n      <td>162</td>\n      <td>66</td>\n      <td>96</td>\n    </tr>\n    <tr>\n      <th>1</th>\n      <td>1</td>\n      <td>1985</td>\n      <td>BAL</td>\n      <td>Baltimore Orioles</td>\n      <td>161</td>\n      <td>83</td>\n      <td>78</td>\n    </tr>\n    <tr>\n      <th>2</th>\n      <td>2</td>\n      <td>1985</td>\n      <td>BOS</td>\n      <td>Boston Red Sox</td>\n      <td>163</td>\n      <td>81</td>\n      <td>81</td>\n    </tr>\n    <tr>\n      <th>3</th>\n      <td>3</td>\n      <td>1985</td>\n      <td>CAL</td>\n      <td>California Angels</td>\n      <td>162</td>\n      <td>90</td>\n      <td>72</td>\n    </tr>\n    <tr>\n      <th>4</th>\n      <td>4</td>\n      <td>1985</td>\n      <td>CHA</td>\n      <td>Chicago White Sox</td>\n      <td>163</td>\n      <td>85</td>\n      <td>77</td>\n    </tr>\n  </tbody>\n</table>\n</div>"
     },
     "metadata": {},
     "execution_count": 32
    }
   ],
   "source": [
    "pd.read_sql_query('select * from team_info', con=engine).head()"
   ]
  },
  {
   "cell_type": "code",
   "execution_count": 28,
   "metadata": {},
   "outputs": [],
   "source": [
    "combined_info_df.to_sql(name='master_info', con=engine, if_exists='append', index=False)"
   ]
  },
  {
   "cell_type": "code",
   "execution_count": 33,
   "metadata": {},
   "outputs": [
    {
     "output_type": "execute_result",
     "data": {
      "text/plain": [
       "   Unnamed: 0  Year Team ID       Team Name  Games  Wins  Loses lgID  \\\n",
       "0           0  1985     ATL  Atlanta Braves    162    66     96   NL   \n",
       "1           1  1985     ATL  Atlanta Braves    162    66     96   NL   \n",
       "2           2  1985     ATL  Atlanta Braves    162    66     96   NL   \n",
       "3           3  1985     ATL  Atlanta Braves    162    66     96   NL   \n",
       "4           4  1985     ATL  Atlanta Braves    162    66     96   NL   \n",
       "\n",
       "    playerID  salary  \n",
       "0  barkele01  870000  \n",
       "1  bedrost01  550000  \n",
       "2  benedbr01  545000  \n",
       "3   campri01  633333  \n",
       "4  ceronri01  625000  "
      ],
      "text/html": "<div>\n<style scoped>\n    .dataframe tbody tr th:only-of-type {\n        vertical-align: middle;\n    }\n\n    .dataframe tbody tr th {\n        vertical-align: top;\n    }\n\n    .dataframe thead th {\n        text-align: right;\n    }\n</style>\n<table border=\"1\" class=\"dataframe\">\n  <thead>\n    <tr style=\"text-align: right;\">\n      <th></th>\n      <th>Unnamed: 0</th>\n      <th>Year</th>\n      <th>Team ID</th>\n      <th>Team Name</th>\n      <th>Games</th>\n      <th>Wins</th>\n      <th>Loses</th>\n      <th>lgID</th>\n      <th>playerID</th>\n      <th>salary</th>\n    </tr>\n  </thead>\n  <tbody>\n    <tr>\n      <th>0</th>\n      <td>0</td>\n      <td>1985</td>\n      <td>ATL</td>\n      <td>Atlanta Braves</td>\n      <td>162</td>\n      <td>66</td>\n      <td>96</td>\n      <td>NL</td>\n      <td>barkele01</td>\n      <td>870000</td>\n    </tr>\n    <tr>\n      <th>1</th>\n      <td>1</td>\n      <td>1985</td>\n      <td>ATL</td>\n      <td>Atlanta Braves</td>\n      <td>162</td>\n      <td>66</td>\n      <td>96</td>\n      <td>NL</td>\n      <td>bedrost01</td>\n      <td>550000</td>\n    </tr>\n    <tr>\n      <th>2</th>\n      <td>2</td>\n      <td>1985</td>\n      <td>ATL</td>\n      <td>Atlanta Braves</td>\n      <td>162</td>\n      <td>66</td>\n      <td>96</td>\n      <td>NL</td>\n      <td>benedbr01</td>\n      <td>545000</td>\n    </tr>\n    <tr>\n      <th>3</th>\n      <td>3</td>\n      <td>1985</td>\n      <td>ATL</td>\n      <td>Atlanta Braves</td>\n      <td>162</td>\n      <td>66</td>\n      <td>96</td>\n      <td>NL</td>\n      <td>campri01</td>\n      <td>633333</td>\n    </tr>\n    <tr>\n      <th>4</th>\n      <td>4</td>\n      <td>1985</td>\n      <td>ATL</td>\n      <td>Atlanta Braves</td>\n      <td>162</td>\n      <td>66</td>\n      <td>96</td>\n      <td>NL</td>\n      <td>ceronri01</td>\n      <td>625000</td>\n    </tr>\n  </tbody>\n</table>\n</div>"
     },
     "metadata": {},
     "execution_count": 33
    }
   ],
   "source": [
    "pd.read_sql_query('select * from master_info', con=engine).head()"
   ]
  },
  {
   "cell_type": "code",
   "execution_count": 34,
   "metadata": {},
   "outputs": [
    {
     "output_type": "execute_result",
     "data": {
      "text/plain": [
       "['final_salaries_by_team',\n",
       " 'team_salary_1985',\n",
       " 'team_salary_2015',\n",
       " 'team_info',\n",
       " 'master_info']"
      ]
     },
     "metadata": {},
     "execution_count": 34
    }
   ],
   "source": [
    "engine.table_names()"
   ]
  },
  {
   "cell_type": "code",
   "execution_count": null,
   "metadata": {},
   "outputs": [],
   "source": []
  }
 ]
}