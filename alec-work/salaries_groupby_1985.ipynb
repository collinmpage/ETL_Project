{
 "metadata": {
  "language_info": {
   "codemirror_mode": {
    "name": "ipython",
    "version": 3
   },
   "file_extension": ".py",
   "mimetype": "text/x-python",
   "name": "python",
   "nbconvert_exporter": "python",
   "pygments_lexer": "ipython3",
   "version": "3.8.5-final"
  },
  "orig_nbformat": 2,
  "kernelspec": {
   "name": "python3",
   "display_name": "Python 3.8.5 64-bit (conda)",
   "metadata": {
    "interpreter": {
     "hash": "006b2a4c59105e151f59d7a783e9669671dc3b315a85df72952575de8c58cde6"
    }
   }
  }
 },
 "nbformat": 4,
 "nbformat_minor": 2,
 "cells": [
  {
   "cell_type": "code",
   "execution_count": 1,
   "metadata": {},
   "outputs": [],
   "source": [
    "# importing dependencies\n",
    "import pandas as pd\n",
    "from sqlalchemy import create_engine"
   ]
  },
  {
   "cell_type": "code",
   "execution_count": 2,
   "metadata": {},
   "outputs": [],
   "source": [
    "# reading in csv data\n",
    "\n",
    "# alec_salaries_data_clean\n",
    "salaries_final_path = \"output_csv/final_salaries_team_names_1985_to_2015.csv\"\n",
    "salaries_final_df = pd.read_csv(salaries_final_path)\n",
    "\n",
    "# collin_team_data_clean\n",
    "teams_collin_path = \"../collin-work/Resources/Cleaned_Teams_info.csv\"\n",
    "teams_final_df = pd.read_csv(teams_collin_path)\n",
    "\n"
   ]
  },
  {
   "cell_type": "code",
   "execution_count": 6,
   "metadata": {},
   "outputs": [
    {
     "output_type": "execute_result",
     "data": {
      "text/plain": [
       "26"
      ]
     },
     "metadata": {},
     "execution_count": 6
    }
   ],
   "source": [
    "# creating db for just 1985\n",
    "salaries_final_df_1985 = salaries_final_df.loc[salaries_final_df[\"yearID\"] == 1985]\n",
    "teams_final_df_1985 = teams_final_df.loc[teams_final_df[\"Year\"] == 1985]\n",
    "\n",
    "# reindexing\n",
    "teams_df_1985 = teams_final_df_1985.reset_index(drop=True)\n",
    "salaries_df_1985 = salaries_final_df_1985.reset_index(drop=True)\n",
    "len(teams_df_1985)"
   ]
  },
  {
   "cell_type": "code",
   "execution_count": 5,
   "metadata": {},
   "outputs": [
    {
     "output_type": "execute_result",
     "data": {
      "text/plain": [
       "26"
      ]
     },
     "metadata": {},
     "execution_count": 5
    }
   ],
   "source": [
    "# grouping by teams for 1985 team salary totals\n",
    "sal_team_groupby_1985 = salaries_df_1985.groupby(['teamID'])\n",
    "sal_cap_1985 = sal_team_groupby_1985.sum()\n",
    "\n",
    "# converting groupby teams sum on salary into dataframe\n",
    "sal_cap_1985_df_1 = pd.DataFrame(sal_cap_1985)\n",
    "sal_cap_1985_df = sal_cap_1985_df_1[\"salary\"]\n",
    "len(sal_cap_1985_df)"
   ]
  },
  {
   "cell_type": "code",
   "execution_count": 7,
   "metadata": {},
   "outputs": [
    {
     "output_type": "execute_result",
     "data": {
      "text/plain": [
       "    Year Team ID              Team Name  Games  Wins  Loses  Team Salary\n",
       "0   1985     ATL         Atlanta Braves    162    66     96     14807000\n",
       "1   1985     BAL      Baltimore Orioles    161    83     78     11560712\n",
       "2   1985     BOS         Boston Red Sox    163    81     81     10897560\n",
       "3   1985     CAL      California Angels    162    90     72     14427894\n",
       "4   1985     CHA      Chicago White Sox    163    85     77      9846178\n",
       "5   1985     CHN           Chicago Cubs    162    77     84     12702917\n",
       "6   1985     CIN        Cincinnati Reds    162    89     72      8359917\n",
       "7   1985     CLE      Cleveland Indians    162    60    102      6551666\n",
       "8   1985     DET         Detroit Tigers    161    84     77     10348143\n",
       "9   1985     HOU         Houston Astros    162    83     79      9993051\n",
       "10  1985     KCA     Kansas City Royals    162    91     71      9321179\n",
       "11  1985     LAN    Los Angeles Dodgers    162    95     67     10967917\n",
       "12  1985     MIN        Minnesota Twins    162    77     85      5764821\n",
       "13  1985     ML4      Milwaukee Brewers    161    71     90     11284107\n",
       "14  1985     MON         Montreal Expos    161    84     77      9470166\n",
       "15  1985     NYA       New York Yankees    161    97     64     14238204\n",
       "16  1985     NYN          New York Mets    162    98     64     10834762\n",
       "17  1985     OAK      Oakland Athletics    162    77     85      9058606\n",
       "18  1985     PHI  Philadelphia Phillies    162    75     87     10124966\n",
       "19  1985     PIT     Pittsburgh Pirates    161    57    104      9227500\n",
       "20  1985     SDN       San Diego Padres    162    83     79     11036583\n",
       "21  1985     SEA       Seattle Mariners    162    74     88      4613000\n",
       "22  1985     SFN   San Francisco Giants    162    62    100      8221714\n",
       "23  1985     SLN    St. Louis Cardinals    162   101     61     11817083\n",
       "24  1985     TEX          Texas Rangers    161    62     99      7676500\n",
       "25  1985     TOR      Toronto Blue Jays    161    99     62      8812550"
      ],
      "text/html": "<div>\n<style scoped>\n    .dataframe tbody tr th:only-of-type {\n        vertical-align: middle;\n    }\n\n    .dataframe tbody tr th {\n        vertical-align: top;\n    }\n\n    .dataframe thead th {\n        text-align: right;\n    }\n</style>\n<table border=\"1\" class=\"dataframe\">\n  <thead>\n    <tr style=\"text-align: right;\">\n      <th></th>\n      <th>Year</th>\n      <th>Team ID</th>\n      <th>Team Name</th>\n      <th>Games</th>\n      <th>Wins</th>\n      <th>Loses</th>\n      <th>Team Salary</th>\n    </tr>\n  </thead>\n  <tbody>\n    <tr>\n      <th>0</th>\n      <td>1985</td>\n      <td>ATL</td>\n      <td>Atlanta Braves</td>\n      <td>162</td>\n      <td>66</td>\n      <td>96</td>\n      <td>14807000</td>\n    </tr>\n    <tr>\n      <th>1</th>\n      <td>1985</td>\n      <td>BAL</td>\n      <td>Baltimore Orioles</td>\n      <td>161</td>\n      <td>83</td>\n      <td>78</td>\n      <td>11560712</td>\n    </tr>\n    <tr>\n      <th>2</th>\n      <td>1985</td>\n      <td>BOS</td>\n      <td>Boston Red Sox</td>\n      <td>163</td>\n      <td>81</td>\n      <td>81</td>\n      <td>10897560</td>\n    </tr>\n    <tr>\n      <th>3</th>\n      <td>1985</td>\n      <td>CAL</td>\n      <td>California Angels</td>\n      <td>162</td>\n      <td>90</td>\n      <td>72</td>\n      <td>14427894</td>\n    </tr>\n    <tr>\n      <th>4</th>\n      <td>1985</td>\n      <td>CHA</td>\n      <td>Chicago White Sox</td>\n      <td>163</td>\n      <td>85</td>\n      <td>77</td>\n      <td>9846178</td>\n    </tr>\n    <tr>\n      <th>5</th>\n      <td>1985</td>\n      <td>CHN</td>\n      <td>Chicago Cubs</td>\n      <td>162</td>\n      <td>77</td>\n      <td>84</td>\n      <td>12702917</td>\n    </tr>\n    <tr>\n      <th>6</th>\n      <td>1985</td>\n      <td>CIN</td>\n      <td>Cincinnati Reds</td>\n      <td>162</td>\n      <td>89</td>\n      <td>72</td>\n      <td>8359917</td>\n    </tr>\n    <tr>\n      <th>7</th>\n      <td>1985</td>\n      <td>CLE</td>\n      <td>Cleveland Indians</td>\n      <td>162</td>\n      <td>60</td>\n      <td>102</td>\n      <td>6551666</td>\n    </tr>\n    <tr>\n      <th>8</th>\n      <td>1985</td>\n      <td>DET</td>\n      <td>Detroit Tigers</td>\n      <td>161</td>\n      <td>84</td>\n      <td>77</td>\n      <td>10348143</td>\n    </tr>\n    <tr>\n      <th>9</th>\n      <td>1985</td>\n      <td>HOU</td>\n      <td>Houston Astros</td>\n      <td>162</td>\n      <td>83</td>\n      <td>79</td>\n      <td>9993051</td>\n    </tr>\n    <tr>\n      <th>10</th>\n      <td>1985</td>\n      <td>KCA</td>\n      <td>Kansas City Royals</td>\n      <td>162</td>\n      <td>91</td>\n      <td>71</td>\n      <td>9321179</td>\n    </tr>\n    <tr>\n      <th>11</th>\n      <td>1985</td>\n      <td>LAN</td>\n      <td>Los Angeles Dodgers</td>\n      <td>162</td>\n      <td>95</td>\n      <td>67</td>\n      <td>10967917</td>\n    </tr>\n    <tr>\n      <th>12</th>\n      <td>1985</td>\n      <td>MIN</td>\n      <td>Minnesota Twins</td>\n      <td>162</td>\n      <td>77</td>\n      <td>85</td>\n      <td>5764821</td>\n    </tr>\n    <tr>\n      <th>13</th>\n      <td>1985</td>\n      <td>ML4</td>\n      <td>Milwaukee Brewers</td>\n      <td>161</td>\n      <td>71</td>\n      <td>90</td>\n      <td>11284107</td>\n    </tr>\n    <tr>\n      <th>14</th>\n      <td>1985</td>\n      <td>MON</td>\n      <td>Montreal Expos</td>\n      <td>161</td>\n      <td>84</td>\n      <td>77</td>\n      <td>9470166</td>\n    </tr>\n    <tr>\n      <th>15</th>\n      <td>1985</td>\n      <td>NYA</td>\n      <td>New York Yankees</td>\n      <td>161</td>\n      <td>97</td>\n      <td>64</td>\n      <td>14238204</td>\n    </tr>\n    <tr>\n      <th>16</th>\n      <td>1985</td>\n      <td>NYN</td>\n      <td>New York Mets</td>\n      <td>162</td>\n      <td>98</td>\n      <td>64</td>\n      <td>10834762</td>\n    </tr>\n    <tr>\n      <th>17</th>\n      <td>1985</td>\n      <td>OAK</td>\n      <td>Oakland Athletics</td>\n      <td>162</td>\n      <td>77</td>\n      <td>85</td>\n      <td>9058606</td>\n    </tr>\n    <tr>\n      <th>18</th>\n      <td>1985</td>\n      <td>PHI</td>\n      <td>Philadelphia Phillies</td>\n      <td>162</td>\n      <td>75</td>\n      <td>87</td>\n      <td>10124966</td>\n    </tr>\n    <tr>\n      <th>19</th>\n      <td>1985</td>\n      <td>PIT</td>\n      <td>Pittsburgh Pirates</td>\n      <td>161</td>\n      <td>57</td>\n      <td>104</td>\n      <td>9227500</td>\n    </tr>\n    <tr>\n      <th>20</th>\n      <td>1985</td>\n      <td>SDN</td>\n      <td>San Diego Padres</td>\n      <td>162</td>\n      <td>83</td>\n      <td>79</td>\n      <td>11036583</td>\n    </tr>\n    <tr>\n      <th>21</th>\n      <td>1985</td>\n      <td>SEA</td>\n      <td>Seattle Mariners</td>\n      <td>162</td>\n      <td>74</td>\n      <td>88</td>\n      <td>4613000</td>\n    </tr>\n    <tr>\n      <th>22</th>\n      <td>1985</td>\n      <td>SFN</td>\n      <td>San Francisco Giants</td>\n      <td>162</td>\n      <td>62</td>\n      <td>100</td>\n      <td>8221714</td>\n    </tr>\n    <tr>\n      <th>23</th>\n      <td>1985</td>\n      <td>SLN</td>\n      <td>St. Louis Cardinals</td>\n      <td>162</td>\n      <td>101</td>\n      <td>61</td>\n      <td>11817083</td>\n    </tr>\n    <tr>\n      <th>24</th>\n      <td>1985</td>\n      <td>TEX</td>\n      <td>Texas Rangers</td>\n      <td>161</td>\n      <td>62</td>\n      <td>99</td>\n      <td>7676500</td>\n    </tr>\n    <tr>\n      <th>25</th>\n      <td>1985</td>\n      <td>TOR</td>\n      <td>Toronto Blue Jays</td>\n      <td>161</td>\n      <td>99</td>\n      <td>62</td>\n      <td>8812550</td>\n    </tr>\n  </tbody>\n</table>\n</div>"
     },
     "metadata": {},
     "execution_count": 7
    }
   ],
   "source": [
    "# merging sal cap 1985 sum into teams df\n",
    "teams_sal_cap_1985_2 = teams_df_1985.merge(sal_cap_1985_df,how=\"left\",left_on=\"Team ID\",right_index=True)\n",
    "teams_sal_cap_1985_3 = teams_sal_cap_1985_2.reset_index(drop=True)\n",
    "teams_sal_cap_1985 = teams_sal_cap_1985_3.rename(columns={\"salary\" : \"Team Salary\"})\n",
    "teams_sal_cap_1985"
   ]
  },
  {
   "cell_type": "code",
   "execution_count": 9,
   "metadata": {},
   "outputs": [
    {
     "output_type": "execute_result",
     "data": {
      "text/plain": [
       "    Year Team ID              Team Name  Games  Wins  Loses  Team Salary\n",
       "23  1985     SLN    St. Louis Cardinals    162   101     61     11817083\n",
       "25  1985     TOR      Toronto Blue Jays    161    99     62      8812550\n",
       "16  1985     NYN          New York Mets    162    98     64     10834762\n",
       "15  1985     NYA       New York Yankees    161    97     64     14238204\n",
       "11  1985     LAN    Los Angeles Dodgers    162    95     67     10967917\n",
       "10  1985     KCA     Kansas City Royals    162    91     71      9321179\n",
       "3   1985     CAL      California Angels    162    90     72     14427894\n",
       "6   1985     CIN        Cincinnati Reds    162    89     72      8359917\n",
       "4   1985     CHA      Chicago White Sox    163    85     77      9846178\n",
       "8   1985     DET         Detroit Tigers    161    84     77     10348143\n",
       "14  1985     MON         Montreal Expos    161    84     77      9470166\n",
       "9   1985     HOU         Houston Astros    162    83     79      9993051\n",
       "20  1985     SDN       San Diego Padres    162    83     79     11036583\n",
       "1   1985     BAL      Baltimore Orioles    161    83     78     11560712\n",
       "2   1985     BOS         Boston Red Sox    163    81     81     10897560\n",
       "5   1985     CHN           Chicago Cubs    162    77     84     12702917\n",
       "12  1985     MIN        Minnesota Twins    162    77     85      5764821\n",
       "17  1985     OAK      Oakland Athletics    162    77     85      9058606\n",
       "18  1985     PHI  Philadelphia Phillies    162    75     87     10124966\n",
       "21  1985     SEA       Seattle Mariners    162    74     88      4613000\n",
       "13  1985     ML4      Milwaukee Brewers    161    71     90     11284107\n",
       "0   1985     ATL         Atlanta Braves    162    66     96     14807000\n",
       "22  1985     SFN   San Francisco Giants    162    62    100      8221714\n",
       "24  1985     TEX          Texas Rangers    161    62     99      7676500\n",
       "7   1985     CLE      Cleveland Indians    162    60    102      6551666\n",
       "19  1985     PIT     Pittsburgh Pirates    161    57    104      9227500"
      ],
      "text/html": "<div>\n<style scoped>\n    .dataframe tbody tr th:only-of-type {\n        vertical-align: middle;\n    }\n\n    .dataframe tbody tr th {\n        vertical-align: top;\n    }\n\n    .dataframe thead th {\n        text-align: right;\n    }\n</style>\n<table border=\"1\" class=\"dataframe\">\n  <thead>\n    <tr style=\"text-align: right;\">\n      <th></th>\n      <th>Year</th>\n      <th>Team ID</th>\n      <th>Team Name</th>\n      <th>Games</th>\n      <th>Wins</th>\n      <th>Loses</th>\n      <th>Team Salary</th>\n    </tr>\n  </thead>\n  <tbody>\n    <tr>\n      <th>23</th>\n      <td>1985</td>\n      <td>SLN</td>\n      <td>St. Louis Cardinals</td>\n      <td>162</td>\n      <td>101</td>\n      <td>61</td>\n      <td>11817083</td>\n    </tr>\n    <tr>\n      <th>25</th>\n      <td>1985</td>\n      <td>TOR</td>\n      <td>Toronto Blue Jays</td>\n      <td>161</td>\n      <td>99</td>\n      <td>62</td>\n      <td>8812550</td>\n    </tr>\n    <tr>\n      <th>16</th>\n      <td>1985</td>\n      <td>NYN</td>\n      <td>New York Mets</td>\n      <td>162</td>\n      <td>98</td>\n      <td>64</td>\n      <td>10834762</td>\n    </tr>\n    <tr>\n      <th>15</th>\n      <td>1985</td>\n      <td>NYA</td>\n      <td>New York Yankees</td>\n      <td>161</td>\n      <td>97</td>\n      <td>64</td>\n      <td>14238204</td>\n    </tr>\n    <tr>\n      <th>11</th>\n      <td>1985</td>\n      <td>LAN</td>\n      <td>Los Angeles Dodgers</td>\n      <td>162</td>\n      <td>95</td>\n      <td>67</td>\n      <td>10967917</td>\n    </tr>\n    <tr>\n      <th>10</th>\n      <td>1985</td>\n      <td>KCA</td>\n      <td>Kansas City Royals</td>\n      <td>162</td>\n      <td>91</td>\n      <td>71</td>\n      <td>9321179</td>\n    </tr>\n    <tr>\n      <th>3</th>\n      <td>1985</td>\n      <td>CAL</td>\n      <td>California Angels</td>\n      <td>162</td>\n      <td>90</td>\n      <td>72</td>\n      <td>14427894</td>\n    </tr>\n    <tr>\n      <th>6</th>\n      <td>1985</td>\n      <td>CIN</td>\n      <td>Cincinnati Reds</td>\n      <td>162</td>\n      <td>89</td>\n      <td>72</td>\n      <td>8359917</td>\n    </tr>\n    <tr>\n      <th>4</th>\n      <td>1985</td>\n      <td>CHA</td>\n      <td>Chicago White Sox</td>\n      <td>163</td>\n      <td>85</td>\n      <td>77</td>\n      <td>9846178</td>\n    </tr>\n    <tr>\n      <th>8</th>\n      <td>1985</td>\n      <td>DET</td>\n      <td>Detroit Tigers</td>\n      <td>161</td>\n      <td>84</td>\n      <td>77</td>\n      <td>10348143</td>\n    </tr>\n    <tr>\n      <th>14</th>\n      <td>1985</td>\n      <td>MON</td>\n      <td>Montreal Expos</td>\n      <td>161</td>\n      <td>84</td>\n      <td>77</td>\n      <td>9470166</td>\n    </tr>\n    <tr>\n      <th>9</th>\n      <td>1985</td>\n      <td>HOU</td>\n      <td>Houston Astros</td>\n      <td>162</td>\n      <td>83</td>\n      <td>79</td>\n      <td>9993051</td>\n    </tr>\n    <tr>\n      <th>20</th>\n      <td>1985</td>\n      <td>SDN</td>\n      <td>San Diego Padres</td>\n      <td>162</td>\n      <td>83</td>\n      <td>79</td>\n      <td>11036583</td>\n    </tr>\n    <tr>\n      <th>1</th>\n      <td>1985</td>\n      <td>BAL</td>\n      <td>Baltimore Orioles</td>\n      <td>161</td>\n      <td>83</td>\n      <td>78</td>\n      <td>11560712</td>\n    </tr>\n    <tr>\n      <th>2</th>\n      <td>1985</td>\n      <td>BOS</td>\n      <td>Boston Red Sox</td>\n      <td>163</td>\n      <td>81</td>\n      <td>81</td>\n      <td>10897560</td>\n    </tr>\n    <tr>\n      <th>5</th>\n      <td>1985</td>\n      <td>CHN</td>\n      <td>Chicago Cubs</td>\n      <td>162</td>\n      <td>77</td>\n      <td>84</td>\n      <td>12702917</td>\n    </tr>\n    <tr>\n      <th>12</th>\n      <td>1985</td>\n      <td>MIN</td>\n      <td>Minnesota Twins</td>\n      <td>162</td>\n      <td>77</td>\n      <td>85</td>\n      <td>5764821</td>\n    </tr>\n    <tr>\n      <th>17</th>\n      <td>1985</td>\n      <td>OAK</td>\n      <td>Oakland Athletics</td>\n      <td>162</td>\n      <td>77</td>\n      <td>85</td>\n      <td>9058606</td>\n    </tr>\n    <tr>\n      <th>18</th>\n      <td>1985</td>\n      <td>PHI</td>\n      <td>Philadelphia Phillies</td>\n      <td>162</td>\n      <td>75</td>\n      <td>87</td>\n      <td>10124966</td>\n    </tr>\n    <tr>\n      <th>21</th>\n      <td>1985</td>\n      <td>SEA</td>\n      <td>Seattle Mariners</td>\n      <td>162</td>\n      <td>74</td>\n      <td>88</td>\n      <td>4613000</td>\n    </tr>\n    <tr>\n      <th>13</th>\n      <td>1985</td>\n      <td>ML4</td>\n      <td>Milwaukee Brewers</td>\n      <td>161</td>\n      <td>71</td>\n      <td>90</td>\n      <td>11284107</td>\n    </tr>\n    <tr>\n      <th>0</th>\n      <td>1985</td>\n      <td>ATL</td>\n      <td>Atlanta Braves</td>\n      <td>162</td>\n      <td>66</td>\n      <td>96</td>\n      <td>14807000</td>\n    </tr>\n    <tr>\n      <th>22</th>\n      <td>1985</td>\n      <td>SFN</td>\n      <td>San Francisco Giants</td>\n      <td>162</td>\n      <td>62</td>\n      <td>100</td>\n      <td>8221714</td>\n    </tr>\n    <tr>\n      <th>24</th>\n      <td>1985</td>\n      <td>TEX</td>\n      <td>Texas Rangers</td>\n      <td>161</td>\n      <td>62</td>\n      <td>99</td>\n      <td>7676500</td>\n    </tr>\n    <tr>\n      <th>7</th>\n      <td>1985</td>\n      <td>CLE</td>\n      <td>Cleveland Indians</td>\n      <td>162</td>\n      <td>60</td>\n      <td>102</td>\n      <td>6551666</td>\n    </tr>\n    <tr>\n      <th>19</th>\n      <td>1985</td>\n      <td>PIT</td>\n      <td>Pittsburgh Pirates</td>\n      <td>161</td>\n      <td>57</td>\n      <td>104</td>\n      <td>9227500</td>\n    </tr>\n  </tbody>\n</table>\n</div>"
     },
     "metadata": {},
     "execution_count": 9
    }
   ],
   "source": [
    "# sorting by wins\n",
    "teams_sal_cap_1985_sorted_wins = teams_sal_cap_1985.sort_values(by='Wins', ascending=False)\n",
    "teams_sal_cap_1985_sorted_wins"
   ]
  },
  {
   "cell_type": "code",
   "execution_count": 10,
   "metadata": {},
   "outputs": [],
   "source": [
    "team_sal_1985_output_path = \"output_csv/Teams_Wins_Salary_1985.csv\"\n",
    "teams_sal_cap_1985_sorted_wins.to_csv(team_sal_1985_output_path,index=False)"
   ]
  },
  {
   "cell_type": "code",
   "execution_count": null,
   "metadata": {},
   "outputs": [],
   "source": []
  }
 ]
}