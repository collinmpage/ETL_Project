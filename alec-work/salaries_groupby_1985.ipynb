{
 "metadata": {
  "language_info": {
   "codemirror_mode": {
    "name": "ipython",
    "version": 3
   },
   "file_extension": ".py",
   "mimetype": "text/x-python",
   "name": "python",
   "nbconvert_exporter": "python",
   "pygments_lexer": "ipython3",
   "version": "3.8.5-final"
  },
  "orig_nbformat": 2,
  "kernelspec": {
   "name": "python3",
   "display_name": "Python 3.8.5 64-bit (conda)",
   "metadata": {
    "interpreter": {
     "hash": "006b2a4c59105e151f59d7a783e9669671dc3b315a85df72952575de8c58cde6"
    }
   }
  }
 },
 "nbformat": 4,
 "nbformat_minor": 2,
 "cells": [
  {
   "cell_type": "code",
   "execution_count": null,
   "metadata": {},
   "outputs": [],
   "source": [
    "# importing dependencies\n",
    "import pandas as pd\n",
    "from sqlalchemy import create_engine"
   ]
  },
  {
   "cell_type": "code",
   "execution_count": null,
   "metadata": {},
   "outputs": [],
   "source": [
    "# reading in csv data\n",
    "\n",
    "# alec_salaries_data_clean\n",
    "salaries_final_path = \"output_csv/final_salaries_team_names_1985_to_2015.csv\"\n",
    "salaries_final_df = pd.read_csv(salaries_final_path)\n",
    "\n",
    "# collin_team_data_clean\n",
    "teams_collin_path = \"../collin-work/output_csv/Cleaned_Teams_info.csv\"\n",
    "teams_final_df = pd.read_csv(teams_collin_path)\n",
    "\n"
   ]
  },
  {
   "cell_type": "code",
   "execution_count": null,
   "metadata": {},
   "outputs": [],
   "source": [
    "# creating db for just 1985\n",
    "salaries_final_df_1985 = salaries_final_df.loc[salaries_final_df[\"yearID\"] == 1985]\n",
    "teams_final_df_1985 = teams_final_df.loc[teams_final_df[\"Year\"] == 1985]\n",
    "\n",
    "# reindexing\n",
    "teams_df_1985_1 = teams_final_df_1985.reset_index(drop=True)\n",
    "teams_df_1985 = teams_df_1985_1[['Year','Team ID','Team Name','Games','Wins','Loses']]\n",
    "salaries_df_1985 = salaries_final_df_1985.reset_index(drop=True)\n",
    "len(teams_df_1985)"
   ]
  },
  {
   "cell_type": "code",
   "execution_count": null,
   "metadata": {},
   "outputs": [],
   "source": [
    "# grouping by teams for 1985 team salary totals\n",
    "sal_team_groupby_1985 = salaries_df_1985.groupby(['teamID'])\n",
    "sal_cap_1985 = sal_team_groupby_1985.sum()\n",
    "\n",
    "# converting groupby teams sum on salary into dataframe\n",
    "sal_cap_1985_df_1 = pd.DataFrame(sal_cap_1985)\n",
    "sal_cap_1985_df = sal_cap_1985_df_1[\"salary\"]\n",
    "len(sal_cap_1985_df)"
   ]
  },
  {
   "cell_type": "code",
   "execution_count": null,
   "metadata": {},
   "outputs": [],
   "source": [
    "# merging sal cap 1985 sum into teams df\n",
    "teams_sal_cap_1985_2 = teams_df_1985.merge(sal_cap_1985_df,how=\"left\",left_on=\"Team ID\",right_index=True)\n",
    "teams_sal_cap_1985_3 = teams_sal_cap_1985_2.reset_index(drop=True)\n",
    "teams_sal_cap_1985 = teams_sal_cap_1985_3.rename(columns={\"salary\" : \"Team Salary\"})\n",
    "teams_sal_cap_1985"
   ]
  },
  {
   "cell_type": "code",
   "execution_count": null,
   "metadata": {},
   "outputs": [],
   "source": [
    "# sorting by wins\n",
    "teams_sal_cap_1985_sorted_wins_1 = teams_sal_cap_1985.sort_values(by='Wins', ascending=False)\n",
    "teams_sal_cap_1985_sorted_wins = teams_sal_cap_1985_sorted_wins_1.reset_index(drop=True)\n",
    "teams_sal_cap_1985_sorted_wins"
   ]
  },
  {
   "cell_type": "code",
   "execution_count": null,
   "metadata": {},
   "outputs": [],
   "source": [
    "team_sal_1985_output_path = \"output_csv/Teams_Wins_Salary_1985.csv\"\n",
    "teams_sal_cap_1985_sorted_wins.to_csv(team_sal_1985_output_path,index=False)"
   ]
  },
  {
   "cell_type": "code",
   "execution_count": null,
   "metadata": {},
   "outputs": [],
   "source": []
  }
 ]
}