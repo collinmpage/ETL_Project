{
 "metadata": {
  "language_info": {
   "codemirror_mode": {
    "name": "ipython",
    "version": 3
   },
   "file_extension": ".py",
   "mimetype": "text/x-python",
   "name": "python",
   "nbconvert_exporter": "python",
   "pygments_lexer": "ipython3",
   "version": "3.8.5-final"
  },
  "orig_nbformat": 2,
  "kernelspec": {
   "name": "python3",
   "display_name": "Python 3.8.5 64-bit ('alexa': virtualenv)",
   "metadata": {
    "interpreter": {
     "hash": "006b2a4c59105e151f59d7a783e9669671dc3b315a85df72952575de8c58cde6"
    }
   }
  }
 },
 "nbformat": 4,
 "nbformat_minor": 2,
 "cells": [
  {
   "cell_type": "code",
   "execution_count": 1,
   "metadata": {},
   "outputs": [],
   "source": [
    "# importing dependencies\n",
    "import pandas as pd\n",
    "from sqlalchemy import create_engine"
   ]
  },
  {
   "cell_type": "code",
   "execution_count": 5,
   "metadata": {},
   "outputs": [],
   "source": [
    "# reading in csv data\n",
    "\n",
    "# alec_salaries_data_clean\n",
    "salaries_final_path = \"output_csv/final_salaries_team_names_1985_to_2015.csv\"\n",
    "salaries_final_df = pd.read_csv(salaries_final_path)\n",
    "\n",
    "# collin_team_data_clean\n",
    "teams_collin_path = \"../collin-work/Resources/Cleaned_Teams_info.csv\"\n",
    "teams_final_df = pd.read_csv(teams_collin_path)\n",
    "\n"
   ]
  },
  {
   "cell_type": "code",
   "execution_count": 4,
   "metadata": {},
   "outputs": [
    {
     "output_type": "execute_result",
     "data": {
      "text/plain": [
       "   yearID teamID lgID   playerID  salary            name franchID\n",
       "0    1985    ATL   NL  barkele01  870000  Atlanta Braves      ATL\n",
       "1    1985    ATL   NL  bedrost01  550000  Atlanta Braves      ATL\n",
       "2    1985    ATL   NL  benedbr01  545000  Atlanta Braves      ATL\n",
       "3    1985    ATL   NL   campri01  633333  Atlanta Braves      ATL\n",
       "4    1985    ATL   NL  ceronri01  625000  Atlanta Braves      ATL"
      ],
      "text/html": "<div>\n<style scoped>\n    .dataframe tbody tr th:only-of-type {\n        vertical-align: middle;\n    }\n\n    .dataframe tbody tr th {\n        vertical-align: top;\n    }\n\n    .dataframe thead th {\n        text-align: right;\n    }\n</style>\n<table border=\"1\" class=\"dataframe\">\n  <thead>\n    <tr style=\"text-align: right;\">\n      <th></th>\n      <th>yearID</th>\n      <th>teamID</th>\n      <th>lgID</th>\n      <th>playerID</th>\n      <th>salary</th>\n      <th>name</th>\n      <th>franchID</th>\n    </tr>\n  </thead>\n  <tbody>\n    <tr>\n      <th>0</th>\n      <td>1985</td>\n      <td>ATL</td>\n      <td>NL</td>\n      <td>barkele01</td>\n      <td>870000</td>\n      <td>Atlanta Braves</td>\n      <td>ATL</td>\n    </tr>\n    <tr>\n      <th>1</th>\n      <td>1985</td>\n      <td>ATL</td>\n      <td>NL</td>\n      <td>bedrost01</td>\n      <td>550000</td>\n      <td>Atlanta Braves</td>\n      <td>ATL</td>\n    </tr>\n    <tr>\n      <th>2</th>\n      <td>1985</td>\n      <td>ATL</td>\n      <td>NL</td>\n      <td>benedbr01</td>\n      <td>545000</td>\n      <td>Atlanta Braves</td>\n      <td>ATL</td>\n    </tr>\n    <tr>\n      <th>3</th>\n      <td>1985</td>\n      <td>ATL</td>\n      <td>NL</td>\n      <td>campri01</td>\n      <td>633333</td>\n      <td>Atlanta Braves</td>\n      <td>ATL</td>\n    </tr>\n    <tr>\n      <th>4</th>\n      <td>1985</td>\n      <td>ATL</td>\n      <td>NL</td>\n      <td>ceronri01</td>\n      <td>625000</td>\n      <td>Atlanta Braves</td>\n      <td>ATL</td>\n    </tr>\n  </tbody>\n</table>\n</div>"
     },
     "metadata": {},
     "execution_count": 4
    }
   ],
   "source": [
    "# previewing data\n",
    "salaries_final_df.head(5)"
   ]
  },
  {
   "cell_type": "code",
   "execution_count": 29,
   "metadata": {},
   "outputs": [],
   "source": [
    "# previewing data\n",
    "teams_final_df_2015\n",
    "teams_df_2015 = teams_final_df_2015.reindex()"
   ]
  },
  {
   "cell_type": "code",
   "execution_count": 12,
   "metadata": {},
   "outputs": [],
   "source": [
    "# creating db for just 2015\n",
    "salaries_final_df_2015 = salaries_final_df.loc[salaries_final_df[\"yearID\"] == 2015]\n",
    "teams_final_df_2015 = teams_final_df.loc[teams_final_df[\"Year\"] == 2015]\n"
   ]
  },
  {
   "cell_type": "code",
   "execution_count": 20,
   "metadata": {},
   "outputs": [
    {
     "output_type": "execute_result",
     "data": {
      "text/plain": [
       "     yearID teamID lgID   playerID    salary                  name franchID\n",
       "0      2015    ARI   NL  ahmedni01    508500  Arizona Diamondbacks      ARI\n",
       "1      2015    ARI   NL  anderch01    512500  Arizona Diamondbacks      ARI\n",
       "2      2015    ARI   NL  chafian01    507500  Arizona Diamondbacks      ARI\n",
       "3      2015    ARI   NL  collmjo01   1400000  Arizona Diamondbacks      ARI\n",
       "4      2015    ARI   NL  corbipa01    524000  Arizona Diamondbacks      ARI\n",
       "..      ...    ...  ...        ...       ...                   ...      ...\n",
       "812    2015    WAS   NL  treinbl01    512800  Washington Nationals      WSN\n",
       "813    2015    WAS   NL  ugglada01    507500  Washington Nationals      WSN\n",
       "814    2015    WAS   NL  werthja01  21000000  Washington Nationals      WSN\n",
       "815    2015    WAS   NL  zimmejo02  16500000  Washington Nationals      WSN\n",
       "816    2015    WAS   NL  zimmery01  14000000  Washington Nationals      WSN\n",
       "\n",
       "[817 rows x 7 columns]"
      ],
      "text/html": "<div>\n<style scoped>\n    .dataframe tbody tr th:only-of-type {\n        vertical-align: middle;\n    }\n\n    .dataframe tbody tr th {\n        vertical-align: top;\n    }\n\n    .dataframe thead th {\n        text-align: right;\n    }\n</style>\n<table border=\"1\" class=\"dataframe\">\n  <thead>\n    <tr style=\"text-align: right;\">\n      <th></th>\n      <th>yearID</th>\n      <th>teamID</th>\n      <th>lgID</th>\n      <th>playerID</th>\n      <th>salary</th>\n      <th>name</th>\n      <th>franchID</th>\n    </tr>\n  </thead>\n  <tbody>\n    <tr>\n      <th>0</th>\n      <td>2015</td>\n      <td>ARI</td>\n      <td>NL</td>\n      <td>ahmedni01</td>\n      <td>508500</td>\n      <td>Arizona Diamondbacks</td>\n      <td>ARI</td>\n    </tr>\n    <tr>\n      <th>1</th>\n      <td>2015</td>\n      <td>ARI</td>\n      <td>NL</td>\n      <td>anderch01</td>\n      <td>512500</td>\n      <td>Arizona Diamondbacks</td>\n      <td>ARI</td>\n    </tr>\n    <tr>\n      <th>2</th>\n      <td>2015</td>\n      <td>ARI</td>\n      <td>NL</td>\n      <td>chafian01</td>\n      <td>507500</td>\n      <td>Arizona Diamondbacks</td>\n      <td>ARI</td>\n    </tr>\n    <tr>\n      <th>3</th>\n      <td>2015</td>\n      <td>ARI</td>\n      <td>NL</td>\n      <td>collmjo01</td>\n      <td>1400000</td>\n      <td>Arizona Diamondbacks</td>\n      <td>ARI</td>\n    </tr>\n    <tr>\n      <th>4</th>\n      <td>2015</td>\n      <td>ARI</td>\n      <td>NL</td>\n      <td>corbipa01</td>\n      <td>524000</td>\n      <td>Arizona Diamondbacks</td>\n      <td>ARI</td>\n    </tr>\n    <tr>\n      <th>...</th>\n      <td>...</td>\n      <td>...</td>\n      <td>...</td>\n      <td>...</td>\n      <td>...</td>\n      <td>...</td>\n      <td>...</td>\n    </tr>\n    <tr>\n      <th>812</th>\n      <td>2015</td>\n      <td>WAS</td>\n      <td>NL</td>\n      <td>treinbl01</td>\n      <td>512800</td>\n      <td>Washington Nationals</td>\n      <td>WSN</td>\n    </tr>\n    <tr>\n      <th>813</th>\n      <td>2015</td>\n      <td>WAS</td>\n      <td>NL</td>\n      <td>ugglada01</td>\n      <td>507500</td>\n      <td>Washington Nationals</td>\n      <td>WSN</td>\n    </tr>\n    <tr>\n      <th>814</th>\n      <td>2015</td>\n      <td>WAS</td>\n      <td>NL</td>\n      <td>werthja01</td>\n      <td>21000000</td>\n      <td>Washington Nationals</td>\n      <td>WSN</td>\n    </tr>\n    <tr>\n      <th>815</th>\n      <td>2015</td>\n      <td>WAS</td>\n      <td>NL</td>\n      <td>zimmejo02</td>\n      <td>16500000</td>\n      <td>Washington Nationals</td>\n      <td>WSN</td>\n    </tr>\n    <tr>\n      <th>816</th>\n      <td>2015</td>\n      <td>WAS</td>\n      <td>NL</td>\n      <td>zimmery01</td>\n      <td>14000000</td>\n      <td>Washington Nationals</td>\n      <td>WSN</td>\n    </tr>\n  </tbody>\n</table>\n<p>817 rows × 7 columns</p>\n</div>"
     },
     "metadata": {},
     "execution_count": 20
    }
   ],
   "source": [
    "salaries_df_2015 = salaries_final_df_2015.reset_index(drop=True)\n",
    "salaries_df_2015"
   ]
  },
  {
   "cell_type": "code",
   "execution_count": 21,
   "metadata": {},
   "outputs": [],
   "source": [
    "# grouping by teams for 2015 team salary totals\n",
    "sal_team_groupby_2015 = salaries_df_2015.groupby(['teamID'])\n",
    "sal_cap_2015 = sal_team_groupby_2015.sum()"
   ]
  },
  {
   "cell_type": "code",
   "execution_count": 27,
   "metadata": {},
   "outputs": [
    {
     "output_type": "execute_result",
     "data": {
      "text/plain": [
       "30"
      ]
     },
     "metadata": {},
     "execution_count": 27
    }
   ],
   "source": [
    "sal_cap_2015_df_1 = pd.DataFrame(sal_cap_2015)\n",
    "sal_cap_2015_df = sal_cap_2015_df_1[\"salary\"]\n",
    "len(sal_cap_2015_df)"
   ]
  },
  {
   "cell_type": "code",
   "execution_count": 38,
   "metadata": {},
   "outputs": [
    {
     "output_type": "execute_result",
     "data": {
      "text/plain": [
       "    Year Team ID                      Team Name  Games  Wins  Loses  \\\n",
       "0   2015     KCA             Kansas City Royals    162    95     67   \n",
       "1   2015     MIN                Minnesota Twins    162    83     79   \n",
       "2   2015     CLE              Cleveland Indians    161    81     80   \n",
       "3   2015     CHA              Chicago White Sox    162    76     86   \n",
       "4   2015     DET                 Detroit Tigers    161    74     87   \n",
       "5   2015     TOR              Toronto Blue Jays    162    93     69   \n",
       "6   2015     NYA               New York Yankees    162    87     75   \n",
       "7   2015     BAL              Baltimore Orioles    162    81     81   \n",
       "8   2015     TBA                 Tampa Bay Rays    162    80     82   \n",
       "9   2015     BOS                 Boston Red Sox    162    78     84   \n",
       "10  2015     TEX                  Texas Rangers    162    88     74   \n",
       "11  2015     HOU                 Houston Astros    162    86     76   \n",
       "12  2015     LAA  Los Angeles Angels of Anaheim    162    85     77   \n",
       "13  2015     SEA               Seattle Mariners    162    76     86   \n",
       "14  2015     OAK              Oakland Athletics    162    68     94   \n",
       "15  2015     SLN            St. Louis Cardinals    162   100     62   \n",
       "16  2015     PIT             Pittsburgh Pirates    162    98     64   \n",
       "17  2015     CHN                   Chicago Cubs    162    97     65   \n",
       "18  2015     MIL              Milwaukee Brewers    162    68     94   \n",
       "19  2015     CIN                Cincinnati Reds    162    64     98   \n",
       "20  2015     NYN                  New York Mets    162    90     72   \n",
       "21  2015     WAS           Washington Nationals    162    83     79   \n",
       "22  2015     MIA                  Miami Marlins    162    71     91   \n",
       "23  2015     ATL                 Atlanta Braves    162    67     95   \n",
       "24  2015     PHI          Philadelphia Phillies    162    63     99   \n",
       "25  2015     LAN            Los Angeles Dodgers    162    92     70   \n",
       "26  2015     SFN           San Francisco Giants    162    84     78   \n",
       "27  2015     ARI           Arizona Diamondbacks    162    79     83   \n",
       "28  2015     SDN               San Diego Padres    162    74     88   \n",
       "29  2015     COL               Colorado Rockies    162    68     94   \n",
       "\n",
       "    Team Salary  \n",
       "0     112107025  \n",
       "1     107755000  \n",
       "2      87663766  \n",
       "3     112373700  \n",
       "4     172284750  \n",
       "5     112992400  \n",
       "6     212751957  \n",
       "7     115044833  \n",
       "8      64521233  \n",
       "9     181103400  \n",
       "10    143742789  \n",
       "11     72256200  \n",
       "12    120005415  \n",
       "13    122208700  \n",
       "14     79053501  \n",
       "15    119241500  \n",
       "16     88892499  \n",
       "17    115879310  \n",
       "18    100850000  \n",
       "19    113072286  \n",
       "20     96766683  \n",
       "21    155587472  \n",
       "22     68056500  \n",
       "23     71781250  \n",
       "24    111693000  \n",
       "25    215792000  \n",
       "26    164701500  \n",
       "27     61834000  \n",
       "28    118441300  \n",
       "29     95688600  "
      ],
      "text/html": "<div>\n<style scoped>\n    .dataframe tbody tr th:only-of-type {\n        vertical-align: middle;\n    }\n\n    .dataframe tbody tr th {\n        vertical-align: top;\n    }\n\n    .dataframe thead th {\n        text-align: right;\n    }\n</style>\n<table border=\"1\" class=\"dataframe\">\n  <thead>\n    <tr style=\"text-align: right;\">\n      <th></th>\n      <th>Year</th>\n      <th>Team ID</th>\n      <th>Team Name</th>\n      <th>Games</th>\n      <th>Wins</th>\n      <th>Loses</th>\n      <th>Team Salary</th>\n    </tr>\n  </thead>\n  <tbody>\n    <tr>\n      <th>0</th>\n      <td>2015</td>\n      <td>KCA</td>\n      <td>Kansas City Royals</td>\n      <td>162</td>\n      <td>95</td>\n      <td>67</td>\n      <td>112107025</td>\n    </tr>\n    <tr>\n      <th>1</th>\n      <td>2015</td>\n      <td>MIN</td>\n      <td>Minnesota Twins</td>\n      <td>162</td>\n      <td>83</td>\n      <td>79</td>\n      <td>107755000</td>\n    </tr>\n    <tr>\n      <th>2</th>\n      <td>2015</td>\n      <td>CLE</td>\n      <td>Cleveland Indians</td>\n      <td>161</td>\n      <td>81</td>\n      <td>80</td>\n      <td>87663766</td>\n    </tr>\n    <tr>\n      <th>3</th>\n      <td>2015</td>\n      <td>CHA</td>\n      <td>Chicago White Sox</td>\n      <td>162</td>\n      <td>76</td>\n      <td>86</td>\n      <td>112373700</td>\n    </tr>\n    <tr>\n      <th>4</th>\n      <td>2015</td>\n      <td>DET</td>\n      <td>Detroit Tigers</td>\n      <td>161</td>\n      <td>74</td>\n      <td>87</td>\n      <td>172284750</td>\n    </tr>\n    <tr>\n      <th>5</th>\n      <td>2015</td>\n      <td>TOR</td>\n      <td>Toronto Blue Jays</td>\n      <td>162</td>\n      <td>93</td>\n      <td>69</td>\n      <td>112992400</td>\n    </tr>\n    <tr>\n      <th>6</th>\n      <td>2015</td>\n      <td>NYA</td>\n      <td>New York Yankees</td>\n      <td>162</td>\n      <td>87</td>\n      <td>75</td>\n      <td>212751957</td>\n    </tr>\n    <tr>\n      <th>7</th>\n      <td>2015</td>\n      <td>BAL</td>\n      <td>Baltimore Orioles</td>\n      <td>162</td>\n      <td>81</td>\n      <td>81</td>\n      <td>115044833</td>\n    </tr>\n    <tr>\n      <th>8</th>\n      <td>2015</td>\n      <td>TBA</td>\n      <td>Tampa Bay Rays</td>\n      <td>162</td>\n      <td>80</td>\n      <td>82</td>\n      <td>64521233</td>\n    </tr>\n    <tr>\n      <th>9</th>\n      <td>2015</td>\n      <td>BOS</td>\n      <td>Boston Red Sox</td>\n      <td>162</td>\n      <td>78</td>\n      <td>84</td>\n      <td>181103400</td>\n    </tr>\n    <tr>\n      <th>10</th>\n      <td>2015</td>\n      <td>TEX</td>\n      <td>Texas Rangers</td>\n      <td>162</td>\n      <td>88</td>\n      <td>74</td>\n      <td>143742789</td>\n    </tr>\n    <tr>\n      <th>11</th>\n      <td>2015</td>\n      <td>HOU</td>\n      <td>Houston Astros</td>\n      <td>162</td>\n      <td>86</td>\n      <td>76</td>\n      <td>72256200</td>\n    </tr>\n    <tr>\n      <th>12</th>\n      <td>2015</td>\n      <td>LAA</td>\n      <td>Los Angeles Angels of Anaheim</td>\n      <td>162</td>\n      <td>85</td>\n      <td>77</td>\n      <td>120005415</td>\n    </tr>\n    <tr>\n      <th>13</th>\n      <td>2015</td>\n      <td>SEA</td>\n      <td>Seattle Mariners</td>\n      <td>162</td>\n      <td>76</td>\n      <td>86</td>\n      <td>122208700</td>\n    </tr>\n    <tr>\n      <th>14</th>\n      <td>2015</td>\n      <td>OAK</td>\n      <td>Oakland Athletics</td>\n      <td>162</td>\n      <td>68</td>\n      <td>94</td>\n      <td>79053501</td>\n    </tr>\n    <tr>\n      <th>15</th>\n      <td>2015</td>\n      <td>SLN</td>\n      <td>St. Louis Cardinals</td>\n      <td>162</td>\n      <td>100</td>\n      <td>62</td>\n      <td>119241500</td>\n    </tr>\n    <tr>\n      <th>16</th>\n      <td>2015</td>\n      <td>PIT</td>\n      <td>Pittsburgh Pirates</td>\n      <td>162</td>\n      <td>98</td>\n      <td>64</td>\n      <td>88892499</td>\n    </tr>\n    <tr>\n      <th>17</th>\n      <td>2015</td>\n      <td>CHN</td>\n      <td>Chicago Cubs</td>\n      <td>162</td>\n      <td>97</td>\n      <td>65</td>\n      <td>115879310</td>\n    </tr>\n    <tr>\n      <th>18</th>\n      <td>2015</td>\n      <td>MIL</td>\n      <td>Milwaukee Brewers</td>\n      <td>162</td>\n      <td>68</td>\n      <td>94</td>\n      <td>100850000</td>\n    </tr>\n    <tr>\n      <th>19</th>\n      <td>2015</td>\n      <td>CIN</td>\n      <td>Cincinnati Reds</td>\n      <td>162</td>\n      <td>64</td>\n      <td>98</td>\n      <td>113072286</td>\n    </tr>\n    <tr>\n      <th>20</th>\n      <td>2015</td>\n      <td>NYN</td>\n      <td>New York Mets</td>\n      <td>162</td>\n      <td>90</td>\n      <td>72</td>\n      <td>96766683</td>\n    </tr>\n    <tr>\n      <th>21</th>\n      <td>2015</td>\n      <td>WAS</td>\n      <td>Washington Nationals</td>\n      <td>162</td>\n      <td>83</td>\n      <td>79</td>\n      <td>155587472</td>\n    </tr>\n    <tr>\n      <th>22</th>\n      <td>2015</td>\n      <td>MIA</td>\n      <td>Miami Marlins</td>\n      <td>162</td>\n      <td>71</td>\n      <td>91</td>\n      <td>68056500</td>\n    </tr>\n    <tr>\n      <th>23</th>\n      <td>2015</td>\n      <td>ATL</td>\n      <td>Atlanta Braves</td>\n      <td>162</td>\n      <td>67</td>\n      <td>95</td>\n      <td>71781250</td>\n    </tr>\n    <tr>\n      <th>24</th>\n      <td>2015</td>\n      <td>PHI</td>\n      <td>Philadelphia Phillies</td>\n      <td>162</td>\n      <td>63</td>\n      <td>99</td>\n      <td>111693000</td>\n    </tr>\n    <tr>\n      <th>25</th>\n      <td>2015</td>\n      <td>LAN</td>\n      <td>Los Angeles Dodgers</td>\n      <td>162</td>\n      <td>92</td>\n      <td>70</td>\n      <td>215792000</td>\n    </tr>\n    <tr>\n      <th>26</th>\n      <td>2015</td>\n      <td>SFN</td>\n      <td>San Francisco Giants</td>\n      <td>162</td>\n      <td>84</td>\n      <td>78</td>\n      <td>164701500</td>\n    </tr>\n    <tr>\n      <th>27</th>\n      <td>2015</td>\n      <td>ARI</td>\n      <td>Arizona Diamondbacks</td>\n      <td>162</td>\n      <td>79</td>\n      <td>83</td>\n      <td>61834000</td>\n    </tr>\n    <tr>\n      <th>28</th>\n      <td>2015</td>\n      <td>SDN</td>\n      <td>San Diego Padres</td>\n      <td>162</td>\n      <td>74</td>\n      <td>88</td>\n      <td>118441300</td>\n    </tr>\n    <tr>\n      <th>29</th>\n      <td>2015</td>\n      <td>COL</td>\n      <td>Colorado Rockies</td>\n      <td>162</td>\n      <td>68</td>\n      <td>94</td>\n      <td>95688600</td>\n    </tr>\n  </tbody>\n</table>\n</div>"
     },
     "metadata": {},
     "execution_count": 38
    }
   ],
   "source": [
    "# merging sal cap 2015 sum into teams df\n",
    "teams_sal_cap_2015_2 = teams_df_2015.merge(sal_cap_2015_df,how=\"left\",left_on=\"Team ID\",right_index=True)\n",
    "teams_sal_cap_2015_3 = teams_sal_cap_2015_2.reset_index(drop=True)\n",
    "teams_sal_cap_2015 = teams_sal_cap_2015_3.rename(columns={\"salary\" : \"Team Salary\"})\n",
    "teams_sal_cap_2015"
   ]
  },
  {
   "cell_type": "code",
   "execution_count": 39,
   "metadata": {},
   "outputs": [
    {
     "output_type": "execute_result",
     "data": {
      "text/plain": [
       "    Year Team ID                      Team Name  Games  Wins  Loses  \\\n",
       "15  2015     SLN            St. Louis Cardinals    162   100     62   \n",
       "16  2015     PIT             Pittsburgh Pirates    162    98     64   \n",
       "17  2015     CHN                   Chicago Cubs    162    97     65   \n",
       "0   2015     KCA             Kansas City Royals    162    95     67   \n",
       "5   2015     TOR              Toronto Blue Jays    162    93     69   \n",
       "25  2015     LAN            Los Angeles Dodgers    162    92     70   \n",
       "20  2015     NYN                  New York Mets    162    90     72   \n",
       "10  2015     TEX                  Texas Rangers    162    88     74   \n",
       "6   2015     NYA               New York Yankees    162    87     75   \n",
       "11  2015     HOU                 Houston Astros    162    86     76   \n",
       "12  2015     LAA  Los Angeles Angels of Anaheim    162    85     77   \n",
       "26  2015     SFN           San Francisco Giants    162    84     78   \n",
       "21  2015     WAS           Washington Nationals    162    83     79   \n",
       "1   2015     MIN                Minnesota Twins    162    83     79   \n",
       "2   2015     CLE              Cleveland Indians    161    81     80   \n",
       "7   2015     BAL              Baltimore Orioles    162    81     81   \n",
       "8   2015     TBA                 Tampa Bay Rays    162    80     82   \n",
       "27  2015     ARI           Arizona Diamondbacks    162    79     83   \n",
       "9   2015     BOS                 Boston Red Sox    162    78     84   \n",
       "3   2015     CHA              Chicago White Sox    162    76     86   \n",
       "13  2015     SEA               Seattle Mariners    162    76     86   \n",
       "28  2015     SDN               San Diego Padres    162    74     88   \n",
       "4   2015     DET                 Detroit Tigers    161    74     87   \n",
       "22  2015     MIA                  Miami Marlins    162    71     91   \n",
       "18  2015     MIL              Milwaukee Brewers    162    68     94   \n",
       "14  2015     OAK              Oakland Athletics    162    68     94   \n",
       "29  2015     COL               Colorado Rockies    162    68     94   \n",
       "23  2015     ATL                 Atlanta Braves    162    67     95   \n",
       "19  2015     CIN                Cincinnati Reds    162    64     98   \n",
       "24  2015     PHI          Philadelphia Phillies    162    63     99   \n",
       "\n",
       "    Team Salary  \n",
       "15    119241500  \n",
       "16     88892499  \n",
       "17    115879310  \n",
       "0     112107025  \n",
       "5     112992400  \n",
       "25    215792000  \n",
       "20     96766683  \n",
       "10    143742789  \n",
       "6     212751957  \n",
       "11     72256200  \n",
       "12    120005415  \n",
       "26    164701500  \n",
       "21    155587472  \n",
       "1     107755000  \n",
       "2      87663766  \n",
       "7     115044833  \n",
       "8      64521233  \n",
       "27     61834000  \n",
       "9     181103400  \n",
       "3     112373700  \n",
       "13    122208700  \n",
       "28    118441300  \n",
       "4     172284750  \n",
       "22     68056500  \n",
       "18    100850000  \n",
       "14     79053501  \n",
       "29     95688600  \n",
       "23     71781250  \n",
       "19    113072286  \n",
       "24    111693000  "
      ],
      "text/html": "<div>\n<style scoped>\n    .dataframe tbody tr th:only-of-type {\n        vertical-align: middle;\n    }\n\n    .dataframe tbody tr th {\n        vertical-align: top;\n    }\n\n    .dataframe thead th {\n        text-align: right;\n    }\n</style>\n<table border=\"1\" class=\"dataframe\">\n  <thead>\n    <tr style=\"text-align: right;\">\n      <th></th>\n      <th>Year</th>\n      <th>Team ID</th>\n      <th>Team Name</th>\n      <th>Games</th>\n      <th>Wins</th>\n      <th>Loses</th>\n      <th>Team Salary</th>\n    </tr>\n  </thead>\n  <tbody>\n    <tr>\n      <th>15</th>\n      <td>2015</td>\n      <td>SLN</td>\n      <td>St. Louis Cardinals</td>\n      <td>162</td>\n      <td>100</td>\n      <td>62</td>\n      <td>119241500</td>\n    </tr>\n    <tr>\n      <th>16</th>\n      <td>2015</td>\n      <td>PIT</td>\n      <td>Pittsburgh Pirates</td>\n      <td>162</td>\n      <td>98</td>\n      <td>64</td>\n      <td>88892499</td>\n    </tr>\n    <tr>\n      <th>17</th>\n      <td>2015</td>\n      <td>CHN</td>\n      <td>Chicago Cubs</td>\n      <td>162</td>\n      <td>97</td>\n      <td>65</td>\n      <td>115879310</td>\n    </tr>\n    <tr>\n      <th>0</th>\n      <td>2015</td>\n      <td>KCA</td>\n      <td>Kansas City Royals</td>\n      <td>162</td>\n      <td>95</td>\n      <td>67</td>\n      <td>112107025</td>\n    </tr>\n    <tr>\n      <th>5</th>\n      <td>2015</td>\n      <td>TOR</td>\n      <td>Toronto Blue Jays</td>\n      <td>162</td>\n      <td>93</td>\n      <td>69</td>\n      <td>112992400</td>\n    </tr>\n    <tr>\n      <th>25</th>\n      <td>2015</td>\n      <td>LAN</td>\n      <td>Los Angeles Dodgers</td>\n      <td>162</td>\n      <td>92</td>\n      <td>70</td>\n      <td>215792000</td>\n    </tr>\n    <tr>\n      <th>20</th>\n      <td>2015</td>\n      <td>NYN</td>\n      <td>New York Mets</td>\n      <td>162</td>\n      <td>90</td>\n      <td>72</td>\n      <td>96766683</td>\n    </tr>\n    <tr>\n      <th>10</th>\n      <td>2015</td>\n      <td>TEX</td>\n      <td>Texas Rangers</td>\n      <td>162</td>\n      <td>88</td>\n      <td>74</td>\n      <td>143742789</td>\n    </tr>\n    <tr>\n      <th>6</th>\n      <td>2015</td>\n      <td>NYA</td>\n      <td>New York Yankees</td>\n      <td>162</td>\n      <td>87</td>\n      <td>75</td>\n      <td>212751957</td>\n    </tr>\n    <tr>\n      <th>11</th>\n      <td>2015</td>\n      <td>HOU</td>\n      <td>Houston Astros</td>\n      <td>162</td>\n      <td>86</td>\n      <td>76</td>\n      <td>72256200</td>\n    </tr>\n    <tr>\n      <th>12</th>\n      <td>2015</td>\n      <td>LAA</td>\n      <td>Los Angeles Angels of Anaheim</td>\n      <td>162</td>\n      <td>85</td>\n      <td>77</td>\n      <td>120005415</td>\n    </tr>\n    <tr>\n      <th>26</th>\n      <td>2015</td>\n      <td>SFN</td>\n      <td>San Francisco Giants</td>\n      <td>162</td>\n      <td>84</td>\n      <td>78</td>\n      <td>164701500</td>\n    </tr>\n    <tr>\n      <th>21</th>\n      <td>2015</td>\n      <td>WAS</td>\n      <td>Washington Nationals</td>\n      <td>162</td>\n      <td>83</td>\n      <td>79</td>\n      <td>155587472</td>\n    </tr>\n    <tr>\n      <th>1</th>\n      <td>2015</td>\n      <td>MIN</td>\n      <td>Minnesota Twins</td>\n      <td>162</td>\n      <td>83</td>\n      <td>79</td>\n      <td>107755000</td>\n    </tr>\n    <tr>\n      <th>2</th>\n      <td>2015</td>\n      <td>CLE</td>\n      <td>Cleveland Indians</td>\n      <td>161</td>\n      <td>81</td>\n      <td>80</td>\n      <td>87663766</td>\n    </tr>\n    <tr>\n      <th>7</th>\n      <td>2015</td>\n      <td>BAL</td>\n      <td>Baltimore Orioles</td>\n      <td>162</td>\n      <td>81</td>\n      <td>81</td>\n      <td>115044833</td>\n    </tr>\n    <tr>\n      <th>8</th>\n      <td>2015</td>\n      <td>TBA</td>\n      <td>Tampa Bay Rays</td>\n      <td>162</td>\n      <td>80</td>\n      <td>82</td>\n      <td>64521233</td>\n    </tr>\n    <tr>\n      <th>27</th>\n      <td>2015</td>\n      <td>ARI</td>\n      <td>Arizona Diamondbacks</td>\n      <td>162</td>\n      <td>79</td>\n      <td>83</td>\n      <td>61834000</td>\n    </tr>\n    <tr>\n      <th>9</th>\n      <td>2015</td>\n      <td>BOS</td>\n      <td>Boston Red Sox</td>\n      <td>162</td>\n      <td>78</td>\n      <td>84</td>\n      <td>181103400</td>\n    </tr>\n    <tr>\n      <th>3</th>\n      <td>2015</td>\n      <td>CHA</td>\n      <td>Chicago White Sox</td>\n      <td>162</td>\n      <td>76</td>\n      <td>86</td>\n      <td>112373700</td>\n    </tr>\n    <tr>\n      <th>13</th>\n      <td>2015</td>\n      <td>SEA</td>\n      <td>Seattle Mariners</td>\n      <td>162</td>\n      <td>76</td>\n      <td>86</td>\n      <td>122208700</td>\n    </tr>\n    <tr>\n      <th>28</th>\n      <td>2015</td>\n      <td>SDN</td>\n      <td>San Diego Padres</td>\n      <td>162</td>\n      <td>74</td>\n      <td>88</td>\n      <td>118441300</td>\n    </tr>\n    <tr>\n      <th>4</th>\n      <td>2015</td>\n      <td>DET</td>\n      <td>Detroit Tigers</td>\n      <td>161</td>\n      <td>74</td>\n      <td>87</td>\n      <td>172284750</td>\n    </tr>\n    <tr>\n      <th>22</th>\n      <td>2015</td>\n      <td>MIA</td>\n      <td>Miami Marlins</td>\n      <td>162</td>\n      <td>71</td>\n      <td>91</td>\n      <td>68056500</td>\n    </tr>\n    <tr>\n      <th>18</th>\n      <td>2015</td>\n      <td>MIL</td>\n      <td>Milwaukee Brewers</td>\n      <td>162</td>\n      <td>68</td>\n      <td>94</td>\n      <td>100850000</td>\n    </tr>\n    <tr>\n      <th>14</th>\n      <td>2015</td>\n      <td>OAK</td>\n      <td>Oakland Athletics</td>\n      <td>162</td>\n      <td>68</td>\n      <td>94</td>\n      <td>79053501</td>\n    </tr>\n    <tr>\n      <th>29</th>\n      <td>2015</td>\n      <td>COL</td>\n      <td>Colorado Rockies</td>\n      <td>162</td>\n      <td>68</td>\n      <td>94</td>\n      <td>95688600</td>\n    </tr>\n    <tr>\n      <th>23</th>\n      <td>2015</td>\n      <td>ATL</td>\n      <td>Atlanta Braves</td>\n      <td>162</td>\n      <td>67</td>\n      <td>95</td>\n      <td>71781250</td>\n    </tr>\n    <tr>\n      <th>19</th>\n      <td>2015</td>\n      <td>CIN</td>\n      <td>Cincinnati Reds</td>\n      <td>162</td>\n      <td>64</td>\n      <td>98</td>\n      <td>113072286</td>\n    </tr>\n    <tr>\n      <th>24</th>\n      <td>2015</td>\n      <td>PHI</td>\n      <td>Philadelphia Phillies</td>\n      <td>162</td>\n      <td>63</td>\n      <td>99</td>\n      <td>111693000</td>\n    </tr>\n  </tbody>\n</table>\n</div>"
     },
     "metadata": {},
     "execution_count": 39
    }
   ],
   "source": [
    "# sorting by wins\n",
    "teams_sal_cap_2015_sorted_wins = teams_sal_cap_2015.sort_values(by='Wins', ascending=False)\n",
    "teams_sal_cap_2015_sorted_wins"
   ]
  },
  {
   "cell_type": "code",
   "execution_count": null,
   "metadata": {},
   "outputs": [],
   "source": []
  },
  {
   "cell_type": "code",
   "execution_count": null,
   "metadata": {},
   "outputs": [],
   "source": []
  },
  {
   "cell_type": "code",
   "execution_count": 40,
   "metadata": {},
   "outputs": [],
   "source": [
    "# outputing csvs\n",
    "team_sal_2105_output_path = \"output_csv/Teams_Wins_Salary_2015.csv\"\n",
    "teams_sal_cap_2015_sorted_wins.to_csv(team_sal_2105_output_path,index=False)"
   ]
  },
  {
   "cell_type": "code",
   "execution_count": null,
   "metadata": {},
   "outputs": [],
   "source": []
  }
 ]
}