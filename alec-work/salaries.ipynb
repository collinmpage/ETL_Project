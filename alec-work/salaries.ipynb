{
 "metadata": {
  "language_info": {
   "codemirror_mode": {
    "name": "ipython",
    "version": 3
   },
   "file_extension": ".py",
   "mimetype": "text/x-python",
   "name": "python",
   "nbconvert_exporter": "python",
   "pygments_lexer": "ipython3",
   "version": "3.8.5-final"
  },
  "orig_nbformat": 2,
  "kernelspec": {
   "name": "python3",
   "display_name": "Python 3.8.5 64-bit (conda)",
   "metadata": {
    "interpreter": {
     "hash": "006b2a4c59105e151f59d7a783e9669671dc3b315a85df72952575de8c58cde6"
    }
   }
  }
 },
 "nbformat": 4,
 "nbformat_minor": 2,
 "cells": [
  {
   "cell_type": "code",
   "execution_count": 1,
   "metadata": {},
   "outputs": [],
   "source": [
    "# importing dependencies\n",
    "import pandas as pd\n",
    "from sqlalchemy import create_engine"
   ]
  },
  {
   "cell_type": "code",
   "execution_count": 5,
   "metadata": {},
   "outputs": [],
   "source": [
    "# reading in csv data\n",
    "salaries_file = \"../Resources/Salaries.csv\"\n",
    "salaries_raw_df = pd.read_csv(salaries_file)\n",
    "\n",
    "teams_file = \"../Resources/Teams.csv\"\n",
    "teams_raw_df = pd.read_csv(teams_file)\n",
    "\n",
    "teams_fran_file = \"../Resources/TeamsFranchises.csv\"\n",
    "teams_fran_raw_df = pd.read_csv(teams_fran_file)\n",
    "\n",
    "master_file = \"../Resources/Master.csv\"\n",
    "master_players_raw_df = pd.read_csv(master_file)\n"
   ]
  },
  {
   "cell_type": "code",
   "execution_count": 4,
   "metadata": {},
   "outputs": [
    {
     "output_type": "execute_result",
     "data": {
      "text/plain": [
       "   yearID teamID lgID   playerID  salary\n",
       "0    1985    ATL   NL  barkele01  870000\n",
       "1    1985    ATL   NL  bedrost01  550000\n",
       "2    1985    ATL   NL  benedbr01  545000\n",
       "3    1985    ATL   NL   campri01  633333\n",
       "4    1985    ATL   NL  ceronri01  625000"
      ],
      "text/html": "<div>\n<style scoped>\n    .dataframe tbody tr th:only-of-type {\n        vertical-align: middle;\n    }\n\n    .dataframe tbody tr th {\n        vertical-align: top;\n    }\n\n    .dataframe thead th {\n        text-align: right;\n    }\n</style>\n<table border=\"1\" class=\"dataframe\">\n  <thead>\n    <tr style=\"text-align: right;\">\n      <th></th>\n      <th>yearID</th>\n      <th>teamID</th>\n      <th>lgID</th>\n      <th>playerID</th>\n      <th>salary</th>\n    </tr>\n  </thead>\n  <tbody>\n    <tr>\n      <th>0</th>\n      <td>1985</td>\n      <td>ATL</td>\n      <td>NL</td>\n      <td>barkele01</td>\n      <td>870000</td>\n    </tr>\n    <tr>\n      <th>1</th>\n      <td>1985</td>\n      <td>ATL</td>\n      <td>NL</td>\n      <td>bedrost01</td>\n      <td>550000</td>\n    </tr>\n    <tr>\n      <th>2</th>\n      <td>1985</td>\n      <td>ATL</td>\n      <td>NL</td>\n      <td>benedbr01</td>\n      <td>545000</td>\n    </tr>\n    <tr>\n      <th>3</th>\n      <td>1985</td>\n      <td>ATL</td>\n      <td>NL</td>\n      <td>campri01</td>\n      <td>633333</td>\n    </tr>\n    <tr>\n      <th>4</th>\n      <td>1985</td>\n      <td>ATL</td>\n      <td>NL</td>\n      <td>ceronri01</td>\n      <td>625000</td>\n    </tr>\n  </tbody>\n</table>\n</div>"
     },
     "metadata": {},
     "execution_count": 4
    }
   ],
   "source": [
    "# previewing the salaries df \n",
    "# [\"yearID\",\"teamID\",\"lgID\",\"playerID\",\"salary\"]\n",
    "salaries_raw_df.head(5)"
   ]
  },
  {
   "cell_type": "code",
   "execution_count": 29,
   "metadata": {},
   "outputs": [
    {
     "output_type": "execute_result",
     "data": {
      "text/plain": [
       "      yearID lgID teamID franchID divID  Rank    G  Ghome   W   L  ...     DP  \\\n",
       "2795    2015   NL    NYN      NYM     E     1  162   81.0  90  72  ...  131.0   \n",
       "2796    2015   NL    WAS      WSN     E     2  162   81.0  83  79  ...  125.0   \n",
       "2797    2015   NL    MIA      FLA     E     3  162   81.0  71  91  ...  162.0   \n",
       "2798    2015   NL    ATL      ATL     E     4  162   81.0  67  95  ...  186.0   \n",
       "2799    2015   NL    PHI      PHI     E     5  162   81.0  63  99  ...  145.0   \n",
       "2800    2015   NL    LAN      LAD     W     1  162   81.0  92  70  ...  133.0   \n",
       "2801    2015   NL    SFN      SFG     W     2  162   81.0  84  78  ...  145.0   \n",
       "2802    2015   NL    ARI      ARI     W     3  162   81.0  79  83  ...  146.0   \n",
       "2803    2015   NL    SDN      SDP     W     4  162   81.0  74  88  ...  138.0   \n",
       "2804    2015   NL    COL      COL     W     5  162   81.0  68  94  ...  171.0   \n",
       "\n",
       "         FP                   name                park  attendance  BPF  PPF  \\\n",
       "2795  0.986          New York Mets          Citi Field   2569753.0   94   92   \n",
       "2796  0.985   Washington Nationals      Nationals Park   2619843.0  102   99   \n",
       "2797  0.987          Miami Marlins        Marlins Park   1752235.0   98   97   \n",
       "2798  0.985         Atlanta Braves        Turner Field   2001392.0   97   97   \n",
       "2799  0.981  Philadelphia Phillies  Citizens Bank Park   1831080.0   98   98   \n",
       "2800  0.988    Los Angeles Dodgers      Dodger Stadium   3764815.0  101   98   \n",
       "2801  0.987   San Francisco Giants           AT&T Park   3375882.0   99   97   \n",
       "2802  0.986   Arizona Diamondbacks         Chase Field   2080145.0  107  106   \n",
       "2803  0.985       San Diego Padres          Petco Park   2459742.0   98   97   \n",
       "2804  0.985       Colorado Rockies         Coors Field   2506789.0  119  118   \n",
       "\n",
       "      teamIDBR  teamIDlahman45  teamIDretro  \n",
       "2795       NYM             NYN          NYN  \n",
       "2796       WSN             MON          WAS  \n",
       "2797       MIA             FLO          MIA  \n",
       "2798       ATL             ATL          ATL  \n",
       "2799       PHI             PHI          PHI  \n",
       "2800       LAD             LAN          LAN  \n",
       "2801       SFG             SFN          SFN  \n",
       "2802       ARI             ARI          ARI  \n",
       "2803       SDP             SDN          SDN  \n",
       "2804       COL             COL          COL  \n",
       "\n",
       "[10 rows x 48 columns]"
      ],
      "text/html": "<div>\n<style scoped>\n    .dataframe tbody tr th:only-of-type {\n        vertical-align: middle;\n    }\n\n    .dataframe tbody tr th {\n        vertical-align: top;\n    }\n\n    .dataframe thead th {\n        text-align: right;\n    }\n</style>\n<table border=\"1\" class=\"dataframe\">\n  <thead>\n    <tr style=\"text-align: right;\">\n      <th></th>\n      <th>yearID</th>\n      <th>lgID</th>\n      <th>teamID</th>\n      <th>franchID</th>\n      <th>divID</th>\n      <th>Rank</th>\n      <th>G</th>\n      <th>Ghome</th>\n      <th>W</th>\n      <th>L</th>\n      <th>...</th>\n      <th>DP</th>\n      <th>FP</th>\n      <th>name</th>\n      <th>park</th>\n      <th>attendance</th>\n      <th>BPF</th>\n      <th>PPF</th>\n      <th>teamIDBR</th>\n      <th>teamIDlahman45</th>\n      <th>teamIDretro</th>\n    </tr>\n  </thead>\n  <tbody>\n    <tr>\n      <th>2795</th>\n      <td>2015</td>\n      <td>NL</td>\n      <td>NYN</td>\n      <td>NYM</td>\n      <td>E</td>\n      <td>1</td>\n      <td>162</td>\n      <td>81.0</td>\n      <td>90</td>\n      <td>72</td>\n      <td>...</td>\n      <td>131.0</td>\n      <td>0.986</td>\n      <td>New York Mets</td>\n      <td>Citi Field</td>\n      <td>2569753.0</td>\n      <td>94</td>\n      <td>92</td>\n      <td>NYM</td>\n      <td>NYN</td>\n      <td>NYN</td>\n    </tr>\n    <tr>\n      <th>2796</th>\n      <td>2015</td>\n      <td>NL</td>\n      <td>WAS</td>\n      <td>WSN</td>\n      <td>E</td>\n      <td>2</td>\n      <td>162</td>\n      <td>81.0</td>\n      <td>83</td>\n      <td>79</td>\n      <td>...</td>\n      <td>125.0</td>\n      <td>0.985</td>\n      <td>Washington Nationals</td>\n      <td>Nationals Park</td>\n      <td>2619843.0</td>\n      <td>102</td>\n      <td>99</td>\n      <td>WSN</td>\n      <td>MON</td>\n      <td>WAS</td>\n    </tr>\n    <tr>\n      <th>2797</th>\n      <td>2015</td>\n      <td>NL</td>\n      <td>MIA</td>\n      <td>FLA</td>\n      <td>E</td>\n      <td>3</td>\n      <td>162</td>\n      <td>81.0</td>\n      <td>71</td>\n      <td>91</td>\n      <td>...</td>\n      <td>162.0</td>\n      <td>0.987</td>\n      <td>Miami Marlins</td>\n      <td>Marlins Park</td>\n      <td>1752235.0</td>\n      <td>98</td>\n      <td>97</td>\n      <td>MIA</td>\n      <td>FLO</td>\n      <td>MIA</td>\n    </tr>\n    <tr>\n      <th>2798</th>\n      <td>2015</td>\n      <td>NL</td>\n      <td>ATL</td>\n      <td>ATL</td>\n      <td>E</td>\n      <td>4</td>\n      <td>162</td>\n      <td>81.0</td>\n      <td>67</td>\n      <td>95</td>\n      <td>...</td>\n      <td>186.0</td>\n      <td>0.985</td>\n      <td>Atlanta Braves</td>\n      <td>Turner Field</td>\n      <td>2001392.0</td>\n      <td>97</td>\n      <td>97</td>\n      <td>ATL</td>\n      <td>ATL</td>\n      <td>ATL</td>\n    </tr>\n    <tr>\n      <th>2799</th>\n      <td>2015</td>\n      <td>NL</td>\n      <td>PHI</td>\n      <td>PHI</td>\n      <td>E</td>\n      <td>5</td>\n      <td>162</td>\n      <td>81.0</td>\n      <td>63</td>\n      <td>99</td>\n      <td>...</td>\n      <td>145.0</td>\n      <td>0.981</td>\n      <td>Philadelphia Phillies</td>\n      <td>Citizens Bank Park</td>\n      <td>1831080.0</td>\n      <td>98</td>\n      <td>98</td>\n      <td>PHI</td>\n      <td>PHI</td>\n      <td>PHI</td>\n    </tr>\n    <tr>\n      <th>2800</th>\n      <td>2015</td>\n      <td>NL</td>\n      <td>LAN</td>\n      <td>LAD</td>\n      <td>W</td>\n      <td>1</td>\n      <td>162</td>\n      <td>81.0</td>\n      <td>92</td>\n      <td>70</td>\n      <td>...</td>\n      <td>133.0</td>\n      <td>0.988</td>\n      <td>Los Angeles Dodgers</td>\n      <td>Dodger Stadium</td>\n      <td>3764815.0</td>\n      <td>101</td>\n      <td>98</td>\n      <td>LAD</td>\n      <td>LAN</td>\n      <td>LAN</td>\n    </tr>\n    <tr>\n      <th>2801</th>\n      <td>2015</td>\n      <td>NL</td>\n      <td>SFN</td>\n      <td>SFG</td>\n      <td>W</td>\n      <td>2</td>\n      <td>162</td>\n      <td>81.0</td>\n      <td>84</td>\n      <td>78</td>\n      <td>...</td>\n      <td>145.0</td>\n      <td>0.987</td>\n      <td>San Francisco Giants</td>\n      <td>AT&amp;T Park</td>\n      <td>3375882.0</td>\n      <td>99</td>\n      <td>97</td>\n      <td>SFG</td>\n      <td>SFN</td>\n      <td>SFN</td>\n    </tr>\n    <tr>\n      <th>2802</th>\n      <td>2015</td>\n      <td>NL</td>\n      <td>ARI</td>\n      <td>ARI</td>\n      <td>W</td>\n      <td>3</td>\n      <td>162</td>\n      <td>81.0</td>\n      <td>79</td>\n      <td>83</td>\n      <td>...</td>\n      <td>146.0</td>\n      <td>0.986</td>\n      <td>Arizona Diamondbacks</td>\n      <td>Chase Field</td>\n      <td>2080145.0</td>\n      <td>107</td>\n      <td>106</td>\n      <td>ARI</td>\n      <td>ARI</td>\n      <td>ARI</td>\n    </tr>\n    <tr>\n      <th>2803</th>\n      <td>2015</td>\n      <td>NL</td>\n      <td>SDN</td>\n      <td>SDP</td>\n      <td>W</td>\n      <td>4</td>\n      <td>162</td>\n      <td>81.0</td>\n      <td>74</td>\n      <td>88</td>\n      <td>...</td>\n      <td>138.0</td>\n      <td>0.985</td>\n      <td>San Diego Padres</td>\n      <td>Petco Park</td>\n      <td>2459742.0</td>\n      <td>98</td>\n      <td>97</td>\n      <td>SDP</td>\n      <td>SDN</td>\n      <td>SDN</td>\n    </tr>\n    <tr>\n      <th>2804</th>\n      <td>2015</td>\n      <td>NL</td>\n      <td>COL</td>\n      <td>COL</td>\n      <td>W</td>\n      <td>5</td>\n      <td>162</td>\n      <td>81.0</td>\n      <td>68</td>\n      <td>94</td>\n      <td>...</td>\n      <td>171.0</td>\n      <td>0.985</td>\n      <td>Colorado Rockies</td>\n      <td>Coors Field</td>\n      <td>2506789.0</td>\n      <td>119</td>\n      <td>118</td>\n      <td>COL</td>\n      <td>COL</td>\n      <td>COL</td>\n    </tr>\n  </tbody>\n</table>\n<p>10 rows × 48 columns</p>\n</div>"
     },
     "metadata": {},
     "execution_count": 29
    }
   ],
   "source": [
    "# previewing the teams df \n",
    "# ['yearID', 'lgID', 'teamID', 'franchID', 'divID', 'Rank', 'G', 'Ghome', 'W', 'L', 'DivWin', 'WCWin', 'LgWin', 'WSWin', 'R', 'AB', 'H', '2B', '3B', 'HR', 'BB', 'SO', 'SB', 'CS', 'HBP', 'SF', 'RA', 'ER', 'ERA', 'CG', 'SHO', 'SV', 'IPouts', 'HA', 'HRA', 'BBA', 'SOA', 'E', 'DP', 'FP', 'name', 'park', 'attendance', 'BPF', 'PPF', 'teamIDBR', 'teamIDlahman45', 'teamIDretro\n",
    "\n",
    "teams_raw_df.tail(10)"
   ]
  },
  {
   "cell_type": "code",
   "execution_count": 48,
   "metadata": {},
   "outputs": [],
   "source": [
    "# experimenting with teams for certain year range\n",
    "teams_df_raw_85_higher = teams_raw_df.loc[teams_raw_df[\"yearID\"] > 1984]\n",
    "\n",
    "wash = teams_raw_df.loc[teams_raw_df[\"teamID\"] == \"WAS\"]\n",
    "\n",
    "wash_85_higher = teams_df_raw_85_higher.loc[teams_raw_df[\"teamID\"] == \"WAS\"]\n"
   ]
  },
  {
   "cell_type": "code",
   "execution_count": 49,
   "metadata": {},
   "outputs": [
    {
     "output_type": "execute_result",
     "data": {
      "text/plain": [
       "                               name franchID\n",
       "yearID teamID                               \n",
       "1985   ATL           Atlanta Braves      ATL\n",
       "       BAL        Baltimore Orioles      BAL\n",
       "       BOS           Boston Red Sox      BOS\n",
       "       CAL        California Angels      ANA\n",
       "       CHA        Chicago White Sox      CHW\n",
       "...                             ...      ...\n",
       "2015   LAN      Los Angeles Dodgers      LAD\n",
       "       SFN     San Francisco Giants      SFG\n",
       "       ARI     Arizona Diamondbacks      ARI\n",
       "       SDN         San Diego Padres      SDP\n",
       "       COL         Colorado Rockies      COL\n",
       "\n",
       "[888 rows x 2 columns]"
      ],
      "text/html": "<div>\n<style scoped>\n    .dataframe tbody tr th:only-of-type {\n        vertical-align: middle;\n    }\n\n    .dataframe tbody tr th {\n        vertical-align: top;\n    }\n\n    .dataframe thead th {\n        text-align: right;\n    }\n</style>\n<table border=\"1\" class=\"dataframe\">\n  <thead>\n    <tr style=\"text-align: right;\">\n      <th></th>\n      <th></th>\n      <th>name</th>\n      <th>franchID</th>\n    </tr>\n    <tr>\n      <th>yearID</th>\n      <th>teamID</th>\n      <th></th>\n      <th></th>\n    </tr>\n  </thead>\n  <tbody>\n    <tr>\n      <th rowspan=\"5\" valign=\"top\">1985</th>\n      <th>ATL</th>\n      <td>Atlanta Braves</td>\n      <td>ATL</td>\n    </tr>\n    <tr>\n      <th>BAL</th>\n      <td>Baltimore Orioles</td>\n      <td>BAL</td>\n    </tr>\n    <tr>\n      <th>BOS</th>\n      <td>Boston Red Sox</td>\n      <td>BOS</td>\n    </tr>\n    <tr>\n      <th>CAL</th>\n      <td>California Angels</td>\n      <td>ANA</td>\n    </tr>\n    <tr>\n      <th>CHA</th>\n      <td>Chicago White Sox</td>\n      <td>CHW</td>\n    </tr>\n    <tr>\n      <th>...</th>\n      <th>...</th>\n      <td>...</td>\n      <td>...</td>\n    </tr>\n    <tr>\n      <th rowspan=\"5\" valign=\"top\">2015</th>\n      <th>LAN</th>\n      <td>Los Angeles Dodgers</td>\n      <td>LAD</td>\n    </tr>\n    <tr>\n      <th>SFN</th>\n      <td>San Francisco Giants</td>\n      <td>SFG</td>\n    </tr>\n    <tr>\n      <th>ARI</th>\n      <td>Arizona Diamondbacks</td>\n      <td>ARI</td>\n    </tr>\n    <tr>\n      <th>SDN</th>\n      <td>San Diego Padres</td>\n      <td>SDP</td>\n    </tr>\n    <tr>\n      <th>COL</th>\n      <td>Colorado Rockies</td>\n      <td>COL</td>\n    </tr>\n  </tbody>\n</table>\n<p>888 rows × 2 columns</p>\n</div>"
     },
     "metadata": {},
     "execution_count": 49
    }
   ],
   "source": [
    "# reindexing to get a unique team and franchise id for each year\n",
    "team_name_year_table_indexing = teams_df_raw_85_higher.set_index([\"yearID\"],[\"teamID\"])\n",
    "team_name_year_table_test = team_name_year_table_indexing[['teamID','name','franchID']]\n",
    "test_df_1 = team_name_year_table_test.reset_index()\n",
    "team_name_year_table = test_df_1.set_index(['yearID','teamID'])\n",
    "team_name_year_table"
   ]
  },
  {
   "cell_type": "code",
   "execution_count": 28,
   "metadata": {},
   "outputs": [
    {
     "output_type": "execute_result",
     "data": {
      "text/plain": [
       "    franchID             franchName active NAassoc\n",
       "110      WAS    Washington Senators      N     NaN\n",
       "111      WBL   Washington Blue Legs    NaN     NaN\n",
       "112      WES        Keokuk Westerns    NaN     NaN\n",
       "113      WIL  Wilmington Quicksteps      N     NaN\n",
       "114      WNA   Washington Nationals      N     NaN\n",
       "115      WNL   Washington Nationals      N     NaN\n",
       "116      WNT   Washington Nationals    NaN     NaN\n",
       "117      WOR    Worcester Ruby Legs      N     NaN\n",
       "118      WSN   Washington Nationals      Y     NaN\n",
       "119      WST   Washington Statesmen      N     NaN"
      ],
      "text/html": "<div>\n<style scoped>\n    .dataframe tbody tr th:only-of-type {\n        vertical-align: middle;\n    }\n\n    .dataframe tbody tr th {\n        vertical-align: top;\n    }\n\n    .dataframe thead th {\n        text-align: right;\n    }\n</style>\n<table border=\"1\" class=\"dataframe\">\n  <thead>\n    <tr style=\"text-align: right;\">\n      <th></th>\n      <th>franchID</th>\n      <th>franchName</th>\n      <th>active</th>\n      <th>NAassoc</th>\n    </tr>\n  </thead>\n  <tbody>\n    <tr>\n      <th>110</th>\n      <td>WAS</td>\n      <td>Washington Senators</td>\n      <td>N</td>\n      <td>NaN</td>\n    </tr>\n    <tr>\n      <th>111</th>\n      <td>WBL</td>\n      <td>Washington Blue Legs</td>\n      <td>NaN</td>\n      <td>NaN</td>\n    </tr>\n    <tr>\n      <th>112</th>\n      <td>WES</td>\n      <td>Keokuk Westerns</td>\n      <td>NaN</td>\n      <td>NaN</td>\n    </tr>\n    <tr>\n      <th>113</th>\n      <td>WIL</td>\n      <td>Wilmington Quicksteps</td>\n      <td>N</td>\n      <td>NaN</td>\n    </tr>\n    <tr>\n      <th>114</th>\n      <td>WNA</td>\n      <td>Washington Nationals</td>\n      <td>N</td>\n      <td>NaN</td>\n    </tr>\n    <tr>\n      <th>115</th>\n      <td>WNL</td>\n      <td>Washington Nationals</td>\n      <td>N</td>\n      <td>NaN</td>\n    </tr>\n    <tr>\n      <th>116</th>\n      <td>WNT</td>\n      <td>Washington Nationals</td>\n      <td>NaN</td>\n      <td>NaN</td>\n    </tr>\n    <tr>\n      <th>117</th>\n      <td>WOR</td>\n      <td>Worcester Ruby Legs</td>\n      <td>N</td>\n      <td>NaN</td>\n    </tr>\n    <tr>\n      <th>118</th>\n      <td>WSN</td>\n      <td>Washington Nationals</td>\n      <td>Y</td>\n      <td>NaN</td>\n    </tr>\n    <tr>\n      <th>119</th>\n      <td>WST</td>\n      <td>Washington Statesmen</td>\n      <td>N</td>\n      <td>NaN</td>\n    </tr>\n  </tbody>\n</table>\n</div>"
     },
     "metadata": {},
     "execution_count": 28
    }
   ],
   "source": [
    "# previewing the teamsfranchises df \n",
    "# ['franchID', 'franchName', 'active', 'NAassoc]\n",
    "\n",
    "teams_fran_raw_df.tail(10)"
   ]
  },
  {
   "cell_type": "code",
   "execution_count": 9,
   "metadata": {},
   "outputs": [
    {
     "output_type": "execute_result",
     "data": {
      "text/plain": [
       "    playerID  birthYear  birthMonth  birthDay birthCountry birthState  \\\n",
       "0  aardsda01     1981.0        12.0      27.0          USA         CO   \n",
       "1  aaronha01     1934.0         2.0       5.0          USA         AL   \n",
       "2  aaronto01     1939.0         8.0       5.0          USA         AL   \n",
       "3   aasedo01     1954.0         9.0       8.0          USA         CA   \n",
       "4   abadan01     1972.0         8.0      25.0          USA         FL   \n",
       "\n",
       "    birthCity  deathYear  deathMonth  deathDay  ... nameLast       nameGiven  \\\n",
       "0      Denver        NaN         NaN       NaN  ...  Aardsma     David Allan   \n",
       "1      Mobile        NaN         NaN       NaN  ...    Aaron     Henry Louis   \n",
       "2      Mobile     1984.0         8.0      16.0  ...    Aaron      Tommie Lee   \n",
       "3      Orange        NaN         NaN       NaN  ...     Aase  Donald William   \n",
       "4  Palm Beach        NaN         NaN       NaN  ...     Abad   Fausto Andres   \n",
       "\n",
       "  weight height bats throws       debut   finalGame   retroID    bbrefID  \n",
       "0  220.0   75.0    R      R  2004-04-06  2015-08-23  aardd001  aardsda01  \n",
       "1  180.0   72.0    R      R  1954-04-13  1976-10-03  aaroh101  aaronha01  \n",
       "2  190.0   75.0    R      R  1962-04-10  1971-09-26  aarot101  aaronto01  \n",
       "3  190.0   75.0    R      R  1977-07-26  1990-10-03  aased001   aasedo01  \n",
       "4  184.0   73.0    L      L  2001-09-10  2006-04-13  abada001   abadan01  \n",
       "\n",
       "[5 rows x 24 columns]"
      ],
      "text/html": "<div>\n<style scoped>\n    .dataframe tbody tr th:only-of-type {\n        vertical-align: middle;\n    }\n\n    .dataframe tbody tr th {\n        vertical-align: top;\n    }\n\n    .dataframe thead th {\n        text-align: right;\n    }\n</style>\n<table border=\"1\" class=\"dataframe\">\n  <thead>\n    <tr style=\"text-align: right;\">\n      <th></th>\n      <th>playerID</th>\n      <th>birthYear</th>\n      <th>birthMonth</th>\n      <th>birthDay</th>\n      <th>birthCountry</th>\n      <th>birthState</th>\n      <th>birthCity</th>\n      <th>deathYear</th>\n      <th>deathMonth</th>\n      <th>deathDay</th>\n      <th>...</th>\n      <th>nameLast</th>\n      <th>nameGiven</th>\n      <th>weight</th>\n      <th>height</th>\n      <th>bats</th>\n      <th>throws</th>\n      <th>debut</th>\n      <th>finalGame</th>\n      <th>retroID</th>\n      <th>bbrefID</th>\n    </tr>\n  </thead>\n  <tbody>\n    <tr>\n      <th>0</th>\n      <td>aardsda01</td>\n      <td>1981.0</td>\n      <td>12.0</td>\n      <td>27.0</td>\n      <td>USA</td>\n      <td>CO</td>\n      <td>Denver</td>\n      <td>NaN</td>\n      <td>NaN</td>\n      <td>NaN</td>\n      <td>...</td>\n      <td>Aardsma</td>\n      <td>David Allan</td>\n      <td>220.0</td>\n      <td>75.0</td>\n      <td>R</td>\n      <td>R</td>\n      <td>2004-04-06</td>\n      <td>2015-08-23</td>\n      <td>aardd001</td>\n      <td>aardsda01</td>\n    </tr>\n    <tr>\n      <th>1</th>\n      <td>aaronha01</td>\n      <td>1934.0</td>\n      <td>2.0</td>\n      <td>5.0</td>\n      <td>USA</td>\n      <td>AL</td>\n      <td>Mobile</td>\n      <td>NaN</td>\n      <td>NaN</td>\n      <td>NaN</td>\n      <td>...</td>\n      <td>Aaron</td>\n      <td>Henry Louis</td>\n      <td>180.0</td>\n      <td>72.0</td>\n      <td>R</td>\n      <td>R</td>\n      <td>1954-04-13</td>\n      <td>1976-10-03</td>\n      <td>aaroh101</td>\n      <td>aaronha01</td>\n    </tr>\n    <tr>\n      <th>2</th>\n      <td>aaronto01</td>\n      <td>1939.0</td>\n      <td>8.0</td>\n      <td>5.0</td>\n      <td>USA</td>\n      <td>AL</td>\n      <td>Mobile</td>\n      <td>1984.0</td>\n      <td>8.0</td>\n      <td>16.0</td>\n      <td>...</td>\n      <td>Aaron</td>\n      <td>Tommie Lee</td>\n      <td>190.0</td>\n      <td>75.0</td>\n      <td>R</td>\n      <td>R</td>\n      <td>1962-04-10</td>\n      <td>1971-09-26</td>\n      <td>aarot101</td>\n      <td>aaronto01</td>\n    </tr>\n    <tr>\n      <th>3</th>\n      <td>aasedo01</td>\n      <td>1954.0</td>\n      <td>9.0</td>\n      <td>8.0</td>\n      <td>USA</td>\n      <td>CA</td>\n      <td>Orange</td>\n      <td>NaN</td>\n      <td>NaN</td>\n      <td>NaN</td>\n      <td>...</td>\n      <td>Aase</td>\n      <td>Donald William</td>\n      <td>190.0</td>\n      <td>75.0</td>\n      <td>R</td>\n      <td>R</td>\n      <td>1977-07-26</td>\n      <td>1990-10-03</td>\n      <td>aased001</td>\n      <td>aasedo01</td>\n    </tr>\n    <tr>\n      <th>4</th>\n      <td>abadan01</td>\n      <td>1972.0</td>\n      <td>8.0</td>\n      <td>25.0</td>\n      <td>USA</td>\n      <td>FL</td>\n      <td>Palm Beach</td>\n      <td>NaN</td>\n      <td>NaN</td>\n      <td>NaN</td>\n      <td>...</td>\n      <td>Abad</td>\n      <td>Fausto Andres</td>\n      <td>184.0</td>\n      <td>73.0</td>\n      <td>L</td>\n      <td>L</td>\n      <td>2001-09-10</td>\n      <td>2006-04-13</td>\n      <td>abada001</td>\n      <td>abadan01</td>\n    </tr>\n  </tbody>\n</table>\n<p>5 rows × 24 columns</p>\n</div>"
     },
     "metadata": {},
     "execution_count": 9
    }
   ],
   "source": [
    "# previewing the Master df \n",
    "# ['playerID', 'birthYear', 'birthMonth', 'birthDay', 'birthCountry', 'birthState', 'birthCity', 'deathYear', 'deathMonth', 'deathDay', 'deathCountry', 'deathState', 'deathCity', 'nameFirst', 'nameLast', 'nameGiven', 'weight', 'height', 'bats', 'throws', 'debut', 'finalGame', 'retroID', 'bbrefID]\n",
    "\n",
    "master_players_raw_df.head(5)"
   ]
  },
  {
   "cell_type": "code",
   "execution_count": 11,
   "metadata": {},
   "outputs": [],
   "source": [
    "# transformation of salaries_raw_df\n",
    "# [\"yearID\",\"teamID\",\"lgID\",\"playerID\",\"salary\"] - old column names\n",
    "\n",
    "salaries_df_2 = salaries_raw_df.copy()\n",
    "salaries_df_3 = salaries_df_2.rename(columns = {\"yearID\" : \"year\",\"lgID\" : \"leagueID\"})"
   ]
  },
  {
   "cell_type": "code",
   "execution_count": 54,
   "metadata": {},
   "outputs": [
    {
     "output_type": "execute_result",
     "data": {
      "text/plain": [
       "              lgID   playerID    salary\n",
       "yearID teamID                          \n",
       "1985   ATL      NL  barkele01    870000\n",
       "       ATL      NL  bedrost01    550000\n",
       "       ATL      NL  benedbr01    545000\n",
       "       ATL      NL   campri01    633333\n",
       "       ATL      NL  ceronri01    625000\n",
       "...            ...        ...       ...\n",
       "2015   WAS      NL  treinbl01    512800\n",
       "       WAS      NL  ugglada01    507500\n",
       "       WAS      NL  werthja01  21000000\n",
       "       WAS      NL  zimmejo02  16500000\n",
       "       WAS      NL  zimmery01  14000000\n",
       "\n",
       "[25575 rows x 3 columns]"
      ],
      "text/html": "<div>\n<style scoped>\n    .dataframe tbody tr th:only-of-type {\n        vertical-align: middle;\n    }\n\n    .dataframe tbody tr th {\n        vertical-align: top;\n    }\n\n    .dataframe thead th {\n        text-align: right;\n    }\n</style>\n<table border=\"1\" class=\"dataframe\">\n  <thead>\n    <tr style=\"text-align: right;\">\n      <th></th>\n      <th></th>\n      <th>lgID</th>\n      <th>playerID</th>\n      <th>salary</th>\n    </tr>\n    <tr>\n      <th>yearID</th>\n      <th>teamID</th>\n      <th></th>\n      <th></th>\n      <th></th>\n    </tr>\n  </thead>\n  <tbody>\n    <tr>\n      <th rowspan=\"5\" valign=\"top\">1985</th>\n      <th>ATL</th>\n      <td>NL</td>\n      <td>barkele01</td>\n      <td>870000</td>\n    </tr>\n    <tr>\n      <th>ATL</th>\n      <td>NL</td>\n      <td>bedrost01</td>\n      <td>550000</td>\n    </tr>\n    <tr>\n      <th>ATL</th>\n      <td>NL</td>\n      <td>benedbr01</td>\n      <td>545000</td>\n    </tr>\n    <tr>\n      <th>ATL</th>\n      <td>NL</td>\n      <td>campri01</td>\n      <td>633333</td>\n    </tr>\n    <tr>\n      <th>ATL</th>\n      <td>NL</td>\n      <td>ceronri01</td>\n      <td>625000</td>\n    </tr>\n    <tr>\n      <th>...</th>\n      <th>...</th>\n      <td>...</td>\n      <td>...</td>\n      <td>...</td>\n    </tr>\n    <tr>\n      <th rowspan=\"5\" valign=\"top\">2015</th>\n      <th>WAS</th>\n      <td>NL</td>\n      <td>treinbl01</td>\n      <td>512800</td>\n    </tr>\n    <tr>\n      <th>WAS</th>\n      <td>NL</td>\n      <td>ugglada01</td>\n      <td>507500</td>\n    </tr>\n    <tr>\n      <th>WAS</th>\n      <td>NL</td>\n      <td>werthja01</td>\n      <td>21000000</td>\n    </tr>\n    <tr>\n      <th>WAS</th>\n      <td>NL</td>\n      <td>zimmejo02</td>\n      <td>16500000</td>\n    </tr>\n    <tr>\n      <th>WAS</th>\n      <td>NL</td>\n      <td>zimmery01</td>\n      <td>14000000</td>\n    </tr>\n  </tbody>\n</table>\n<p>25575 rows × 3 columns</p>\n</div>"
     },
     "metadata": {},
     "execution_count": 54
    }
   ],
   "source": [
    "# reindexing for the merge with the teams_year_table\n",
    "sal_year_team_ind = salaries_df_2.set_index(['yearID','teamID'])\n",
    "sal_year_team_ind  "
   ]
  },
  {
   "cell_type": "code",
   "execution_count": 55,
   "metadata": {},
   "outputs": [
    {
     "output_type": "execute_result",
     "data": {
      "text/plain": [
       "              lgID   playerID    salary                  name franchID\n",
       "yearID teamID                                                         \n",
       "1985   ATL      NL  barkele01    870000        Atlanta Braves      ATL\n",
       "       ATL      NL  bedrost01    550000        Atlanta Braves      ATL\n",
       "       ATL      NL  benedbr01    545000        Atlanta Braves      ATL\n",
       "       ATL      NL   campri01    633333        Atlanta Braves      ATL\n",
       "       ATL      NL  ceronri01    625000        Atlanta Braves      ATL\n",
       "...            ...        ...       ...                   ...      ...\n",
       "2015   WAS      NL  treinbl01    512800  Washington Nationals      WSN\n",
       "       WAS      NL  ugglada01    507500  Washington Nationals      WSN\n",
       "       WAS      NL  werthja01  21000000  Washington Nationals      WSN\n",
       "       WAS      NL  zimmejo02  16500000  Washington Nationals      WSN\n",
       "       WAS      NL  zimmery01  14000000  Washington Nationals      WSN\n",
       "\n",
       "[25575 rows x 5 columns]"
      ],
      "text/html": "<div>\n<style scoped>\n    .dataframe tbody tr th:only-of-type {\n        vertical-align: middle;\n    }\n\n    .dataframe tbody tr th {\n        vertical-align: top;\n    }\n\n    .dataframe thead th {\n        text-align: right;\n    }\n</style>\n<table border=\"1\" class=\"dataframe\">\n  <thead>\n    <tr style=\"text-align: right;\">\n      <th></th>\n      <th></th>\n      <th>lgID</th>\n      <th>playerID</th>\n      <th>salary</th>\n      <th>name</th>\n      <th>franchID</th>\n    </tr>\n    <tr>\n      <th>yearID</th>\n      <th>teamID</th>\n      <th></th>\n      <th></th>\n      <th></th>\n      <th></th>\n      <th></th>\n    </tr>\n  </thead>\n  <tbody>\n    <tr>\n      <th rowspan=\"5\" valign=\"top\">1985</th>\n      <th>ATL</th>\n      <td>NL</td>\n      <td>barkele01</td>\n      <td>870000</td>\n      <td>Atlanta Braves</td>\n      <td>ATL</td>\n    </tr>\n    <tr>\n      <th>ATL</th>\n      <td>NL</td>\n      <td>bedrost01</td>\n      <td>550000</td>\n      <td>Atlanta Braves</td>\n      <td>ATL</td>\n    </tr>\n    <tr>\n      <th>ATL</th>\n      <td>NL</td>\n      <td>benedbr01</td>\n      <td>545000</td>\n      <td>Atlanta Braves</td>\n      <td>ATL</td>\n    </tr>\n    <tr>\n      <th>ATL</th>\n      <td>NL</td>\n      <td>campri01</td>\n      <td>633333</td>\n      <td>Atlanta Braves</td>\n      <td>ATL</td>\n    </tr>\n    <tr>\n      <th>ATL</th>\n      <td>NL</td>\n      <td>ceronri01</td>\n      <td>625000</td>\n      <td>Atlanta Braves</td>\n      <td>ATL</td>\n    </tr>\n    <tr>\n      <th>...</th>\n      <th>...</th>\n      <td>...</td>\n      <td>...</td>\n      <td>...</td>\n      <td>...</td>\n      <td>...</td>\n    </tr>\n    <tr>\n      <th rowspan=\"5\" valign=\"top\">2015</th>\n      <th>WAS</th>\n      <td>NL</td>\n      <td>treinbl01</td>\n      <td>512800</td>\n      <td>Washington Nationals</td>\n      <td>WSN</td>\n    </tr>\n    <tr>\n      <th>WAS</th>\n      <td>NL</td>\n      <td>ugglada01</td>\n      <td>507500</td>\n      <td>Washington Nationals</td>\n      <td>WSN</td>\n    </tr>\n    <tr>\n      <th>WAS</th>\n      <td>NL</td>\n      <td>werthja01</td>\n      <td>21000000</td>\n      <td>Washington Nationals</td>\n      <td>WSN</td>\n    </tr>\n    <tr>\n      <th>WAS</th>\n      <td>NL</td>\n      <td>zimmejo02</td>\n      <td>16500000</td>\n      <td>Washington Nationals</td>\n      <td>WSN</td>\n    </tr>\n    <tr>\n      <th>WAS</th>\n      <td>NL</td>\n      <td>zimmery01</td>\n      <td>14000000</td>\n      <td>Washington Nationals</td>\n      <td>WSN</td>\n    </tr>\n  </tbody>\n</table>\n<p>25575 rows × 5 columns</p>\n</div>"
     },
     "metadata": {},
     "execution_count": 55
    }
   ],
   "source": [
    "# merging in the full team names to the salary table\n",
    "\n",
    "salary_team_name_df_1 = sal_year_team_ind.merge(team_name_year_table,how=\"left\",left_index=True,right_index=True)\n",
    "\n",
    "salary_team_name_df_1"
   ]
  },
  {
   "cell_type": "code",
   "execution_count": 57,
   "metadata": {},
   "outputs": [
    {
     "output_type": "execute_result",
     "data": {
      "text/plain": [
       "       yearID teamID lgID   playerID    salary                  name franchID\n",
       "0        1985    ATL   NL  barkele01    870000        Atlanta Braves      ATL\n",
       "1        1985    ATL   NL  bedrost01    550000        Atlanta Braves      ATL\n",
       "2        1985    ATL   NL  benedbr01    545000        Atlanta Braves      ATL\n",
       "3        1985    ATL   NL   campri01    633333        Atlanta Braves      ATL\n",
       "4        1985    ATL   NL  ceronri01    625000        Atlanta Braves      ATL\n",
       "...       ...    ...  ...        ...       ...                   ...      ...\n",
       "25570    2015    WAS   NL  treinbl01    512800  Washington Nationals      WSN\n",
       "25571    2015    WAS   NL  ugglada01    507500  Washington Nationals      WSN\n",
       "25572    2015    WAS   NL  werthja01  21000000  Washington Nationals      WSN\n",
       "25573    2015    WAS   NL  zimmejo02  16500000  Washington Nationals      WSN\n",
       "25574    2015    WAS   NL  zimmery01  14000000  Washington Nationals      WSN\n",
       "\n",
       "[25575 rows x 7 columns]"
      ],
      "text/html": "<div>\n<style scoped>\n    .dataframe tbody tr th:only-of-type {\n        vertical-align: middle;\n    }\n\n    .dataframe tbody tr th {\n        vertical-align: top;\n    }\n\n    .dataframe thead th {\n        text-align: right;\n    }\n</style>\n<table border=\"1\" class=\"dataframe\">\n  <thead>\n    <tr style=\"text-align: right;\">\n      <th></th>\n      <th>yearID</th>\n      <th>teamID</th>\n      <th>lgID</th>\n      <th>playerID</th>\n      <th>salary</th>\n      <th>name</th>\n      <th>franchID</th>\n    </tr>\n  </thead>\n  <tbody>\n    <tr>\n      <th>0</th>\n      <td>1985</td>\n      <td>ATL</td>\n      <td>NL</td>\n      <td>barkele01</td>\n      <td>870000</td>\n      <td>Atlanta Braves</td>\n      <td>ATL</td>\n    </tr>\n    <tr>\n      <th>1</th>\n      <td>1985</td>\n      <td>ATL</td>\n      <td>NL</td>\n      <td>bedrost01</td>\n      <td>550000</td>\n      <td>Atlanta Braves</td>\n      <td>ATL</td>\n    </tr>\n    <tr>\n      <th>2</th>\n      <td>1985</td>\n      <td>ATL</td>\n      <td>NL</td>\n      <td>benedbr01</td>\n      <td>545000</td>\n      <td>Atlanta Braves</td>\n      <td>ATL</td>\n    </tr>\n    <tr>\n      <th>3</th>\n      <td>1985</td>\n      <td>ATL</td>\n      <td>NL</td>\n      <td>campri01</td>\n      <td>633333</td>\n      <td>Atlanta Braves</td>\n      <td>ATL</td>\n    </tr>\n    <tr>\n      <th>4</th>\n      <td>1985</td>\n      <td>ATL</td>\n      <td>NL</td>\n      <td>ceronri01</td>\n      <td>625000</td>\n      <td>Atlanta Braves</td>\n      <td>ATL</td>\n    </tr>\n    <tr>\n      <th>...</th>\n      <td>...</td>\n      <td>...</td>\n      <td>...</td>\n      <td>...</td>\n      <td>...</td>\n      <td>...</td>\n      <td>...</td>\n    </tr>\n    <tr>\n      <th>25570</th>\n      <td>2015</td>\n      <td>WAS</td>\n      <td>NL</td>\n      <td>treinbl01</td>\n      <td>512800</td>\n      <td>Washington Nationals</td>\n      <td>WSN</td>\n    </tr>\n    <tr>\n      <th>25571</th>\n      <td>2015</td>\n      <td>WAS</td>\n      <td>NL</td>\n      <td>ugglada01</td>\n      <td>507500</td>\n      <td>Washington Nationals</td>\n      <td>WSN</td>\n    </tr>\n    <tr>\n      <th>25572</th>\n      <td>2015</td>\n      <td>WAS</td>\n      <td>NL</td>\n      <td>werthja01</td>\n      <td>21000000</td>\n      <td>Washington Nationals</td>\n      <td>WSN</td>\n    </tr>\n    <tr>\n      <th>25573</th>\n      <td>2015</td>\n      <td>WAS</td>\n      <td>NL</td>\n      <td>zimmejo02</td>\n      <td>16500000</td>\n      <td>Washington Nationals</td>\n      <td>WSN</td>\n    </tr>\n    <tr>\n      <th>25574</th>\n      <td>2015</td>\n      <td>WAS</td>\n      <td>NL</td>\n      <td>zimmery01</td>\n      <td>14000000</td>\n      <td>Washington Nationals</td>\n      <td>WSN</td>\n    </tr>\n  </tbody>\n</table>\n<p>25575 rows × 7 columns</p>\n</div>"
     },
     "metadata": {},
     "execution_count": 57
    }
   ],
   "source": [
    "# reseting index of salaries df for csv export\n",
    "\n",
    "salaries_team_name_df_final = salary_team_name_df_1.reset_index()\n",
    "\n",
    "salaries_team_name_df_final"
   ]
  },
  {
   "cell_type": "code",
   "execution_count": 59,
   "metadata": {},
   "outputs": [],
   "source": [
    "final_salaries_output_path = \"output_csv/final_salaries_team_names_1985_to_2015.csv\"\n",
    "salaries_team_name_df_final.to_csv(final_salaries_output_path,index=False)"
   ]
  },
  {
   "cell_type": "code",
   "execution_count": null,
   "metadata": {},
   "outputs": [],
   "source": []
  }
 ]
}