{
 "metadata": {
  "language_info": {
   "codemirror_mode": {
    "name": "ipython",
    "version": 3
   },
   "file_extension": ".py",
   "mimetype": "text/x-python",
   "name": "python",
   "nbconvert_exporter": "python",
   "pygments_lexer": "ipython3",
   "version": "3.8.5-final"
  },
  "orig_nbformat": 2,
  "kernelspec": {
   "name": "python3",
   "display_name": "Python 3.8.5 64-bit (conda)",
   "metadata": {
    "interpreter": {
     "hash": "006b2a4c59105e151f59d7a783e9669671dc3b315a85df72952575de8c58cde6"
    }
   }
  }
 },
 "nbformat": 4,
 "nbformat_minor": 2,
 "cells": [
  {
   "cell_type": "code",
   "execution_count": 1,
   "metadata": {},
   "outputs": [],
   "source": [
    "# importing dependencies\n",
    "import pandas as pd\n",
    "from sqlalchemy import create_engine"
   ]
  },
  {
   "cell_type": "code",
   "execution_count": 5,
   "metadata": {},
   "outputs": [],
   "source": [
    "# reading in csv data\n",
    "salaries_file = \"../Resources/Salaries.csv\"\n",
    "salaries_raw_df = pd.read_csv(salaries_file)\n",
    "\n",
    "teams_file = \"../Resources/Teams.csv\"\n",
    "teams_raw_df = pd.read_csv(teams_file)\n",
    "\n",
    "teams_fran_file = \"../Resources/TeamsFranchises.csv\"\n",
    "teams_fran_raw_df = pd.read_csv(teams_fran_file)\n",
    "\n",
    "master_file = \"../Resources/Master.csv\"\n",
    "master_players_raw_df = pd.read_csv(master_file)\n"
   ]
  },
  {
   "cell_type": "code",
   "execution_count": 4,
   "metadata": {},
   "outputs": [
    {
     "output_type": "execute_result",
     "data": {
      "text/plain": [
       "   yearID teamID lgID   playerID  salary\n",
       "0    1985    ATL   NL  barkele01  870000\n",
       "1    1985    ATL   NL  bedrost01  550000\n",
       "2    1985    ATL   NL  benedbr01  545000\n",
       "3    1985    ATL   NL   campri01  633333\n",
       "4    1985    ATL   NL  ceronri01  625000"
      ],
      "text/html": "<div>\n<style scoped>\n    .dataframe tbody tr th:only-of-type {\n        vertical-align: middle;\n    }\n\n    .dataframe tbody tr th {\n        vertical-align: top;\n    }\n\n    .dataframe thead th {\n        text-align: right;\n    }\n</style>\n<table border=\"1\" class=\"dataframe\">\n  <thead>\n    <tr style=\"text-align: right;\">\n      <th></th>\n      <th>yearID</th>\n      <th>teamID</th>\n      <th>lgID</th>\n      <th>playerID</th>\n      <th>salary</th>\n    </tr>\n  </thead>\n  <tbody>\n    <tr>\n      <th>0</th>\n      <td>1985</td>\n      <td>ATL</td>\n      <td>NL</td>\n      <td>barkele01</td>\n      <td>870000</td>\n    </tr>\n    <tr>\n      <th>1</th>\n      <td>1985</td>\n      <td>ATL</td>\n      <td>NL</td>\n      <td>bedrost01</td>\n      <td>550000</td>\n    </tr>\n    <tr>\n      <th>2</th>\n      <td>1985</td>\n      <td>ATL</td>\n      <td>NL</td>\n      <td>benedbr01</td>\n      <td>545000</td>\n    </tr>\n    <tr>\n      <th>3</th>\n      <td>1985</td>\n      <td>ATL</td>\n      <td>NL</td>\n      <td>campri01</td>\n      <td>633333</td>\n    </tr>\n    <tr>\n      <th>4</th>\n      <td>1985</td>\n      <td>ATL</td>\n      <td>NL</td>\n      <td>ceronri01</td>\n      <td>625000</td>\n    </tr>\n  </tbody>\n</table>\n</div>"
     },
     "metadata": {},
     "execution_count": 4
    }
   ],
   "source": [
    "# previewing the salaries df \n",
    "# [\"yearID\",\"teamID\",\"lgID\",\"playerID\",\"salary\"]\n",
    "salaries_raw_df.head(5)"
   ]
  },
  {
   "cell_type": "code",
   "execution_count": 6,
   "metadata": {},
   "outputs": [
    {
     "output_type": "execute_result",
     "data": {
      "text/plain": [
       "   yearID lgID teamID franchID divID  Rank   G  Ghome   W   L  ...  DP    FP  \\\n",
       "0    1871  NaN    BS1      BNA   NaN     3  31    NaN  20  10  ... NaN  0.83   \n",
       "1    1871  NaN    CH1      CNA   NaN     2  28    NaN  19   9  ... NaN  0.82   \n",
       "2    1871  NaN    CL1      CFC   NaN     8  29    NaN  10  19  ... NaN  0.81   \n",
       "3    1871  NaN    FW1      KEK   NaN     7  19    NaN   7  12  ... NaN  0.80   \n",
       "4    1871  NaN    NY2      NNA   NaN     5  33    NaN  16  17  ... NaN  0.83   \n",
       "\n",
       "                      name                          park  attendance  BPF  \\\n",
       "0     Boston Red Stockings           South End Grounds I         NaN  103   \n",
       "1  Chicago White Stockings       Union Base-Ball Grounds         NaN  104   \n",
       "2   Cleveland Forest Citys  National Association Grounds         NaN   96   \n",
       "3     Fort Wayne Kekiongas                Hamilton Field         NaN  101   \n",
       "4         New York Mutuals      Union Grounds (Brooklyn)         NaN   90   \n",
       "\n",
       "   PPF  teamIDBR  teamIDlahman45  teamIDretro  \n",
       "0   98       BOS             BS1          BS1  \n",
       "1  102       CHI             CH1          CH1  \n",
       "2  100       CLE             CL1          CL1  \n",
       "3  107       KEK             FW1          FW1  \n",
       "4   88       NYU             NY2          NY2  \n",
       "\n",
       "[5 rows x 48 columns]"
      ],
      "text/html": "<div>\n<style scoped>\n    .dataframe tbody tr th:only-of-type {\n        vertical-align: middle;\n    }\n\n    .dataframe tbody tr th {\n        vertical-align: top;\n    }\n\n    .dataframe thead th {\n        text-align: right;\n    }\n</style>\n<table border=\"1\" class=\"dataframe\">\n  <thead>\n    <tr style=\"text-align: right;\">\n      <th></th>\n      <th>yearID</th>\n      <th>lgID</th>\n      <th>teamID</th>\n      <th>franchID</th>\n      <th>divID</th>\n      <th>Rank</th>\n      <th>G</th>\n      <th>Ghome</th>\n      <th>W</th>\n      <th>L</th>\n      <th>...</th>\n      <th>DP</th>\n      <th>FP</th>\n      <th>name</th>\n      <th>park</th>\n      <th>attendance</th>\n      <th>BPF</th>\n      <th>PPF</th>\n      <th>teamIDBR</th>\n      <th>teamIDlahman45</th>\n      <th>teamIDretro</th>\n    </tr>\n  </thead>\n  <tbody>\n    <tr>\n      <th>0</th>\n      <td>1871</td>\n      <td>NaN</td>\n      <td>BS1</td>\n      <td>BNA</td>\n      <td>NaN</td>\n      <td>3</td>\n      <td>31</td>\n      <td>NaN</td>\n      <td>20</td>\n      <td>10</td>\n      <td>...</td>\n      <td>NaN</td>\n      <td>0.83</td>\n      <td>Boston Red Stockings</td>\n      <td>South End Grounds I</td>\n      <td>NaN</td>\n      <td>103</td>\n      <td>98</td>\n      <td>BOS</td>\n      <td>BS1</td>\n      <td>BS1</td>\n    </tr>\n    <tr>\n      <th>1</th>\n      <td>1871</td>\n      <td>NaN</td>\n      <td>CH1</td>\n      <td>CNA</td>\n      <td>NaN</td>\n      <td>2</td>\n      <td>28</td>\n      <td>NaN</td>\n      <td>19</td>\n      <td>9</td>\n      <td>...</td>\n      <td>NaN</td>\n      <td>0.82</td>\n      <td>Chicago White Stockings</td>\n      <td>Union Base-Ball Grounds</td>\n      <td>NaN</td>\n      <td>104</td>\n      <td>102</td>\n      <td>CHI</td>\n      <td>CH1</td>\n      <td>CH1</td>\n    </tr>\n    <tr>\n      <th>2</th>\n      <td>1871</td>\n      <td>NaN</td>\n      <td>CL1</td>\n      <td>CFC</td>\n      <td>NaN</td>\n      <td>8</td>\n      <td>29</td>\n      <td>NaN</td>\n      <td>10</td>\n      <td>19</td>\n      <td>...</td>\n      <td>NaN</td>\n      <td>0.81</td>\n      <td>Cleveland Forest Citys</td>\n      <td>National Association Grounds</td>\n      <td>NaN</td>\n      <td>96</td>\n      <td>100</td>\n      <td>CLE</td>\n      <td>CL1</td>\n      <td>CL1</td>\n    </tr>\n    <tr>\n      <th>3</th>\n      <td>1871</td>\n      <td>NaN</td>\n      <td>FW1</td>\n      <td>KEK</td>\n      <td>NaN</td>\n      <td>7</td>\n      <td>19</td>\n      <td>NaN</td>\n      <td>7</td>\n      <td>12</td>\n      <td>...</td>\n      <td>NaN</td>\n      <td>0.80</td>\n      <td>Fort Wayne Kekiongas</td>\n      <td>Hamilton Field</td>\n      <td>NaN</td>\n      <td>101</td>\n      <td>107</td>\n      <td>KEK</td>\n      <td>FW1</td>\n      <td>FW1</td>\n    </tr>\n    <tr>\n      <th>4</th>\n      <td>1871</td>\n      <td>NaN</td>\n      <td>NY2</td>\n      <td>NNA</td>\n      <td>NaN</td>\n      <td>5</td>\n      <td>33</td>\n      <td>NaN</td>\n      <td>16</td>\n      <td>17</td>\n      <td>...</td>\n      <td>NaN</td>\n      <td>0.83</td>\n      <td>New York Mutuals</td>\n      <td>Union Grounds (Brooklyn)</td>\n      <td>NaN</td>\n      <td>90</td>\n      <td>88</td>\n      <td>NYU</td>\n      <td>NY2</td>\n      <td>NY2</td>\n    </tr>\n  </tbody>\n</table>\n<p>5 rows × 48 columns</p>\n</div>"
     },
     "metadata": {},
     "execution_count": 6
    }
   ],
   "source": [
    "# previewing the teams df \n",
    "# ['yearID', 'lgID', 'teamID', 'franchID', 'divID', 'Rank', 'G', 'Ghome', 'W', 'L', 'DivWin', 'WCWin', 'LgWin', 'WSWin', 'R', 'AB', 'H', '2B', '3B', 'HR', 'BB', 'SO', 'SB', 'CS', 'HBP', 'SF', 'RA', 'ER', 'ERA', 'CG', 'SHO', 'SV', 'IPouts', 'HA', 'HRA', 'BBA', 'SOA', 'E', 'DP', 'FP', 'name', 'park', 'attendance', 'BPF', 'PPF', 'teamIDBR', 'teamIDlahman45', 'teamIDretro\n",
    "\n",
    "teams_raw_df.head(5)"
   ]
  },
  {
   "cell_type": "code",
   "execution_count": 7,
   "metadata": {},
   "outputs": [
    {
     "output_type": "execute_result",
     "data": {
      "text/plain": [
       "  franchID                     franchName active NAassoc\n",
       "0      ALT          Altoona Mountain City      N     NaN\n",
       "1      ANA  Los Angeles Angels of Anaheim      Y     NaN\n",
       "2      ARI           Arizona Diamondbacks      Y     NaN\n",
       "3      ATH         Philadelphia Athletics      N     PNA\n",
       "4      ATL                 Atlanta Braves      Y     BNA"
      ],
      "text/html": "<div>\n<style scoped>\n    .dataframe tbody tr th:only-of-type {\n        vertical-align: middle;\n    }\n\n    .dataframe tbody tr th {\n        vertical-align: top;\n    }\n\n    .dataframe thead th {\n        text-align: right;\n    }\n</style>\n<table border=\"1\" class=\"dataframe\">\n  <thead>\n    <tr style=\"text-align: right;\">\n      <th></th>\n      <th>franchID</th>\n      <th>franchName</th>\n      <th>active</th>\n      <th>NAassoc</th>\n    </tr>\n  </thead>\n  <tbody>\n    <tr>\n      <th>0</th>\n      <td>ALT</td>\n      <td>Altoona Mountain City</td>\n      <td>N</td>\n      <td>NaN</td>\n    </tr>\n    <tr>\n      <th>1</th>\n      <td>ANA</td>\n      <td>Los Angeles Angels of Anaheim</td>\n      <td>Y</td>\n      <td>NaN</td>\n    </tr>\n    <tr>\n      <th>2</th>\n      <td>ARI</td>\n      <td>Arizona Diamondbacks</td>\n      <td>Y</td>\n      <td>NaN</td>\n    </tr>\n    <tr>\n      <th>3</th>\n      <td>ATH</td>\n      <td>Philadelphia Athletics</td>\n      <td>N</td>\n      <td>PNA</td>\n    </tr>\n    <tr>\n      <th>4</th>\n      <td>ATL</td>\n      <td>Atlanta Braves</td>\n      <td>Y</td>\n      <td>BNA</td>\n    </tr>\n  </tbody>\n</table>\n</div>"
     },
     "metadata": {},
     "execution_count": 7
    }
   ],
   "source": [
    "# previewing the teamsfranchises df \n",
    "# ['franchID', 'franchName', 'active', 'NAassoc]\n",
    "\n",
    "teams_fran_raw_df.head(5)"
   ]
  },
  {
   "cell_type": "code",
   "execution_count": 9,
   "metadata": {},
   "outputs": [
    {
     "output_type": "execute_result",
     "data": {
      "text/plain": [
       "    playerID  birthYear  birthMonth  birthDay birthCountry birthState  \\\n",
       "0  aardsda01     1981.0        12.0      27.0          USA         CO   \n",
       "1  aaronha01     1934.0         2.0       5.0          USA         AL   \n",
       "2  aaronto01     1939.0         8.0       5.0          USA         AL   \n",
       "3   aasedo01     1954.0         9.0       8.0          USA         CA   \n",
       "4   abadan01     1972.0         8.0      25.0          USA         FL   \n",
       "\n",
       "    birthCity  deathYear  deathMonth  deathDay  ... nameLast       nameGiven  \\\n",
       "0      Denver        NaN         NaN       NaN  ...  Aardsma     David Allan   \n",
       "1      Mobile        NaN         NaN       NaN  ...    Aaron     Henry Louis   \n",
       "2      Mobile     1984.0         8.0      16.0  ...    Aaron      Tommie Lee   \n",
       "3      Orange        NaN         NaN       NaN  ...     Aase  Donald William   \n",
       "4  Palm Beach        NaN         NaN       NaN  ...     Abad   Fausto Andres   \n",
       "\n",
       "  weight height bats throws       debut   finalGame   retroID    bbrefID  \n",
       "0  220.0   75.0    R      R  2004-04-06  2015-08-23  aardd001  aardsda01  \n",
       "1  180.0   72.0    R      R  1954-04-13  1976-10-03  aaroh101  aaronha01  \n",
       "2  190.0   75.0    R      R  1962-04-10  1971-09-26  aarot101  aaronto01  \n",
       "3  190.0   75.0    R      R  1977-07-26  1990-10-03  aased001   aasedo01  \n",
       "4  184.0   73.0    L      L  2001-09-10  2006-04-13  abada001   abadan01  \n",
       "\n",
       "[5 rows x 24 columns]"
      ],
      "text/html": "<div>\n<style scoped>\n    .dataframe tbody tr th:only-of-type {\n        vertical-align: middle;\n    }\n\n    .dataframe tbody tr th {\n        vertical-align: top;\n    }\n\n    .dataframe thead th {\n        text-align: right;\n    }\n</style>\n<table border=\"1\" class=\"dataframe\">\n  <thead>\n    <tr style=\"text-align: right;\">\n      <th></th>\n      <th>playerID</th>\n      <th>birthYear</th>\n      <th>birthMonth</th>\n      <th>birthDay</th>\n      <th>birthCountry</th>\n      <th>birthState</th>\n      <th>birthCity</th>\n      <th>deathYear</th>\n      <th>deathMonth</th>\n      <th>deathDay</th>\n      <th>...</th>\n      <th>nameLast</th>\n      <th>nameGiven</th>\n      <th>weight</th>\n      <th>height</th>\n      <th>bats</th>\n      <th>throws</th>\n      <th>debut</th>\n      <th>finalGame</th>\n      <th>retroID</th>\n      <th>bbrefID</th>\n    </tr>\n  </thead>\n  <tbody>\n    <tr>\n      <th>0</th>\n      <td>aardsda01</td>\n      <td>1981.0</td>\n      <td>12.0</td>\n      <td>27.0</td>\n      <td>USA</td>\n      <td>CO</td>\n      <td>Denver</td>\n      <td>NaN</td>\n      <td>NaN</td>\n      <td>NaN</td>\n      <td>...</td>\n      <td>Aardsma</td>\n      <td>David Allan</td>\n      <td>220.0</td>\n      <td>75.0</td>\n      <td>R</td>\n      <td>R</td>\n      <td>2004-04-06</td>\n      <td>2015-08-23</td>\n      <td>aardd001</td>\n      <td>aardsda01</td>\n    </tr>\n    <tr>\n      <th>1</th>\n      <td>aaronha01</td>\n      <td>1934.0</td>\n      <td>2.0</td>\n      <td>5.0</td>\n      <td>USA</td>\n      <td>AL</td>\n      <td>Mobile</td>\n      <td>NaN</td>\n      <td>NaN</td>\n      <td>NaN</td>\n      <td>...</td>\n      <td>Aaron</td>\n      <td>Henry Louis</td>\n      <td>180.0</td>\n      <td>72.0</td>\n      <td>R</td>\n      <td>R</td>\n      <td>1954-04-13</td>\n      <td>1976-10-03</td>\n      <td>aaroh101</td>\n      <td>aaronha01</td>\n    </tr>\n    <tr>\n      <th>2</th>\n      <td>aaronto01</td>\n      <td>1939.0</td>\n      <td>8.0</td>\n      <td>5.0</td>\n      <td>USA</td>\n      <td>AL</td>\n      <td>Mobile</td>\n      <td>1984.0</td>\n      <td>8.0</td>\n      <td>16.0</td>\n      <td>...</td>\n      <td>Aaron</td>\n      <td>Tommie Lee</td>\n      <td>190.0</td>\n      <td>75.0</td>\n      <td>R</td>\n      <td>R</td>\n      <td>1962-04-10</td>\n      <td>1971-09-26</td>\n      <td>aarot101</td>\n      <td>aaronto01</td>\n    </tr>\n    <tr>\n      <th>3</th>\n      <td>aasedo01</td>\n      <td>1954.0</td>\n      <td>9.0</td>\n      <td>8.0</td>\n      <td>USA</td>\n      <td>CA</td>\n      <td>Orange</td>\n      <td>NaN</td>\n      <td>NaN</td>\n      <td>NaN</td>\n      <td>...</td>\n      <td>Aase</td>\n      <td>Donald William</td>\n      <td>190.0</td>\n      <td>75.0</td>\n      <td>R</td>\n      <td>R</td>\n      <td>1977-07-26</td>\n      <td>1990-10-03</td>\n      <td>aased001</td>\n      <td>aasedo01</td>\n    </tr>\n    <tr>\n      <th>4</th>\n      <td>abadan01</td>\n      <td>1972.0</td>\n      <td>8.0</td>\n      <td>25.0</td>\n      <td>USA</td>\n      <td>FL</td>\n      <td>Palm Beach</td>\n      <td>NaN</td>\n      <td>NaN</td>\n      <td>NaN</td>\n      <td>...</td>\n      <td>Abad</td>\n      <td>Fausto Andres</td>\n      <td>184.0</td>\n      <td>73.0</td>\n      <td>L</td>\n      <td>L</td>\n      <td>2001-09-10</td>\n      <td>2006-04-13</td>\n      <td>abada001</td>\n      <td>abadan01</td>\n    </tr>\n  </tbody>\n</table>\n<p>5 rows × 24 columns</p>\n</div>"
     },
     "metadata": {},
     "execution_count": 9
    }
   ],
   "source": [
    "# previewing the Master df \n",
    "# ['playerID', 'birthYear', 'birthMonth', 'birthDay', 'birthCountry', 'birthState', 'birthCity', 'deathYear', 'deathMonth', 'deathDay', 'deathCountry', 'deathState', 'deathCity', 'nameFirst', 'nameLast', 'nameGiven', 'weight', 'height', 'bats', 'throws', 'debut', 'finalGame', 'retroID', 'bbrefID]\n",
    "\n",
    "master_players_raw_df.head(5)"
   ]
  },
  {
   "cell_type": "code",
   "execution_count": 11,
   "metadata": {},
   "outputs": [],
   "source": [
    "# transformation of salaries_raw_df\n",
    "# [\"yearID\",\"teamID\",\"lgID\",\"playerID\",\"salary\"] - old column names\n",
    "\n",
    "salaries_df_2 = salaries_raw_df.copy()\n",
    "salaries_df_3 = salaries_df_2.rename(columns = {\"yearID\" : \"year\",\"lgID\" : \"leagueID\"})"
   ]
  },
  {
   "cell_type": "code",
   "execution_count": 13,
   "metadata": {},
   "outputs": [
    {
     "output_type": "execute_result",
     "data": {
      "text/plain": [
       "       year teamID leagueID   playerID    salary\n",
       "0      1985    ATL       NL  barkele01    870000\n",
       "1      1985    ATL       NL  bedrost01    550000\n",
       "2      1985    ATL       NL  benedbr01    545000\n",
       "3      1985    ATL       NL   campri01    633333\n",
       "4      1985    ATL       NL  ceronri01    625000\n",
       "...     ...    ...      ...        ...       ...\n",
       "25570  2015    WAS       NL  treinbl01    512800\n",
       "25571  2015    WAS       NL  ugglada01    507500\n",
       "25572  2015    WAS       NL  werthja01  21000000\n",
       "25573  2015    WAS       NL  zimmejo02  16500000\n",
       "25574  2015    WAS       NL  zimmery01  14000000\n",
       "\n",
       "[25575 rows x 5 columns]"
      ],
      "text/html": "<div>\n<style scoped>\n    .dataframe tbody tr th:only-of-type {\n        vertical-align: middle;\n    }\n\n    .dataframe tbody tr th {\n        vertical-align: top;\n    }\n\n    .dataframe thead th {\n        text-align: right;\n    }\n</style>\n<table border=\"1\" class=\"dataframe\">\n  <thead>\n    <tr style=\"text-align: right;\">\n      <th></th>\n      <th>year</th>\n      <th>teamID</th>\n      <th>leagueID</th>\n      <th>playerID</th>\n      <th>salary</th>\n    </tr>\n  </thead>\n  <tbody>\n    <tr>\n      <th>0</th>\n      <td>1985</td>\n      <td>ATL</td>\n      <td>NL</td>\n      <td>barkele01</td>\n      <td>870000</td>\n    </tr>\n    <tr>\n      <th>1</th>\n      <td>1985</td>\n      <td>ATL</td>\n      <td>NL</td>\n      <td>bedrost01</td>\n      <td>550000</td>\n    </tr>\n    <tr>\n      <th>2</th>\n      <td>1985</td>\n      <td>ATL</td>\n      <td>NL</td>\n      <td>benedbr01</td>\n      <td>545000</td>\n    </tr>\n    <tr>\n      <th>3</th>\n      <td>1985</td>\n      <td>ATL</td>\n      <td>NL</td>\n      <td>campri01</td>\n      <td>633333</td>\n    </tr>\n    <tr>\n      <th>4</th>\n      <td>1985</td>\n      <td>ATL</td>\n      <td>NL</td>\n      <td>ceronri01</td>\n      <td>625000</td>\n    </tr>\n    <tr>\n      <th>...</th>\n      <td>...</td>\n      <td>...</td>\n      <td>...</td>\n      <td>...</td>\n      <td>...</td>\n    </tr>\n    <tr>\n      <th>25570</th>\n      <td>2015</td>\n      <td>WAS</td>\n      <td>NL</td>\n      <td>treinbl01</td>\n      <td>512800</td>\n    </tr>\n    <tr>\n      <th>25571</th>\n      <td>2015</td>\n      <td>WAS</td>\n      <td>NL</td>\n      <td>ugglada01</td>\n      <td>507500</td>\n    </tr>\n    <tr>\n      <th>25572</th>\n      <td>2015</td>\n      <td>WAS</td>\n      <td>NL</td>\n      <td>werthja01</td>\n      <td>21000000</td>\n    </tr>\n    <tr>\n      <th>25573</th>\n      <td>2015</td>\n      <td>WAS</td>\n      <td>NL</td>\n      <td>zimmejo02</td>\n      <td>16500000</td>\n    </tr>\n    <tr>\n      <th>25574</th>\n      <td>2015</td>\n      <td>WAS</td>\n      <td>NL</td>\n      <td>zimmery01</td>\n      <td>14000000</td>\n    </tr>\n  </tbody>\n</table>\n<p>25575 rows × 5 columns</p>\n</div>"
     },
     "metadata": {},
     "execution_count": 13
    }
   ],
   "source": [
    "salaries_df_3"
   ]
  },
  {
   "cell_type": "code",
   "execution_count": null,
   "metadata": {},
   "outputs": [],
   "source": [
    "# reindexing salaries df to merge with master player df\n",
    "\n"
   ]
  }
 ]
}