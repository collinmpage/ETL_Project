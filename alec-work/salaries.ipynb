{
 "metadata": {
  "language_info": {
   "codemirror_mode": {
    "name": "ipython",
    "version": 3
   },
   "file_extension": ".py",
   "mimetype": "text/x-python",
   "name": "python",
   "nbconvert_exporter": "python",
   "pygments_lexer": "ipython3",
   "version": "3.8.5-final"
  },
  "orig_nbformat": 2,
  "kernelspec": {
   "name": "python3",
   "display_name": "Python 3.8.5 64-bit (conda)",
   "metadata": {
    "interpreter": {
     "hash": "006b2a4c59105e151f59d7a783e9669671dc3b315a85df72952575de8c58cde6"
    }
   }
  }
 },
 "nbformat": 4,
 "nbformat_minor": 2,
 "cells": [
  {
   "cell_type": "code",
   "execution_count": null,
   "metadata": {},
   "outputs": [],
   "source": [
    "# importing dependencies\n",
    "import pandas as pd\n",
    "from sqlalchemy import create_engine"
   ]
  },
  {
   "cell_type": "code",
   "execution_count": null,
   "metadata": {},
   "outputs": [],
   "source": [
    "# reading in csv data\n",
    "salaries_file = \"../../resources/Salaries.csv\"\n",
    "salaries_raw_df = pd.read_csv(salaries_file)\n",
    "\n",
    "teams_file = \"../../resources/Teams.csv\"\n",
    "teams_raw_df = pd.read_csv(teams_file)\n",
    "\n",
    "teams_fran_file = \"../../resources/TeamsFranchises.csv\"\n",
    "teams_fran_raw_df = pd.read_csv(teams_fran_file)\n",
    "\n",
    "master_file = \"../../resources/Master.csv\"\n",
    "master_players_raw_df = pd.read_csv(master_file)\n"
   ]
  },
  {
   "cell_type": "code",
   "execution_count": null,
   "metadata": {},
   "outputs": [],
   "source": [
    "# previewing the salaries df \n",
    "# [\"yearID\",\"teamID\",\"lgID\",\"playerID\",\"salary\"]\n",
    "salaries_raw_df.head(5)"
   ]
  },
  {
   "cell_type": "code",
   "execution_count": null,
   "metadata": {},
   "outputs": [],
   "source": [
    "# previewing the teams df \n",
    "# ['yearID', 'lgID', 'teamID', 'franchID', 'divID', 'Rank', 'G', 'Ghome', 'W', 'L', 'DivWin', 'WCWin', 'LgWin', 'WSWin', 'R', 'AB', 'H', '2B', '3B', 'HR', 'BB', 'SO', 'SB', 'CS', 'HBP', 'SF', 'RA', 'ER', 'ERA', 'CG', 'SHO', 'SV', 'IPouts', 'HA', 'HRA', 'BBA', 'SOA', 'E', 'DP', 'FP', 'name', 'park', 'attendance', 'BPF', 'PPF', 'teamIDBR', 'teamIDlahman45', 'teamIDretro\n",
    "\n",
    "teams_raw_df.tail(10)"
   ]
  },
  {
   "cell_type": "code",
   "execution_count": null,
   "metadata": {},
   "outputs": [],
   "source": [
    "# experimenting with teams for certain year range\n",
    "teams_df_raw_85_higher = teams_raw_df.loc[teams_raw_df[\"yearID\"] > 1984]\n",
    "\n",
    "wash = teams_raw_df.loc[teams_raw_df[\"teamID\"] == \"WAS\"]\n",
    "\n",
    "wash_85_higher = teams_df_raw_85_higher.loc[teams_raw_df[\"teamID\"] == \"WAS\"]\n"
   ]
  },
  {
   "cell_type": "code",
   "execution_count": null,
   "metadata": {},
   "outputs": [],
   "source": [
    "# reindexing to get a unique team and franchise id for each year\n",
    "team_name_year_table_indexing = teams_df_raw_85_higher.set_index([\"yearID\"],[\"teamID\"])\n",
    "team_name_year_table_test = team_name_year_table_indexing[['teamID','name','franchID']]\n",
    "test_df_1 = team_name_year_table_test.reset_index()\n",
    "team_name_year_table = test_df_1.set_index(['yearID','teamID'])\n",
    "team_name_year_table"
   ]
  },
  {
   "cell_type": "code",
   "execution_count": null,
   "metadata": {},
   "outputs": [],
   "source": [
    "# previewing the teamsfranchises df \n",
    "# ['franchID', 'franchName', 'active', 'NAassoc]\n",
    "\n",
    "teams_fran_raw_df.tail(10)"
   ]
  },
  {
   "cell_type": "code",
   "execution_count": null,
   "metadata": {},
   "outputs": [],
   "source": [
    "# previewing the Master df \n",
    "# ['playerID', 'birthYear', 'birthMonth', 'birthDay', 'birthCountry', 'birthState', 'birthCity', 'deathYear', 'deathMonth', 'deathDay', 'deathCountry', 'deathState', 'deathCity', 'nameFirst', 'nameLast', 'nameGiven', 'weight', 'height', 'bats', 'throws', 'debut', 'finalGame', 'retroID', 'bbrefID]\n",
    "\n",
    "master_players_raw_df.head(5)"
   ]
  },
  {
   "cell_type": "code",
   "execution_count": null,
   "metadata": {},
   "outputs": [],
   "source": [
    "# transformation of salaries_raw_df\n",
    "# [\"yearID\",\"teamID\",\"lgID\",\"playerID\",\"salary\"] - old column names\n",
    "\n",
    "salaries_df_2 = salaries_raw_df.copy()\n",
    "salaries_df_3 = salaries_df_2.rename(columns = {\"yearID\" : \"year\",\"lgID\" : \"leagueID\"})"
   ]
  },
  {
   "cell_type": "code",
   "execution_count": null,
   "metadata": {},
   "outputs": [],
   "source": [
    "# reindexing for the merge with the teams_year_table\n",
    "sal_year_team_ind = salaries_df_2.set_index(['yearID','teamID'])\n",
    "sal_year_team_ind  "
   ]
  },
  {
   "cell_type": "code",
   "execution_count": null,
   "metadata": {},
   "outputs": [],
   "source": [
    "# merging in the full team names to the salary table\n",
    "\n",
    "salary_team_name_df_1 = sal_year_team_ind.merge(team_name_year_table,how=\"left\",left_index=True,right_index=True)\n",
    "\n",
    "salary_team_name_df_1"
   ]
  },
  {
   "cell_type": "code",
   "execution_count": null,
   "metadata": {},
   "outputs": [],
   "source": [
    "# reseting index of salaries df for csv export\n",
    "\n",
    "salaries_team_name_df_final = salary_team_name_df_1.reset_index()\n",
    "\n",
    "salaries_team_name_df_final"
   ]
  },
  {
   "cell_type": "code",
   "execution_count": null,
   "metadata": {},
   "outputs": [],
   "source": [
    "final_salaries_output_path = \"output_csv/final_salaries_team_names_1985_to_2015.csv\"\n",
    "salaries_team_name_df_final.to_csv(final_salaries_output_path,index=False)"
   ]
  },
  {
   "cell_type": "code",
   "execution_count": null,
   "metadata": {},
   "outputs": [],
   "source": [
    "# creating group by to aggregate by years\n"
   ]
  }
 ]
}