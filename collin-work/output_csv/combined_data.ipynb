{
 "metadata": {
  "language_info": {
   "codemirror_mode": {
    "name": "ipython",
    "version": 3
   },
   "file_extension": ".py",
   "mimetype": "text/x-python",
   "name": "python",
   "nbconvert_exporter": "python",
   "pygments_lexer": "ipython3",
   "version": "3.8.3-final"
  },
  "orig_nbformat": 2,
  "kernelspec": {
   "name": "python3",
   "display_name": "Python 3.8.3 64-bit (conda)",
   "metadata": {
    "interpreter": {
     "hash": "667d68cf64111410b72a441283a6209b2544c5e684c2c1a9bfefef12f60b6f38"
    }
   }
  }
 },
 "nbformat": 4,
 "nbformat_minor": 2,
 "cells": [
  {
   "cell_type": "code",
   "execution_count": 1,
   "metadata": {},
   "outputs": [],
   "source": [
    "import pandas as pd\n",
    "from sqlalchemy import create_engine"
   ]
  },
  {
   "cell_type": "code",
   "execution_count": 12,
   "metadata": {},
   "outputs": [
    {
     "output_type": "execute_result",
     "data": {
      "text/plain": [
       "     Team ID lgID   playerID    salary             Team Name franchID\n",
       "Year                                                                 \n",
       "1985     ATL   NL  barkele01    870000        Atlanta Braves      ATL\n",
       "1985     ATL   NL  bedrost01    550000        Atlanta Braves      ATL\n",
       "1985     ATL   NL  benedbr01    545000        Atlanta Braves      ATL\n",
       "1985     ATL   NL   campri01    633333        Atlanta Braves      ATL\n",
       "1985     ATL   NL  ceronri01    625000        Atlanta Braves      ATL\n",
       "...      ...  ...        ...       ...                   ...      ...\n",
       "2015     WAS   NL  treinbl01    512800  Washington Nationals      WSN\n",
       "2015     WAS   NL  ugglada01    507500  Washington Nationals      WSN\n",
       "2015     WAS   NL  werthja01  21000000  Washington Nationals      WSN\n",
       "2015     WAS   NL  zimmejo02  16500000  Washington Nationals      WSN\n",
       "2015     WAS   NL  zimmery01  14000000  Washington Nationals      WSN\n",
       "\n",
       "[25575 rows x 6 columns]"
      ],
      "text/html": "<div>\n<style scoped>\n    .dataframe tbody tr th:only-of-type {\n        vertical-align: middle;\n    }\n\n    .dataframe tbody tr th {\n        vertical-align: top;\n    }\n\n    .dataframe thead th {\n        text-align: right;\n    }\n</style>\n<table border=\"1\" class=\"dataframe\">\n  <thead>\n    <tr style=\"text-align: right;\">\n      <th></th>\n      <th>Team ID</th>\n      <th>lgID</th>\n      <th>playerID</th>\n      <th>salary</th>\n      <th>Team Name</th>\n      <th>franchID</th>\n    </tr>\n    <tr>\n      <th>Year</th>\n      <th></th>\n      <th></th>\n      <th></th>\n      <th></th>\n      <th></th>\n      <th></th>\n    </tr>\n  </thead>\n  <tbody>\n    <tr>\n      <th>1985</th>\n      <td>ATL</td>\n      <td>NL</td>\n      <td>barkele01</td>\n      <td>870000</td>\n      <td>Atlanta Braves</td>\n      <td>ATL</td>\n    </tr>\n    <tr>\n      <th>1985</th>\n      <td>ATL</td>\n      <td>NL</td>\n      <td>bedrost01</td>\n      <td>550000</td>\n      <td>Atlanta Braves</td>\n      <td>ATL</td>\n    </tr>\n    <tr>\n      <th>1985</th>\n      <td>ATL</td>\n      <td>NL</td>\n      <td>benedbr01</td>\n      <td>545000</td>\n      <td>Atlanta Braves</td>\n      <td>ATL</td>\n    </tr>\n    <tr>\n      <th>1985</th>\n      <td>ATL</td>\n      <td>NL</td>\n      <td>campri01</td>\n      <td>633333</td>\n      <td>Atlanta Braves</td>\n      <td>ATL</td>\n    </tr>\n    <tr>\n      <th>1985</th>\n      <td>ATL</td>\n      <td>NL</td>\n      <td>ceronri01</td>\n      <td>625000</td>\n      <td>Atlanta Braves</td>\n      <td>ATL</td>\n    </tr>\n    <tr>\n      <th>...</th>\n      <td>...</td>\n      <td>...</td>\n      <td>...</td>\n      <td>...</td>\n      <td>...</td>\n      <td>...</td>\n    </tr>\n    <tr>\n      <th>2015</th>\n      <td>WAS</td>\n      <td>NL</td>\n      <td>treinbl01</td>\n      <td>512800</td>\n      <td>Washington Nationals</td>\n      <td>WSN</td>\n    </tr>\n    <tr>\n      <th>2015</th>\n      <td>WAS</td>\n      <td>NL</td>\n      <td>ugglada01</td>\n      <td>507500</td>\n      <td>Washington Nationals</td>\n      <td>WSN</td>\n    </tr>\n    <tr>\n      <th>2015</th>\n      <td>WAS</td>\n      <td>NL</td>\n      <td>werthja01</td>\n      <td>21000000</td>\n      <td>Washington Nationals</td>\n      <td>WSN</td>\n    </tr>\n    <tr>\n      <th>2015</th>\n      <td>WAS</td>\n      <td>NL</td>\n      <td>zimmejo02</td>\n      <td>16500000</td>\n      <td>Washington Nationals</td>\n      <td>WSN</td>\n    </tr>\n    <tr>\n      <th>2015</th>\n      <td>WAS</td>\n      <td>NL</td>\n      <td>zimmery01</td>\n      <td>14000000</td>\n      <td>Washington Nationals</td>\n      <td>WSN</td>\n    </tr>\n  </tbody>\n</table>\n<p>25575 rows × 6 columns</p>\n</div>"
     },
     "metadata": {},
     "execution_count": 12
    }
   ],
   "source": [
    "Player_Salary_CSV = '../../alec-work/output_csv/final_salaries_team_names_1985_to_2015.csv'\n",
    "player_salary_df = pd.read_csv(Player_Salary_CSV)\n",
    "#player_salary_df.rename(comlumns = \"teamID\" : 'Team ID')\n",
    "#player_salary_df.head()\n",
    "new_players_df = player_salary_df.rename(columns = {\"yearID\": 'Year', \"teamID\":'Team ID', \"name\" : \"Team Name\"})\n",
    "new_players_df.set_index('Year')\n"
   ]
  },
  {
   "cell_type": "code",
   "execution_count": 13,
   "metadata": {},
   "outputs": [
    {
     "output_type": "execute_result",
     "data": {
      "text/plain": [
       "      Unnamed: 0 Team ID             Team Name  Games  Wins  Loses\n",
       "Year                                                              \n",
       "1985           0     ATL        Atlanta Braves    162    66     96\n",
       "1985           1     BAL     Baltimore Orioles    161    83     78\n",
       "1985           2     BOS        Boston Red Sox    163    81     81\n",
       "1985           3     CAL     California Angels    162    90     72\n",
       "1985           4     CHA     Chicago White Sox    163    85     77\n",
       "...          ...     ...                   ...    ...   ...    ...\n",
       "2015         883     LAN   Los Angeles Dodgers    162    92     70\n",
       "2015         884     SFN  San Francisco Giants    162    84     78\n",
       "2015         885     ARI  Arizona Diamondbacks    162    79     83\n",
       "2015         886     SDN      San Diego Padres    162    74     88\n",
       "2015         887     COL      Colorado Rockies    162    68     94\n",
       "\n",
       "[888 rows x 6 columns]"
      ],
      "text/html": "<div>\n<style scoped>\n    .dataframe tbody tr th:only-of-type {\n        vertical-align: middle;\n    }\n\n    .dataframe tbody tr th {\n        vertical-align: top;\n    }\n\n    .dataframe thead th {\n        text-align: right;\n    }\n</style>\n<table border=\"1\" class=\"dataframe\">\n  <thead>\n    <tr style=\"text-align: right;\">\n      <th></th>\n      <th>Unnamed: 0</th>\n      <th>Team ID</th>\n      <th>Team Name</th>\n      <th>Games</th>\n      <th>Wins</th>\n      <th>Loses</th>\n    </tr>\n    <tr>\n      <th>Year</th>\n      <th></th>\n      <th></th>\n      <th></th>\n      <th></th>\n      <th></th>\n      <th></th>\n    </tr>\n  </thead>\n  <tbody>\n    <tr>\n      <th>1985</th>\n      <td>0</td>\n      <td>ATL</td>\n      <td>Atlanta Braves</td>\n      <td>162</td>\n      <td>66</td>\n      <td>96</td>\n    </tr>\n    <tr>\n      <th>1985</th>\n      <td>1</td>\n      <td>BAL</td>\n      <td>Baltimore Orioles</td>\n      <td>161</td>\n      <td>83</td>\n      <td>78</td>\n    </tr>\n    <tr>\n      <th>1985</th>\n      <td>2</td>\n      <td>BOS</td>\n      <td>Boston Red Sox</td>\n      <td>163</td>\n      <td>81</td>\n      <td>81</td>\n    </tr>\n    <tr>\n      <th>1985</th>\n      <td>3</td>\n      <td>CAL</td>\n      <td>California Angels</td>\n      <td>162</td>\n      <td>90</td>\n      <td>72</td>\n    </tr>\n    <tr>\n      <th>1985</th>\n      <td>4</td>\n      <td>CHA</td>\n      <td>Chicago White Sox</td>\n      <td>163</td>\n      <td>85</td>\n      <td>77</td>\n    </tr>\n    <tr>\n      <th>...</th>\n      <td>...</td>\n      <td>...</td>\n      <td>...</td>\n      <td>...</td>\n      <td>...</td>\n      <td>...</td>\n    </tr>\n    <tr>\n      <th>2015</th>\n      <td>883</td>\n      <td>LAN</td>\n      <td>Los Angeles Dodgers</td>\n      <td>162</td>\n      <td>92</td>\n      <td>70</td>\n    </tr>\n    <tr>\n      <th>2015</th>\n      <td>884</td>\n      <td>SFN</td>\n      <td>San Francisco Giants</td>\n      <td>162</td>\n      <td>84</td>\n      <td>78</td>\n    </tr>\n    <tr>\n      <th>2015</th>\n      <td>885</td>\n      <td>ARI</td>\n      <td>Arizona Diamondbacks</td>\n      <td>162</td>\n      <td>79</td>\n      <td>83</td>\n    </tr>\n    <tr>\n      <th>2015</th>\n      <td>886</td>\n      <td>SDN</td>\n      <td>San Diego Padres</td>\n      <td>162</td>\n      <td>74</td>\n      <td>88</td>\n    </tr>\n    <tr>\n      <th>2015</th>\n      <td>887</td>\n      <td>COL</td>\n      <td>Colorado Rockies</td>\n      <td>162</td>\n      <td>68</td>\n      <td>94</td>\n    </tr>\n  </tbody>\n</table>\n<p>888 rows × 6 columns</p>\n</div>"
     },
     "metadata": {},
     "execution_count": 13
    }
   ],
   "source": [
    "teams_info = 'Cleaned_Teams_info.csv'\n",
    "teams_info_df = pd.read_csv(teams_info)\n",
    "teams_info_df.set_index('Year')"
   ]
  },
  {
   "cell_type": "code",
   "execution_count": 14,
   "metadata": {},
   "outputs": [
    {
     "output_type": "execute_result",
     "data": {
      "text/plain": [
       "   Year Team ID       Team Name  Games  Wins  Loses lgID   playerID  salary\n",
       "0  1985     ATL  Atlanta Braves    162    66     96   NL  barkele01  870000\n",
       "1  1985     ATL  Atlanta Braves    162    66     96   NL  bedrost01  550000\n",
       "2  1985     ATL  Atlanta Braves    162    66     96   NL  benedbr01  545000\n",
       "3  1985     ATL  Atlanta Braves    162    66     96   NL   campri01  633333\n",
       "4  1985     ATL  Atlanta Braves    162    66     96   NL  ceronri01  625000"
      ],
      "text/html": "<div>\n<style scoped>\n    .dataframe tbody tr th:only-of-type {\n        vertical-align: middle;\n    }\n\n    .dataframe tbody tr th {\n        vertical-align: top;\n    }\n\n    .dataframe thead th {\n        text-align: right;\n    }\n</style>\n<table border=\"1\" class=\"dataframe\">\n  <thead>\n    <tr style=\"text-align: right;\">\n      <th></th>\n      <th>Year</th>\n      <th>Team ID</th>\n      <th>Team Name</th>\n      <th>Games</th>\n      <th>Wins</th>\n      <th>Loses</th>\n      <th>lgID</th>\n      <th>playerID</th>\n      <th>salary</th>\n    </tr>\n  </thead>\n  <tbody>\n    <tr>\n      <th>0</th>\n      <td>1985</td>\n      <td>ATL</td>\n      <td>Atlanta Braves</td>\n      <td>162</td>\n      <td>66</td>\n      <td>96</td>\n      <td>NL</td>\n      <td>barkele01</td>\n      <td>870000</td>\n    </tr>\n    <tr>\n      <th>1</th>\n      <td>1985</td>\n      <td>ATL</td>\n      <td>Atlanta Braves</td>\n      <td>162</td>\n      <td>66</td>\n      <td>96</td>\n      <td>NL</td>\n      <td>bedrost01</td>\n      <td>550000</td>\n    </tr>\n    <tr>\n      <th>2</th>\n      <td>1985</td>\n      <td>ATL</td>\n      <td>Atlanta Braves</td>\n      <td>162</td>\n      <td>66</td>\n      <td>96</td>\n      <td>NL</td>\n      <td>benedbr01</td>\n      <td>545000</td>\n    </tr>\n    <tr>\n      <th>3</th>\n      <td>1985</td>\n      <td>ATL</td>\n      <td>Atlanta Braves</td>\n      <td>162</td>\n      <td>66</td>\n      <td>96</td>\n      <td>NL</td>\n      <td>campri01</td>\n      <td>633333</td>\n    </tr>\n    <tr>\n      <th>4</th>\n      <td>1985</td>\n      <td>ATL</td>\n      <td>Atlanta Braves</td>\n      <td>162</td>\n      <td>66</td>\n      <td>96</td>\n      <td>NL</td>\n      <td>ceronri01</td>\n      <td>625000</td>\n    </tr>\n  </tbody>\n</table>\n</div>"
     },
     "metadata": {},
     "execution_count": 14
    }
   ],
   "source": [
    "combined_df = teams_info_df.merge(new_players_df, how ='outer')\n",
    "\n",
    "final_combined_df = combined_df.drop(columns={'franchID', 'Unnamed: 0'})\n",
    "final_combined_df.head()"
   ]
  },
  {
   "cell_type": "code",
   "execution_count": 15,
   "metadata": {},
   "outputs": [],
   "source": [
    "final_combined_df.to_csv('combined_info.csv')"
   ]
  },
  {
   "cell_type": "code",
   "execution_count": 16,
   "metadata": {},
   "outputs": [
    {
     "output_type": "execute_result",
     "data": {
      "text/plain": [
       "     0                                                  1\n",
       "0  ANA         Unnamed: 0  Year Team ID       Team Nam...\n",
       "1  ARI         Unnamed: 0  Year Team ID             Te...\n",
       "2  ATL         Unnamed: 0  Year Team ID       Team Nam...\n",
       "3  BAL         Unnamed: 0  Year Team ID          Team ...\n",
       "4  BOS         Unnamed: 0  Year Team ID       Team Nam..."
      ],
      "text/html": "<div>\n<style scoped>\n    .dataframe tbody tr th:only-of-type {\n        vertical-align: middle;\n    }\n\n    .dataframe tbody tr th {\n        vertical-align: top;\n    }\n\n    .dataframe thead th {\n        text-align: right;\n    }\n</style>\n<table border=\"1\" class=\"dataframe\">\n  <thead>\n    <tr style=\"text-align: right;\">\n      <th></th>\n      <th>0</th>\n      <th>1</th>\n    </tr>\n  </thead>\n  <tbody>\n    <tr>\n      <th>0</th>\n      <td>ANA</td>\n      <td>Unnamed: 0  Year Team ID       Team Nam...</td>\n    </tr>\n    <tr>\n      <th>1</th>\n      <td>ARI</td>\n      <td>Unnamed: 0  Year Team ID             Te...</td>\n    </tr>\n    <tr>\n      <th>2</th>\n      <td>ATL</td>\n      <td>Unnamed: 0  Year Team ID       Team Nam...</td>\n    </tr>\n    <tr>\n      <th>3</th>\n      <td>BAL</td>\n      <td>Unnamed: 0  Year Team ID          Team ...</td>\n    </tr>\n    <tr>\n      <th>4</th>\n      <td>BOS</td>\n      <td>Unnamed: 0  Year Team ID       Team Nam...</td>\n    </tr>\n  </tbody>\n</table>\n</div>"
     },
     "metadata": {},
     "execution_count": 16
    }
   ],
   "source": [
    "grouped_df = combined_df.groupby('Team ID')\n",
    "new_df = pd.DataFrame(grouped_df)\n",
    "new_df.head()"
   ]
  },
  {
   "cell_type": "code",
   "execution_count": null,
   "metadata": {},
   "outputs": [],
   "source": []
  }
 ]
}