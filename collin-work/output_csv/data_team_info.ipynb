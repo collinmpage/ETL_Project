{
 "metadata": {
  "language_info": {
   "codemirror_mode": {
    "name": "ipython",
    "version": 3
   },
   "file_extension": ".py",
   "mimetype": "text/x-python",
   "name": "python",
   "nbconvert_exporter": "python",
   "pygments_lexer": "ipython3",
   "version": "3.8.3-final"
  },
  "orig_nbformat": 2,
  "kernelspec": {
   "name": "python3",
   "display_name": "Python 3.8.3 64-bit (conda)",
   "metadata": {
    "interpreter": {
     "hash": "667d68cf64111410b72a441283a6209b2544c5e684c2c1a9bfefef12f60b6f38"
    }
   }
  }
 },
 "nbformat": 4,
 "nbformat_minor": 2,
 "cells": [
  {
   "cell_type": "code",
   "execution_count": 1,
   "metadata": {},
   "outputs": [],
   "source": [
    "import pandas as pd \n",
    "from sqlalchemy import create_engine"
   ]
  },
  {
   "cell_type": "code",
   "execution_count": 2,
   "metadata": {},
   "outputs": [
    {
     "output_type": "execute_result",
     "data": {
      "text/plain": [
       "   yearID lgID teamID franchID divID  Rank   G  Ghome   W   L  ...  DP    FP  \\\n",
       "0    1871  NaN    BS1      BNA   NaN     3  31    NaN  20  10  ... NaN  0.83   \n",
       "1    1871  NaN    CH1      CNA   NaN     2  28    NaN  19   9  ... NaN  0.82   \n",
       "2    1871  NaN    CL1      CFC   NaN     8  29    NaN  10  19  ... NaN  0.81   \n",
       "3    1871  NaN    FW1      KEK   NaN     7  19    NaN   7  12  ... NaN  0.80   \n",
       "4    1871  NaN    NY2      NNA   NaN     5  33    NaN  16  17  ... NaN  0.83   \n",
       "\n",
       "                      name                          park  attendance  BPF  \\\n",
       "0     Boston Red Stockings           South End Grounds I         NaN  103   \n",
       "1  Chicago White Stockings       Union Base-Ball Grounds         NaN  104   \n",
       "2   Cleveland Forest Citys  National Association Grounds         NaN   96   \n",
       "3     Fort Wayne Kekiongas                Hamilton Field         NaN  101   \n",
       "4         New York Mutuals      Union Grounds (Brooklyn)         NaN   90   \n",
       "\n",
       "   PPF  teamIDBR  teamIDlahman45  teamIDretro  \n",
       "0   98       BOS             BS1          BS1  \n",
       "1  102       CHI             CH1          CH1  \n",
       "2  100       CLE             CL1          CL1  \n",
       "3  107       KEK             FW1          FW1  \n",
       "4   88       NYU             NY2          NY2  \n",
       "\n",
       "[5 rows x 48 columns]"
      ],
      "text/html": "<div>\n<style scoped>\n    .dataframe tbody tr th:only-of-type {\n        vertical-align: middle;\n    }\n\n    .dataframe tbody tr th {\n        vertical-align: top;\n    }\n\n    .dataframe thead th {\n        text-align: right;\n    }\n</style>\n<table border=\"1\" class=\"dataframe\">\n  <thead>\n    <tr style=\"text-align: right;\">\n      <th></th>\n      <th>yearID</th>\n      <th>lgID</th>\n      <th>teamID</th>\n      <th>franchID</th>\n      <th>divID</th>\n      <th>Rank</th>\n      <th>G</th>\n      <th>Ghome</th>\n      <th>W</th>\n      <th>L</th>\n      <th>...</th>\n      <th>DP</th>\n      <th>FP</th>\n      <th>name</th>\n      <th>park</th>\n      <th>attendance</th>\n      <th>BPF</th>\n      <th>PPF</th>\n      <th>teamIDBR</th>\n      <th>teamIDlahman45</th>\n      <th>teamIDretro</th>\n    </tr>\n  </thead>\n  <tbody>\n    <tr>\n      <th>0</th>\n      <td>1871</td>\n      <td>NaN</td>\n      <td>BS1</td>\n      <td>BNA</td>\n      <td>NaN</td>\n      <td>3</td>\n      <td>31</td>\n      <td>NaN</td>\n      <td>20</td>\n      <td>10</td>\n      <td>...</td>\n      <td>NaN</td>\n      <td>0.83</td>\n      <td>Boston Red Stockings</td>\n      <td>South End Grounds I</td>\n      <td>NaN</td>\n      <td>103</td>\n      <td>98</td>\n      <td>BOS</td>\n      <td>BS1</td>\n      <td>BS1</td>\n    </tr>\n    <tr>\n      <th>1</th>\n      <td>1871</td>\n      <td>NaN</td>\n      <td>CH1</td>\n      <td>CNA</td>\n      <td>NaN</td>\n      <td>2</td>\n      <td>28</td>\n      <td>NaN</td>\n      <td>19</td>\n      <td>9</td>\n      <td>...</td>\n      <td>NaN</td>\n      <td>0.82</td>\n      <td>Chicago White Stockings</td>\n      <td>Union Base-Ball Grounds</td>\n      <td>NaN</td>\n      <td>104</td>\n      <td>102</td>\n      <td>CHI</td>\n      <td>CH1</td>\n      <td>CH1</td>\n    </tr>\n    <tr>\n      <th>2</th>\n      <td>1871</td>\n      <td>NaN</td>\n      <td>CL1</td>\n      <td>CFC</td>\n      <td>NaN</td>\n      <td>8</td>\n      <td>29</td>\n      <td>NaN</td>\n      <td>10</td>\n      <td>19</td>\n      <td>...</td>\n      <td>NaN</td>\n      <td>0.81</td>\n      <td>Cleveland Forest Citys</td>\n      <td>National Association Grounds</td>\n      <td>NaN</td>\n      <td>96</td>\n      <td>100</td>\n      <td>CLE</td>\n      <td>CL1</td>\n      <td>CL1</td>\n    </tr>\n    <tr>\n      <th>3</th>\n      <td>1871</td>\n      <td>NaN</td>\n      <td>FW1</td>\n      <td>KEK</td>\n      <td>NaN</td>\n      <td>7</td>\n      <td>19</td>\n      <td>NaN</td>\n      <td>7</td>\n      <td>12</td>\n      <td>...</td>\n      <td>NaN</td>\n      <td>0.80</td>\n      <td>Fort Wayne Kekiongas</td>\n      <td>Hamilton Field</td>\n      <td>NaN</td>\n      <td>101</td>\n      <td>107</td>\n      <td>KEK</td>\n      <td>FW1</td>\n      <td>FW1</td>\n    </tr>\n    <tr>\n      <th>4</th>\n      <td>1871</td>\n      <td>NaN</td>\n      <td>NY2</td>\n      <td>NNA</td>\n      <td>NaN</td>\n      <td>5</td>\n      <td>33</td>\n      <td>NaN</td>\n      <td>16</td>\n      <td>17</td>\n      <td>...</td>\n      <td>NaN</td>\n      <td>0.83</td>\n      <td>New York Mutuals</td>\n      <td>Union Grounds (Brooklyn)</td>\n      <td>NaN</td>\n      <td>90</td>\n      <td>88</td>\n      <td>NYU</td>\n      <td>NY2</td>\n      <td>NY2</td>\n    </tr>\n  </tbody>\n</table>\n<p>5 rows × 48 columns</p>\n</div>"
     },
     "metadata": {},
     "execution_count": 2
    }
   ],
   "source": [
    "teams_file = '../Resources/Teams.csv'\n",
    "team_data_df = pd.read_csv(teams_file)\n",
    "team_data_df.head()"
   ]
  },
  {
   "cell_type": "code",
   "execution_count": 3,
   "metadata": {},
   "outputs": [
    {
     "output_type": "execute_result",
     "data": {
      "text/plain": [
       "yearID     int64\n",
       "teamID    object\n",
       "name      object\n",
       "G          int64\n",
       "W          int64\n",
       "L          int64\n",
       "dtype: object"
      ]
     },
     "metadata": {},
     "execution_count": 3
    }
   ],
   "source": [
    "new_team_df = team_data_df [['yearID', 'teamID', 'name', 'G','W', 'L']].copy()\n",
    "new_team_df.head()\n",
    "\n",
    "new_team_df.dtypes"
   ]
  },
  {
   "cell_type": "code",
   "execution_count": 4,
   "metadata": {},
   "outputs": [
    {
     "output_type": "execute_result",
     "data": {
      "text/plain": [
       "   Year Team ID          Team Name  Games  Wins  Loses\n",
       "0  1985     ATL     Atlanta Braves    162    66     96\n",
       "1  1985     BAL  Baltimore Orioles    161    83     78\n",
       "2  1985     BOS     Boston Red Sox    163    81     81\n",
       "3  1985     CAL  California Angels    162    90     72\n",
       "4  1985     CHA  Chicago White Sox    163    85     77"
      ],
      "text/html": "<div>\n<style scoped>\n    .dataframe tbody tr th:only-of-type {\n        vertical-align: middle;\n    }\n\n    .dataframe tbody tr th {\n        vertical-align: top;\n    }\n\n    .dataframe thead th {\n        text-align: right;\n    }\n</style>\n<table border=\"1\" class=\"dataframe\">\n  <thead>\n    <tr style=\"text-align: right;\">\n      <th></th>\n      <th>Year</th>\n      <th>Team ID</th>\n      <th>Team Name</th>\n      <th>Games</th>\n      <th>Wins</th>\n      <th>Loses</th>\n    </tr>\n  </thead>\n  <tbody>\n    <tr>\n      <th>0</th>\n      <td>1985</td>\n      <td>ATL</td>\n      <td>Atlanta Braves</td>\n      <td>162</td>\n      <td>66</td>\n      <td>96</td>\n    </tr>\n    <tr>\n      <th>1</th>\n      <td>1985</td>\n      <td>BAL</td>\n      <td>Baltimore Orioles</td>\n      <td>161</td>\n      <td>83</td>\n      <td>78</td>\n    </tr>\n    <tr>\n      <th>2</th>\n      <td>1985</td>\n      <td>BOS</td>\n      <td>Boston Red Sox</td>\n      <td>163</td>\n      <td>81</td>\n      <td>81</td>\n    </tr>\n    <tr>\n      <th>3</th>\n      <td>1985</td>\n      <td>CAL</td>\n      <td>California Angels</td>\n      <td>162</td>\n      <td>90</td>\n      <td>72</td>\n    </tr>\n    <tr>\n      <th>4</th>\n      <td>1985</td>\n      <td>CHA</td>\n      <td>Chicago White Sox</td>\n      <td>163</td>\n      <td>85</td>\n      <td>77</td>\n    </tr>\n  </tbody>\n</table>\n</div>"
     },
     "metadata": {},
     "execution_count": 4
    }
   ],
   "source": [
    "teams_df_filtered = new_team_df.loc[new_team_df['yearID'] >= 1985]\n",
    "\n",
    "\n",
    "\n",
    "new_df = teams_df_filtered.reset_index()\n",
    "\n",
    "dropped_df = new_df.drop(columns={'index'})\n",
    "\n",
    "final_df = dropped_df.rename(columns= {'yearID':'Year', 'teamID': 'Team ID', 'name':'Team Name', 'G':'Games', 'W':'Wins','L':'Loses'})\n",
    "final_df.head()"
   ]
  },
  {
   "cell_type": "code",
   "execution_count": 5,
   "metadata": {},
   "outputs": [],
   "source": [
    "final_df.to_csv('Cleaned_Teams_info.csv')"
   ]
  },
  {
   "cell_type": "code",
   "execution_count": null,
   "metadata": {},
   "outputs": [],
   "source": []
  }
 ]
}