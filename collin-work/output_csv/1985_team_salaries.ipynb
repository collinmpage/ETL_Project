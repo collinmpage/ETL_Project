{
 "metadata": {
  "language_info": {
   "codemirror_mode": {
    "name": "ipython",
    "version": 3
   },
   "file_extension": ".py",
   "mimetype": "text/x-python",
   "name": "python",
   "nbconvert_exporter": "python",
   "pygments_lexer": "ipython3",
   "version": "3.8.3-final"
  },
  "orig_nbformat": 2,
  "kernelspec": {
   "name": "python3",
   "display_name": "Python 3.8.3 64-bit (conda)",
   "metadata": {
    "interpreter": {
     "hash": "667d68cf64111410b72a441283a6209b2544c5e684c2c1a9bfefef12f60b6f38"
    }
   }
  }
 },
 "nbformat": 4,
 "nbformat_minor": 2,
 "cells": [
  {
   "cell_type": "code",
   "execution_count": 1,
   "metadata": {},
   "outputs": [],
   "source": [
    "import pandas as pd"
   ]
  },
  {
   "cell_type": "code",
   "execution_count": 2,
   "metadata": {},
   "outputs": [
    {
     "output_type": "execute_result",
     "data": {
      "text/plain": [
       "   yearID teamID lgID   playerID  salary            name franchID\n",
       "0    1985    ATL   NL  barkele01  870000  Atlanta Braves      ATL\n",
       "1    1985    ATL   NL  bedrost01  550000  Atlanta Braves      ATL\n",
       "2    1985    ATL   NL  benedbr01  545000  Atlanta Braves      ATL\n",
       "3    1985    ATL   NL   campri01  633333  Atlanta Braves      ATL\n",
       "4    1985    ATL   NL  ceronri01  625000  Atlanta Braves      ATL"
      ],
      "text/html": "<div>\n<style scoped>\n    .dataframe tbody tr th:only-of-type {\n        vertical-align: middle;\n    }\n\n    .dataframe tbody tr th {\n        vertical-align: top;\n    }\n\n    .dataframe thead th {\n        text-align: right;\n    }\n</style>\n<table border=\"1\" class=\"dataframe\">\n  <thead>\n    <tr style=\"text-align: right;\">\n      <th></th>\n      <th>yearID</th>\n      <th>teamID</th>\n      <th>lgID</th>\n      <th>playerID</th>\n      <th>salary</th>\n      <th>name</th>\n      <th>franchID</th>\n    </tr>\n  </thead>\n  <tbody>\n    <tr>\n      <th>0</th>\n      <td>1985</td>\n      <td>ATL</td>\n      <td>NL</td>\n      <td>barkele01</td>\n      <td>870000</td>\n      <td>Atlanta Braves</td>\n      <td>ATL</td>\n    </tr>\n    <tr>\n      <th>1</th>\n      <td>1985</td>\n      <td>ATL</td>\n      <td>NL</td>\n      <td>bedrost01</td>\n      <td>550000</td>\n      <td>Atlanta Braves</td>\n      <td>ATL</td>\n    </tr>\n    <tr>\n      <th>2</th>\n      <td>1985</td>\n      <td>ATL</td>\n      <td>NL</td>\n      <td>benedbr01</td>\n      <td>545000</td>\n      <td>Atlanta Braves</td>\n      <td>ATL</td>\n    </tr>\n    <tr>\n      <th>3</th>\n      <td>1985</td>\n      <td>ATL</td>\n      <td>NL</td>\n      <td>campri01</td>\n      <td>633333</td>\n      <td>Atlanta Braves</td>\n      <td>ATL</td>\n    </tr>\n    <tr>\n      <th>4</th>\n      <td>1985</td>\n      <td>ATL</td>\n      <td>NL</td>\n      <td>ceronri01</td>\n      <td>625000</td>\n      <td>Atlanta Braves</td>\n      <td>ATL</td>\n    </tr>\n  </tbody>\n</table>\n</div>"
     },
     "metadata": {},
     "execution_count": 2
    }
   ],
   "source": [
    "Player_Salary_CSV = '../../alec-work/output_csv/final_salaries_team_names_1985_to_2015.csv'\n",
    "player_salary_df = pd.read_csv(Player_Salary_CSV)\n",
    "\n",
    "player_salary_df.head()"
   ]
  },
  {
   "cell_type": "code",
   "execution_count": 3,
   "metadata": {},
   "outputs": [],
   "source": [
    "new_df = player_salary_df.loc[player_salary_df['yearID'] == 1985]\n"
   ]
  },
  {
   "cell_type": "code",
   "execution_count": 4,
   "metadata": {},
   "outputs": [
    {
     "output_type": "execute_result",
     "data": {
      "text/plain": [
       "          salary\n",
       "teamID          \n",
       "ATL     14807000\n",
       "BAL     11560712\n",
       "BOS     10897560\n",
       "CAL     14427894\n",
       "CHA      9846178\n",
       "CHN     12702917\n",
       "CIN      8359917\n",
       "CLE      6551666\n",
       "DET     10348143\n",
       "HOU      9993051\n",
       "KCA      9321179\n",
       "LAN     10967917\n",
       "MIN      5764821\n",
       "ML4     11284107\n",
       "MON      9470166\n",
       "NYA     14238204\n",
       "NYN     10834762\n",
       "OAK      9058606\n",
       "PHI     10124966\n",
       "PIT      9227500\n",
       "SDN     11036583\n",
       "SEA      4613000\n",
       "SFN      8221714\n",
       "SLN     11817083\n",
       "TEX      7676500\n",
       "TOR      8812550"
      ],
      "text/html": "<div>\n<style scoped>\n    .dataframe tbody tr th:only-of-type {\n        vertical-align: middle;\n    }\n\n    .dataframe tbody tr th {\n        vertical-align: top;\n    }\n\n    .dataframe thead th {\n        text-align: right;\n    }\n</style>\n<table border=\"1\" class=\"dataframe\">\n  <thead>\n    <tr style=\"text-align: right;\">\n      <th></th>\n      <th>salary</th>\n    </tr>\n    <tr>\n      <th>teamID</th>\n      <th></th>\n    </tr>\n  </thead>\n  <tbody>\n    <tr>\n      <th>ATL</th>\n      <td>14807000</td>\n    </tr>\n    <tr>\n      <th>BAL</th>\n      <td>11560712</td>\n    </tr>\n    <tr>\n      <th>BOS</th>\n      <td>10897560</td>\n    </tr>\n    <tr>\n      <th>CAL</th>\n      <td>14427894</td>\n    </tr>\n    <tr>\n      <th>CHA</th>\n      <td>9846178</td>\n    </tr>\n    <tr>\n      <th>CHN</th>\n      <td>12702917</td>\n    </tr>\n    <tr>\n      <th>CIN</th>\n      <td>8359917</td>\n    </tr>\n    <tr>\n      <th>CLE</th>\n      <td>6551666</td>\n    </tr>\n    <tr>\n      <th>DET</th>\n      <td>10348143</td>\n    </tr>\n    <tr>\n      <th>HOU</th>\n      <td>9993051</td>\n    </tr>\n    <tr>\n      <th>KCA</th>\n      <td>9321179</td>\n    </tr>\n    <tr>\n      <th>LAN</th>\n      <td>10967917</td>\n    </tr>\n    <tr>\n      <th>MIN</th>\n      <td>5764821</td>\n    </tr>\n    <tr>\n      <th>ML4</th>\n      <td>11284107</td>\n    </tr>\n    <tr>\n      <th>MON</th>\n      <td>9470166</td>\n    </tr>\n    <tr>\n      <th>NYA</th>\n      <td>14238204</td>\n    </tr>\n    <tr>\n      <th>NYN</th>\n      <td>10834762</td>\n    </tr>\n    <tr>\n      <th>OAK</th>\n      <td>9058606</td>\n    </tr>\n    <tr>\n      <th>PHI</th>\n      <td>10124966</td>\n    </tr>\n    <tr>\n      <th>PIT</th>\n      <td>9227500</td>\n    </tr>\n    <tr>\n      <th>SDN</th>\n      <td>11036583</td>\n    </tr>\n    <tr>\n      <th>SEA</th>\n      <td>4613000</td>\n    </tr>\n    <tr>\n      <th>SFN</th>\n      <td>8221714</td>\n    </tr>\n    <tr>\n      <th>SLN</th>\n      <td>11817083</td>\n    </tr>\n    <tr>\n      <th>TEX</th>\n      <td>7676500</td>\n    </tr>\n    <tr>\n      <th>TOR</th>\n      <td>8812550</td>\n    </tr>\n  </tbody>\n</table>\n</div>"
     },
     "metadata": {},
     "execution_count": 4
    }
   ],
   "source": [
    "grouped = new_df.groupby(['teamID'])\n",
    "salary_1985 = grouped['salary'].sum()\n",
    "\n",
    "#salary_1985_df = pd.Dataframe(salary_1985)\n",
    "\n",
    "salary_df = pd.DataFrame(salary_1985)\n",
    "salary_df.rename(columns={'teamID':'Team ID'})\n"
   ]
  },
  {
   "cell_type": "code",
   "execution_count": 5,
   "metadata": {},
   "outputs": [],
   "source": [
    "teams_info = 'Cleaned_Teams_info.csv'\n",
    "teams_info_df = pd.read_csv(teams_info)\n",
    "rename_df = teams_info_df.rename(columns={'Team ID':'teamID'})\n"
   ]
  },
  {
   "cell_type": "code",
   "execution_count": 6,
   "metadata": {},
   "outputs": [],
   "source": [
    "new_df_1  = rename_df.loc[rename_df['Year'] == 1985]\n",
    "new_df_1.head(50)\n",
    "final_team_df = new_df_1.set_index('teamID')"
   ]
  },
  {
   "cell_type": "code",
   "execution_count": 7,
   "metadata": {},
   "outputs": [
    {
     "output_type": "execute_result",
     "data": {
      "text/plain": [
       "        Unnamed: 0  Year              Team Name  Games  Wins  Loses    salary\n",
       "teamID                                                                       \n",
       "ATL              0  1985         Atlanta Braves    162    66     96  14807000\n",
       "BAL              1  1985      Baltimore Orioles    161    83     78  11560712\n",
       "BOS              2  1985         Boston Red Sox    163    81     81  10897560\n",
       "CAL              3  1985      California Angels    162    90     72  14427894\n",
       "CHA              4  1985      Chicago White Sox    163    85     77   9846178\n",
       "CHN              5  1985           Chicago Cubs    162    77     84  12702917\n",
       "CIN              6  1985        Cincinnati Reds    162    89     72   8359917\n",
       "CLE              7  1985      Cleveland Indians    162    60    102   6551666\n",
       "DET              8  1985         Detroit Tigers    161    84     77  10348143\n",
       "HOU              9  1985         Houston Astros    162    83     79   9993051\n",
       "KCA             10  1985     Kansas City Royals    162    91     71   9321179\n",
       "LAN             11  1985    Los Angeles Dodgers    162    95     67  10967917\n",
       "MIN             12  1985        Minnesota Twins    162    77     85   5764821\n",
       "ML4             13  1985      Milwaukee Brewers    161    71     90  11284107\n",
       "MON             14  1985         Montreal Expos    161    84     77   9470166\n",
       "NYA             15  1985       New York Yankees    161    97     64  14238204\n",
       "NYN             16  1985          New York Mets    162    98     64  10834762\n",
       "OAK             17  1985      Oakland Athletics    162    77     85   9058606\n",
       "PHI             18  1985  Philadelphia Phillies    162    75     87  10124966\n",
       "PIT             19  1985     Pittsburgh Pirates    161    57    104   9227500\n",
       "SDN             20  1985       San Diego Padres    162    83     79  11036583\n",
       "SEA             21  1985       Seattle Mariners    162    74     88   4613000\n",
       "SFN             22  1985   San Francisco Giants    162    62    100   8221714\n",
       "SLN             23  1985    St. Louis Cardinals    162   101     61  11817083\n",
       "TEX             24  1985          Texas Rangers    161    62     99   7676500\n",
       "TOR             25  1985      Toronto Blue Jays    161    99     62   8812550"
      ],
      "text/html": "<div>\n<style scoped>\n    .dataframe tbody tr th:only-of-type {\n        vertical-align: middle;\n    }\n\n    .dataframe tbody tr th {\n        vertical-align: top;\n    }\n\n    .dataframe thead th {\n        text-align: right;\n    }\n</style>\n<table border=\"1\" class=\"dataframe\">\n  <thead>\n    <tr style=\"text-align: right;\">\n      <th></th>\n      <th>Unnamed: 0</th>\n      <th>Year</th>\n      <th>Team Name</th>\n      <th>Games</th>\n      <th>Wins</th>\n      <th>Loses</th>\n      <th>salary</th>\n    </tr>\n    <tr>\n      <th>teamID</th>\n      <th></th>\n      <th></th>\n      <th></th>\n      <th></th>\n      <th></th>\n      <th></th>\n      <th></th>\n    </tr>\n  </thead>\n  <tbody>\n    <tr>\n      <th>ATL</th>\n      <td>0</td>\n      <td>1985</td>\n      <td>Atlanta Braves</td>\n      <td>162</td>\n      <td>66</td>\n      <td>96</td>\n      <td>14807000</td>\n    </tr>\n    <tr>\n      <th>BAL</th>\n      <td>1</td>\n      <td>1985</td>\n      <td>Baltimore Orioles</td>\n      <td>161</td>\n      <td>83</td>\n      <td>78</td>\n      <td>11560712</td>\n    </tr>\n    <tr>\n      <th>BOS</th>\n      <td>2</td>\n      <td>1985</td>\n      <td>Boston Red Sox</td>\n      <td>163</td>\n      <td>81</td>\n      <td>81</td>\n      <td>10897560</td>\n    </tr>\n    <tr>\n      <th>CAL</th>\n      <td>3</td>\n      <td>1985</td>\n      <td>California Angels</td>\n      <td>162</td>\n      <td>90</td>\n      <td>72</td>\n      <td>14427894</td>\n    </tr>\n    <tr>\n      <th>CHA</th>\n      <td>4</td>\n      <td>1985</td>\n      <td>Chicago White Sox</td>\n      <td>163</td>\n      <td>85</td>\n      <td>77</td>\n      <td>9846178</td>\n    </tr>\n    <tr>\n      <th>CHN</th>\n      <td>5</td>\n      <td>1985</td>\n      <td>Chicago Cubs</td>\n      <td>162</td>\n      <td>77</td>\n      <td>84</td>\n      <td>12702917</td>\n    </tr>\n    <tr>\n      <th>CIN</th>\n      <td>6</td>\n      <td>1985</td>\n      <td>Cincinnati Reds</td>\n      <td>162</td>\n      <td>89</td>\n      <td>72</td>\n      <td>8359917</td>\n    </tr>\n    <tr>\n      <th>CLE</th>\n      <td>7</td>\n      <td>1985</td>\n      <td>Cleveland Indians</td>\n      <td>162</td>\n      <td>60</td>\n      <td>102</td>\n      <td>6551666</td>\n    </tr>\n    <tr>\n      <th>DET</th>\n      <td>8</td>\n      <td>1985</td>\n      <td>Detroit Tigers</td>\n      <td>161</td>\n      <td>84</td>\n      <td>77</td>\n      <td>10348143</td>\n    </tr>\n    <tr>\n      <th>HOU</th>\n      <td>9</td>\n      <td>1985</td>\n      <td>Houston Astros</td>\n      <td>162</td>\n      <td>83</td>\n      <td>79</td>\n      <td>9993051</td>\n    </tr>\n    <tr>\n      <th>KCA</th>\n      <td>10</td>\n      <td>1985</td>\n      <td>Kansas City Royals</td>\n      <td>162</td>\n      <td>91</td>\n      <td>71</td>\n      <td>9321179</td>\n    </tr>\n    <tr>\n      <th>LAN</th>\n      <td>11</td>\n      <td>1985</td>\n      <td>Los Angeles Dodgers</td>\n      <td>162</td>\n      <td>95</td>\n      <td>67</td>\n      <td>10967917</td>\n    </tr>\n    <tr>\n      <th>MIN</th>\n      <td>12</td>\n      <td>1985</td>\n      <td>Minnesota Twins</td>\n      <td>162</td>\n      <td>77</td>\n      <td>85</td>\n      <td>5764821</td>\n    </tr>\n    <tr>\n      <th>ML4</th>\n      <td>13</td>\n      <td>1985</td>\n      <td>Milwaukee Brewers</td>\n      <td>161</td>\n      <td>71</td>\n      <td>90</td>\n      <td>11284107</td>\n    </tr>\n    <tr>\n      <th>MON</th>\n      <td>14</td>\n      <td>1985</td>\n      <td>Montreal Expos</td>\n      <td>161</td>\n      <td>84</td>\n      <td>77</td>\n      <td>9470166</td>\n    </tr>\n    <tr>\n      <th>NYA</th>\n      <td>15</td>\n      <td>1985</td>\n      <td>New York Yankees</td>\n      <td>161</td>\n      <td>97</td>\n      <td>64</td>\n      <td>14238204</td>\n    </tr>\n    <tr>\n      <th>NYN</th>\n      <td>16</td>\n      <td>1985</td>\n      <td>New York Mets</td>\n      <td>162</td>\n      <td>98</td>\n      <td>64</td>\n      <td>10834762</td>\n    </tr>\n    <tr>\n      <th>OAK</th>\n      <td>17</td>\n      <td>1985</td>\n      <td>Oakland Athletics</td>\n      <td>162</td>\n      <td>77</td>\n      <td>85</td>\n      <td>9058606</td>\n    </tr>\n    <tr>\n      <th>PHI</th>\n      <td>18</td>\n      <td>1985</td>\n      <td>Philadelphia Phillies</td>\n      <td>162</td>\n      <td>75</td>\n      <td>87</td>\n      <td>10124966</td>\n    </tr>\n    <tr>\n      <th>PIT</th>\n      <td>19</td>\n      <td>1985</td>\n      <td>Pittsburgh Pirates</td>\n      <td>161</td>\n      <td>57</td>\n      <td>104</td>\n      <td>9227500</td>\n    </tr>\n    <tr>\n      <th>SDN</th>\n      <td>20</td>\n      <td>1985</td>\n      <td>San Diego Padres</td>\n      <td>162</td>\n      <td>83</td>\n      <td>79</td>\n      <td>11036583</td>\n    </tr>\n    <tr>\n      <th>SEA</th>\n      <td>21</td>\n      <td>1985</td>\n      <td>Seattle Mariners</td>\n      <td>162</td>\n      <td>74</td>\n      <td>88</td>\n      <td>4613000</td>\n    </tr>\n    <tr>\n      <th>SFN</th>\n      <td>22</td>\n      <td>1985</td>\n      <td>San Francisco Giants</td>\n      <td>162</td>\n      <td>62</td>\n      <td>100</td>\n      <td>8221714</td>\n    </tr>\n    <tr>\n      <th>SLN</th>\n      <td>23</td>\n      <td>1985</td>\n      <td>St. Louis Cardinals</td>\n      <td>162</td>\n      <td>101</td>\n      <td>61</td>\n      <td>11817083</td>\n    </tr>\n    <tr>\n      <th>TEX</th>\n      <td>24</td>\n      <td>1985</td>\n      <td>Texas Rangers</td>\n      <td>161</td>\n      <td>62</td>\n      <td>99</td>\n      <td>7676500</td>\n    </tr>\n    <tr>\n      <th>TOR</th>\n      <td>25</td>\n      <td>1985</td>\n      <td>Toronto Blue Jays</td>\n      <td>161</td>\n      <td>99</td>\n      <td>62</td>\n      <td>8812550</td>\n    </tr>\n  </tbody>\n</table>\n</div>"
     },
     "metadata": {},
     "execution_count": 7
    }
   ],
   "source": [
    "total_salary_per_team_df = final_team_df.join(salary_df)\n",
    "\n",
    "total_salary_per_team_df"
   ]
  },
  {
   "cell_type": "code",
   "execution_count": 8,
   "metadata": {},
   "outputs": [],
   "source": [
    "total_salary_per_team_df.to_csv('1985_team_salary.csv')"
   ]
  },
  {
   "cell_type": "code",
   "execution_count": null,
   "metadata": {},
   "outputs": [],
   "source": []
  },
  {
   "cell_type": "code",
   "execution_count": null,
   "metadata": {},
   "outputs": [],
   "source": []
  }
 ]
}